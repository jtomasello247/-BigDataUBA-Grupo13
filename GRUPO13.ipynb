{
 "cells": [
  {
   "cell_type": "code",
   "execution_count": 4,
   "id": "d8ae9d03-df71-4ae8-a6d4-cb842ce8c962",
   "metadata": {},
   "outputs": [
    {
     "name": "stdout",
     "output_type": "stream",
     "text": [
      "hola\n"
     ]
    }
   ],
   "source": [
    "mivariable = \"hola\"\n",
    "print(mivariable)"
   ]
  },
  {
   "cell_type": "code",
   "execution_count": null,
   "id": "3b5c6507-a400-4e82-b96b-3bf32daeced4",
   "metadata": {},
   "outputs": [],
   "source": []
  }
 ],
 "metadata": {
  "kernelspec": {
   "display_name": "Python [conda env:base] *",
   "language": "python",
   "name": "conda-base-py"
  },
  "language_info": {
   "codemirror_mode": {
    "name": "ipython",
    "version": 3
   },
   "file_extension": ".py",
   "mimetype": "text/x-python",
   "name": "python",
   "nbconvert_exporter": "python",
   "pygments_lexer": "ipython3",
   "version": "3.12.7"
  }
 },
 "nbformat": 4,
 "nbformat_minor": 5
}
