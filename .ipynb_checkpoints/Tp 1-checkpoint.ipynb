{
 "cells": [
  {
   "cell_type": "code",
   "execution_count": 1,
   "id": "d8ae9d03-df71-4ae8-a6d4-cb842ce8c962",
   "metadata": {},
   "outputs": [],
   "source": [
    "a = (1, 2, 3, 4, 5)"
   ]
  },
  {
   "cell_type": "code",
   "execution_count": 3,
   "id": "eebe3e54-7400-4ac0-ae36-4fc8790de430",
   "metadata": {},
   "outputs": [],
   "source": [
    "b= \"river\""
   ]
  },
  {
   "cell_type": "code",
   "execution_count": null,
   "id": "318bf15b-ef2d-4bac-b7fd-e75526c6cf0e",
   "metadata": {},
   "outputs": [],
   "source": []
  }
 ],
 "metadata": {
  "kernelspec": {
   "display_name": "Python [conda env:base] *",
   "language": "python",
   "name": "conda-base-py"
  },
  "language_info": {
   "codemirror_mode": {
    "name": "ipython",
    "version": 3
   },
   "file_extension": ".py",
   "mimetype": "text/x-python",
   "name": "python",
   "nbconvert_exporter": "python",
   "pygments_lexer": "ipython3",
   "version": "3.12.7"
  }
 },
 "nbformat": 4,
 "nbformat_minor": 5
}
