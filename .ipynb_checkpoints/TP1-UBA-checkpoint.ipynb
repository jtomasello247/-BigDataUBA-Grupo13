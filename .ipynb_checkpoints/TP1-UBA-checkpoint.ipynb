{
 "cells": [
  {
   "cell_type": "markdown",
   "metadata": {
    "collapsed": true,
    "id": "Dh8MkXaG-c9Y",
    "jupyter": {
     "outputs_hidden": true
    }
   },
   "source": [
    "# Big Data y Machine Learning (UBA) -  2025\n",
    "\n",
    "## Trabajo Práctico 1: Jugando con APIs y WebScraping "
   ]
  },
  {
   "cell_type": "markdown",
   "metadata": {
    "id": "RhBlm6mZ-c9e"
   },
   "source": [
    "### Reglas de formato y presentación\n",
    "- El trabajo debe estar debidamente documentado comentado (utilizando #) para que tanto los docentes como sus compañeros puedan comprender el código fácilmente.\n",
    "\n",
    "- El mismo debe ser completado en este Jupyter Notebook y entregado como tal, es decir en un archivo .ipynb\n"
   ]
  },
  {
   "cell_type": "markdown",
   "metadata": {
    "id": "ZEjGaa4U-c9g"
   },
   "source": [
    "### Fecha de entrega:\n",
    "Viernes 4 de Abril a las 13:00 hs"
   ]
  },
  {
   "cell_type": "markdown",
   "metadata": {
    "id": "N9TU2y7E-c9h"
   },
   "source": [
    "### Modalidad de entrega\n",
    "- Al finalizar el trabajo práctico deben hacer un último <i>commit</i> en su repositorio de GitHub llamado “Entrega final del tp”. \n",
    "- Asegurense de haber creado una carpeta llamada TP1. Este Jupyter Notebook y el correspondiente al TP1 deben estar dentro de esa carpeta.\n",
    "- También deben enviar el link de su repositorio -para que pueda ser clonado y corregido- a mi correo 25RO35480961@campus.economicas.uba.ar. Usar de asunto de email <i>\"Big Data - TP 1 - Grupo #\"</i> y nombrar el archivo <i>\"TP1_Grupo #\"</i> donde # es el número de grupo que le fue asignado.\n",
    "- La última versión en el repositorio es la que será evaluada. Por lo que es importante que: \n",
    "    - No envien el correo hasta no haber terminado y estar seguros de que han hecho el <i>commit y push</i> a la versión final que quieren entregar. \n",
    "    - No hagan nuevos <i>push</i> despues de haber entregado su versión final. Esto generaría confusión acerca de que versión es la que quieren que se les corrija.\n",
    "- En resumen, la carpeta del repositorio debe incluir:\n",
    "    - El codigo\n",
    "    - Un documento Word (Parte A) donde esten las figuras y una breve descripción de las mismas.\n",
    "    - El excel con los links webscrappeados (Parte B)"
   ]
  },
  {
   "cell_type": "markdown",
   "metadata": {},
   "source": [
    "### Parte A"
   ]
  },
  {
   "cell_type": "markdown",
   "metadata": {
    "id": "ZXbrPraa-c9i"
   },
   "source": [
    "#### Ejercicio 1 - Jugando con APIs\n",
    "Usando la API del Banco Mundial [link](https://wbdata.readthedocs.io/en/stable/) , obtener dos series de indicadores para dos paises a elección en una consulta de búsqueda. Pueden buscar serie de indicadores de su interés."
   ]
  },
  {
   "cell_type": "code",
   "execution_count": 7,
   "metadata": {},
   "outputs": [
    {
     "name": "stdout",
     "output_type": "stream",
     "text": [
      "Requirement already satisfied: wbdata in f:\\anaconda\\lib\\site-packages (1.0.0)\n",
      "Requirement already satisfied: appdirs<2.0,>=1.4 in f:\\anaconda\\lib\\site-packages (from wbdata) (1.4.4)\n",
      "Requirement already satisfied: backoff<3.0.0,>=2.2.1 in f:\\anaconda\\lib\\site-packages (from wbdata) (2.2.1)\n",
      "Requirement already satisfied: cachetools<6.0.0,>=5.3.2 in f:\\anaconda\\lib\\site-packages (from wbdata) (5.3.3)\n",
      "Requirement already satisfied: dateparser<2.0.0,>=1.2.0 in f:\\anaconda\\lib\\site-packages (from wbdata) (1.2.1)\n",
      "Requirement already satisfied: decorator<6.0.0,>=5.1.1 in f:\\anaconda\\lib\\site-packages (from wbdata) (5.1.1)\n",
      "Requirement already satisfied: requests<3.0,>=2.0 in f:\\anaconda\\lib\\site-packages (from wbdata) (2.32.3)\n",
      "Requirement already satisfied: shelved-cache<0.4.0,>=0.3.1 in f:\\anaconda\\lib\\site-packages (from wbdata) (0.3.1)\n",
      "Requirement already satisfied: tabulate<0.9.0,>=0.8.5 in f:\\anaconda\\lib\\site-packages (from wbdata) (0.8.10)\n",
      "Requirement already satisfied: python-dateutil>=2.7.0 in f:\\anaconda\\lib\\site-packages (from dateparser<2.0.0,>=1.2.0->wbdata) (2.9.0.post0)\n",
      "Requirement already satisfied: pytz>=2024.2 in f:\\anaconda\\lib\\site-packages (from dateparser<2.0.0,>=1.2.0->wbdata) (2025.2)\n",
      "Requirement already satisfied: regex!=2019.02.19,!=2021.8.27,>=2015.06.24 in f:\\anaconda\\lib\\site-packages (from dateparser<2.0.0,>=1.2.0->wbdata) (2024.9.11)\n",
      "Requirement already satisfied: tzlocal>=0.2 in f:\\anaconda\\lib\\site-packages (from dateparser<2.0.0,>=1.2.0->wbdata) (5.3.1)\n",
      "Requirement already satisfied: charset-normalizer<4,>=2 in f:\\anaconda\\lib\\site-packages (from requests<3.0,>=2.0->wbdata) (3.3.2)\n",
      "Requirement already satisfied: idna<4,>=2.5 in f:\\anaconda\\lib\\site-packages (from requests<3.0,>=2.0->wbdata) (3.7)\n",
      "Requirement already satisfied: urllib3<3,>=1.21.1 in f:\\anaconda\\lib\\site-packages (from requests<3.0,>=2.0->wbdata) (2.2.3)\n",
      "Requirement already satisfied: certifi>=2017.4.17 in f:\\anaconda\\lib\\site-packages (from requests<3.0,>=2.0->wbdata) (2025.1.31)\n",
      "Requirement already satisfied: six>=1.5 in f:\\anaconda\\lib\\site-packages (from python-dateutil>=2.7.0->dateparser<2.0.0,>=1.2.0->wbdata) (1.16.0)\n",
      "Requirement already satisfied: tzdata in f:\\anaconda\\lib\\site-packages (from tzlocal>=0.2->dateparser<2.0.0,>=1.2.0->wbdata) (2023.3)\n"
     ]
    }
   ],
   "source": [
    "# Resolver acá\n",
    "import sys\n",
    "!{sys.executable} -m pip install wbdata"
   ]
  },
  {
   "cell_type": "code",
   "execution_count": 8,
   "metadata": {},
   "outputs": [
    {
     "name": "stdout",
     "output_type": "stream",
     "text": [
      "Requirement already satisfied: wbdata in f:\\anaconda\\lib\\site-packages (1.0.0)\n",
      "Requirement already satisfied: appdirs<2.0,>=1.4 in f:\\anaconda\\lib\\site-packages (from wbdata) (1.4.4)\n",
      "Requirement already satisfied: backoff<3.0.0,>=2.2.1 in f:\\anaconda\\lib\\site-packages (from wbdata) (2.2.1)\n",
      "Requirement already satisfied: cachetools<6.0.0,>=5.3.2 in f:\\anaconda\\lib\\site-packages (from wbdata) (5.3.3)\n",
      "Requirement already satisfied: dateparser<2.0.0,>=1.2.0 in f:\\anaconda\\lib\\site-packages (from wbdata) (1.2.1)\n",
      "Requirement already satisfied: decorator<6.0.0,>=5.1.1 in f:\\anaconda\\lib\\site-packages (from wbdata) (5.1.1)\n",
      "Requirement already satisfied: requests<3.0,>=2.0 in f:\\anaconda\\lib\\site-packages (from wbdata) (2.32.3)\n",
      "Requirement already satisfied: shelved-cache<0.4.0,>=0.3.1 in f:\\anaconda\\lib\\site-packages (from wbdata) (0.3.1)\n",
      "Requirement already satisfied: tabulate<0.9.0,>=0.8.5 in f:\\anaconda\\lib\\site-packages (from wbdata) (0.8.10)\n",
      "Requirement already satisfied: python-dateutil>=2.7.0 in f:\\anaconda\\lib\\site-packages (from dateparser<2.0.0,>=1.2.0->wbdata) (2.9.0.post0)\n",
      "Requirement already satisfied: pytz>=2024.2 in f:\\anaconda\\lib\\site-packages (from dateparser<2.0.0,>=1.2.0->wbdata) (2025.2)\n",
      "Requirement already satisfied: regex!=2019.02.19,!=2021.8.27,>=2015.06.24 in f:\\anaconda\\lib\\site-packages (from dateparser<2.0.0,>=1.2.0->wbdata) (2024.9.11)\n",
      "Requirement already satisfied: tzlocal>=0.2 in f:\\anaconda\\lib\\site-packages (from dateparser<2.0.0,>=1.2.0->wbdata) (5.3.1)\n",
      "Requirement already satisfied: charset-normalizer<4,>=2 in f:\\anaconda\\lib\\site-packages (from requests<3.0,>=2.0->wbdata) (3.3.2)\n",
      "Requirement already satisfied: idna<4,>=2.5 in f:\\anaconda\\lib\\site-packages (from requests<3.0,>=2.0->wbdata) (3.7)\n",
      "Requirement already satisfied: urllib3<3,>=1.21.1 in f:\\anaconda\\lib\\site-packages (from requests<3.0,>=2.0->wbdata) (2.2.3)\n",
      "Requirement already satisfied: certifi>=2017.4.17 in f:\\anaconda\\lib\\site-packages (from requests<3.0,>=2.0->wbdata) (2025.1.31)\n",
      "Requirement already satisfied: six>=1.5 in f:\\anaconda\\lib\\site-packages (from python-dateutil>=2.7.0->dateparser<2.0.0,>=1.2.0->wbdata) (1.16.0)\n",
      "Requirement already satisfied: tzdata in f:\\anaconda\\lib\\site-packages (from tzlocal>=0.2->dateparser<2.0.0,>=1.2.0->wbdata) (2023.3)\n"
     ]
    }
   ],
   "source": [
    "!pip install wbdata\n",
    "import wbdata\n",
    "import pandas as pd"
   ]
  },
  {
   "cell_type": "code",
   "execution_count": 9,
   "metadata": {},
   "outputs": [],
   "source": [
    "jobs = wbdata.get_indicators(source=25)"
   ]
  },
  {
   "cell_type": "code",
   "execution_count": 10,
   "metadata": {},
   "outputs": [],
   "source": [
    "paises = wbdata.get_countries()"
   ]
  },
  {
   "cell_type": "code",
   "execution_count": 11,
   "metadata": {},
   "outputs": [
    {
     "data": {
      "text/plain": [
       "[{'indicator': {'id': 'IC.BUS.NREG',\n",
       "   'value': 'New businesses registered (number)'},\n",
       "  'country': {'id': 'ES', 'value': 'Spain'},\n",
       "  'countryiso3code': 'ESP',\n",
       "  'date': '2018',\n",
       "  'value': 93560,\n",
       "  'unit': '',\n",
       "  'obs_status': '',\n",
       "  'decimal': 0},\n",
       " {'indicator': {'id': 'IC.BUS.NREG',\n",
       "   'value': 'New businesses registered (number)'},\n",
       "  'country': {'id': 'ES', 'value': 'Spain'},\n",
       "  'countryiso3code': 'ESP',\n",
       "  'date': '2017',\n",
       "  'value': 92613,\n",
       "  'unit': '',\n",
       "  'obs_status': '',\n",
       "  'decimal': 0},\n",
       " {'indicator': {'id': 'IC.BUS.NREG',\n",
       "   'value': 'New businesses registered (number)'},\n",
       "  'country': {'id': 'ES', 'value': 'Spain'},\n",
       "  'countryiso3code': 'ESP',\n",
       "  'date': '2016',\n",
       "  'value': 98824,\n",
       "  'unit': '',\n",
       "  'obs_status': '',\n",
       "  'decimal': 0},\n",
       " {'indicator': {'id': 'IC.BUS.NREG',\n",
       "   'value': 'New businesses registered (number)'},\n",
       "  'country': {'id': 'PT', 'value': 'Portugal'},\n",
       "  'countryiso3code': 'PRT',\n",
       "  'date': '2018',\n",
       "  'value': 43114,\n",
       "  'unit': '',\n",
       "  'obs_status': '',\n",
       "  'decimal': 0},\n",
       " {'indicator': {'id': 'IC.BUS.NREG',\n",
       "   'value': 'New businesses registered (number)'},\n",
       "  'country': {'id': 'PT', 'value': 'Portugal'},\n",
       "  'countryiso3code': 'PRT',\n",
       "  'date': '2017',\n",
       "  'value': 37571,\n",
       "  'unit': '',\n",
       "  'obs_status': '',\n",
       "  'decimal': 0},\n",
       " {'indicator': {'id': 'IC.BUS.NREG',\n",
       "   'value': 'New businesses registered (number)'},\n",
       "  'country': {'id': 'PT', 'value': 'Portugal'},\n",
       "  'countryiso3code': 'PRT',\n",
       "  'date': '2016',\n",
       "  'value': 33651,\n",
       "  'unit': '',\n",
       "  'obs_status': '',\n",
       "  'decimal': 0}]"
      ]
     },
     "execution_count": 11,
     "metadata": {},
     "output_type": "execute_result"
    }
   ],
   "source": [
    "wbdata.get_data(\"IC.BUS.NREG\", country=[\"ESP\", \"PRT\"], date=(\"2016\", \"2018\"))"
   ]
  },
  {
   "cell_type": "code",
   "execution_count": 12,
   "metadata": {},
   "outputs": [
    {
     "data": {
      "text/html": [
       "<div>\n",
       "<style scoped>\n",
       "    .dataframe tbody tr th:only-of-type {\n",
       "        vertical-align: middle;\n",
       "    }\n",
       "\n",
       "    .dataframe tbody tr th {\n",
       "        vertical-align: top;\n",
       "    }\n",
       "\n",
       "    .dataframe thead th {\n",
       "        text-align: right;\n",
       "    }\n",
       "</style>\n",
       "<table border=\"1\" class=\"dataframe\">\n",
       "  <thead>\n",
       "    <tr style=\"text-align: right;\">\n",
       "      <th></th>\n",
       "      <th>country</th>\n",
       "      <th>date</th>\n",
       "      <th>Negocios_creados</th>\n",
       "      <th>Dias_para_empezar_negocio</th>\n",
       "    </tr>\n",
       "  </thead>\n",
       "  <tbody>\n",
       "    <tr>\n",
       "      <th>0</th>\n",
       "      <td>Spain</td>\n",
       "      <td>2023</td>\n",
       "      <td>NaN</td>\n",
       "      <td>NaN</td>\n",
       "    </tr>\n",
       "    <tr>\n",
       "      <th>1</th>\n",
       "      <td>Spain</td>\n",
       "      <td>2022</td>\n",
       "      <td>96655.0</td>\n",
       "      <td>NaN</td>\n",
       "    </tr>\n",
       "    <tr>\n",
       "      <th>2</th>\n",
       "      <td>Spain</td>\n",
       "      <td>2021</td>\n",
       "      <td>99159.0</td>\n",
       "      <td>NaN</td>\n",
       "    </tr>\n",
       "    <tr>\n",
       "      <th>3</th>\n",
       "      <td>Spain</td>\n",
       "      <td>2020</td>\n",
       "      <td>77541.0</td>\n",
       "      <td>NaN</td>\n",
       "    </tr>\n",
       "    <tr>\n",
       "      <th>4</th>\n",
       "      <td>Spain</td>\n",
       "      <td>2019</td>\n",
       "      <td>92010.0</td>\n",
       "      <td>12.5</td>\n",
       "    </tr>\n",
       "    <tr>\n",
       "      <th>...</th>\n",
       "      <td>...</td>\n",
       "      <td>...</td>\n",
       "      <td>...</td>\n",
       "      <td>...</td>\n",
       "    </tr>\n",
       "    <tr>\n",
       "      <th>123</th>\n",
       "      <td>Portugal</td>\n",
       "      <td>1964</td>\n",
       "      <td>NaN</td>\n",
       "      <td>NaN</td>\n",
       "    </tr>\n",
       "    <tr>\n",
       "      <th>124</th>\n",
       "      <td>Portugal</td>\n",
       "      <td>1963</td>\n",
       "      <td>NaN</td>\n",
       "      <td>NaN</td>\n",
       "    </tr>\n",
       "    <tr>\n",
       "      <th>125</th>\n",
       "      <td>Portugal</td>\n",
       "      <td>1962</td>\n",
       "      <td>NaN</td>\n",
       "      <td>NaN</td>\n",
       "    </tr>\n",
       "    <tr>\n",
       "      <th>126</th>\n",
       "      <td>Portugal</td>\n",
       "      <td>1961</td>\n",
       "      <td>NaN</td>\n",
       "      <td>NaN</td>\n",
       "    </tr>\n",
       "    <tr>\n",
       "      <th>127</th>\n",
       "      <td>Portugal</td>\n",
       "      <td>1960</td>\n",
       "      <td>NaN</td>\n",
       "      <td>NaN</td>\n",
       "    </tr>\n",
       "  </tbody>\n",
       "</table>\n",
       "<p>128 rows × 4 columns</p>\n",
       "</div>"
      ],
      "text/plain": [
       "      country  date  Negocios_creados  Dias_para_empezar_negocio\n",
       "0       Spain  2023               NaN                        NaN\n",
       "1       Spain  2022           96655.0                        NaN\n",
       "2       Spain  2021           99159.0                        NaN\n",
       "3       Spain  2020           77541.0                        NaN\n",
       "4       Spain  2019           92010.0                       12.5\n",
       "..        ...   ...               ...                        ...\n",
       "123  Portugal  1964               NaN                        NaN\n",
       "124  Portugal  1963               NaN                        NaN\n",
       "125  Portugal  1962               NaN                        NaN\n",
       "126  Portugal  1961               NaN                        NaN\n",
       "127  Portugal  1960               NaN                        NaN\n",
       "\n",
       "[128 rows x 4 columns]"
      ]
     },
     "execution_count": 12,
     "metadata": {},
     "output_type": "execute_result"
    }
   ],
   "source": [
    "indicadores = {'IC.BUS.NREG':'Negocios_creados','IC.REG.DURS':'Dias_para_empezar_negocio'}\n",
    "data = wbdata.get_dataframe(indicadores, country=['ESP','PRT'])\n",
    "\n",
    "df = pd.DataFrame(data=data)\n",
    "df.reset_index(inplace=True)\n",
    "df\n"
   ]
  },
  {
   "cell_type": "code",
   "execution_count": 13,
   "metadata": {},
   "outputs": [
    {
     "name": "stdout",
     "output_type": "stream",
     "text": [
      "     country  date  Negocios_creados  Dias_para_empezar_negocio\n",
      "4      Spain  2019           92010.0                       12.5\n",
      "5      Spain  2018           93560.0                       12.5\n",
      "6      Spain  2017           92613.0                       13.0\n",
      "7      Spain  2016           98824.0                       13.0\n",
      "8      Spain  2015           91750.0                       14.0\n",
      "9      Spain  2014           91544.0                       14.0\n",
      "10     Spain  2013           90373.0                       24.0\n",
      "11     Spain  2012           84399.0                       30.0\n",
      "12     Spain  2011           81027.0                       29.0\n",
      "13     Spain  2010           75885.0                       52.0\n",
      "14     Spain  2009           74333.0                       61.0\n",
      "68  Portugal  2019           46880.0                        6.5\n",
      "69  Portugal  2018           43114.0                        6.5\n",
      "70  Portugal  2017           37571.0                        6.5\n",
      "71  Portugal  2016           33651.0                        6.0\n",
      "72  Portugal  2015           34120.0                        6.0\n",
      "73  Portugal  2014           31860.0                        6.0\n",
      "74  Portugal  2013           32081.0                        6.0\n",
      "75  Portugal  2012           27803.0                        7.0\n",
      "76  Portugal  2011           31896.0                        7.0\n",
      "77  Portugal  2010           28501.0                        7.0\n",
      "78  Portugal  2009           28381.0                        7.0\n"
     ]
    }
   ],
   "source": [
    "df['date'] = pd.to_numeric(df['date'], errors='coerce')\n",
    "df_filtrado = df[(df['country'].isin(['Spain', 'Portugal'])) & (df['date'].between(2009, 2019))]\n",
    "print(df_filtrado)\n"
   ]
  },
  {
   "cell_type": "markdown",
   "metadata": {},
   "source": [
    "#### Ejercicio 2 - Repaso de Pandas\n",
    "Realicen una estadistica descriptiva de ambas series de indicadores comparando los dos países."
   ]
  },
  {
   "cell_type": "code",
   "execution_count": 15,
   "metadata": {},
   "outputs": [
    {
     "data": {
      "text/html": [
       "<div>\n",
       "<style scoped>\n",
       "    .dataframe tbody tr th:only-of-type {\n",
       "        vertical-align: middle;\n",
       "    }\n",
       "\n",
       "    .dataframe tbody tr th {\n",
       "        vertical-align: top;\n",
       "    }\n",
       "\n",
       "    .dataframe thead tr th {\n",
       "        text-align: left;\n",
       "    }\n",
       "\n",
       "    .dataframe thead tr:last-of-type th {\n",
       "        text-align: right;\n",
       "    }\n",
       "</style>\n",
       "<table border=\"1\" class=\"dataframe\">\n",
       "  <thead>\n",
       "    <tr>\n",
       "      <th></th>\n",
       "      <th colspan=\"8\" halign=\"left\">date</th>\n",
       "      <th colspan=\"5\" halign=\"left\">Negocios_creados</th>\n",
       "      <th colspan=\"8\" halign=\"left\">Dias_para_empezar_negocio</th>\n",
       "    </tr>\n",
       "    <tr>\n",
       "      <th></th>\n",
       "      <th>count</th>\n",
       "      <th>mean</th>\n",
       "      <th>std</th>\n",
       "      <th>min</th>\n",
       "      <th>25%</th>\n",
       "      <th>50%</th>\n",
       "      <th>75%</th>\n",
       "      <th>max</th>\n",
       "      <th>count</th>\n",
       "      <th>mean</th>\n",
       "      <th>...</th>\n",
       "      <th>75%</th>\n",
       "      <th>max</th>\n",
       "      <th>count</th>\n",
       "      <th>mean</th>\n",
       "      <th>std</th>\n",
       "      <th>min</th>\n",
       "      <th>25%</th>\n",
       "      <th>50%</th>\n",
       "      <th>75%</th>\n",
       "      <th>max</th>\n",
       "    </tr>\n",
       "    <tr>\n",
       "      <th>country</th>\n",
       "      <th></th>\n",
       "      <th></th>\n",
       "      <th></th>\n",
       "      <th></th>\n",
       "      <th></th>\n",
       "      <th></th>\n",
       "      <th></th>\n",
       "      <th></th>\n",
       "      <th></th>\n",
       "      <th></th>\n",
       "      <th></th>\n",
       "      <th></th>\n",
       "      <th></th>\n",
       "      <th></th>\n",
       "      <th></th>\n",
       "      <th></th>\n",
       "      <th></th>\n",
       "      <th></th>\n",
       "      <th></th>\n",
       "      <th></th>\n",
       "      <th></th>\n",
       "    </tr>\n",
       "  </thead>\n",
       "  <tbody>\n",
       "    <tr>\n",
       "      <th>Portugal</th>\n",
       "      <td>11.0</td>\n",
       "      <td>2014.0</td>\n",
       "      <td>3.316625</td>\n",
       "      <td>2009.0</td>\n",
       "      <td>2011.5</td>\n",
       "      <td>2014.0</td>\n",
       "      <td>2016.5</td>\n",
       "      <td>2019.0</td>\n",
       "      <td>11.0</td>\n",
       "      <td>34168.909091</td>\n",
       "      <td>...</td>\n",
       "      <td>35845.5</td>\n",
       "      <td>46880.0</td>\n",
       "      <td>11.0</td>\n",
       "      <td>6.5</td>\n",
       "      <td>0.447214</td>\n",
       "      <td>6.0</td>\n",
       "      <td>6.0</td>\n",
       "      <td>6.5</td>\n",
       "      <td>7.0</td>\n",
       "      <td>7.0</td>\n",
       "    </tr>\n",
       "    <tr>\n",
       "      <th>Spain</th>\n",
       "      <td>11.0</td>\n",
       "      <td>2014.0</td>\n",
       "      <td>3.316625</td>\n",
       "      <td>2009.0</td>\n",
       "      <td>2011.5</td>\n",
       "      <td>2014.0</td>\n",
       "      <td>2016.5</td>\n",
       "      <td>2019.0</td>\n",
       "      <td>11.0</td>\n",
       "      <td>87847.090909</td>\n",
       "      <td>...</td>\n",
       "      <td>92311.5</td>\n",
       "      <td>98824.0</td>\n",
       "      <td>11.0</td>\n",
       "      <td>25.0</td>\n",
       "      <td>17.057257</td>\n",
       "      <td>12.5</td>\n",
       "      <td>13.0</td>\n",
       "      <td>14.0</td>\n",
       "      <td>29.5</td>\n",
       "      <td>61.0</td>\n",
       "    </tr>\n",
       "  </tbody>\n",
       "</table>\n",
       "<p>2 rows × 24 columns</p>\n",
       "</div>"
      ],
      "text/plain": [
       "          date                                                            \\\n",
       "         count    mean       std     min     25%     50%     75%     max   \n",
       "country                                                                    \n",
       "Portugal  11.0  2014.0  3.316625  2009.0  2011.5  2014.0  2016.5  2019.0   \n",
       "Spain     11.0  2014.0  3.316625  2009.0  2011.5  2014.0  2016.5  2019.0   \n",
       "\n",
       "         Negocios_creados                ...                    \\\n",
       "                    count          mean  ...      75%      max   \n",
       "country                                  ...                     \n",
       "Portugal             11.0  34168.909091  ...  35845.5  46880.0   \n",
       "Spain                11.0  87847.090909  ...  92311.5  98824.0   \n",
       "\n",
       "         Dias_para_empezar_negocio                                           \\\n",
       "                             count  mean        std   min   25%   50%   75%   \n",
       "country                                                                       \n",
       "Portugal                      11.0   6.5   0.447214   6.0   6.0   6.5   7.0   \n",
       "Spain                         11.0  25.0  17.057257  12.5  13.0  14.0  29.5   \n",
       "\n",
       "                \n",
       "           max  \n",
       "country         \n",
       "Portugal   7.0  \n",
       "Spain     61.0  \n",
       "\n",
       "[2 rows x 24 columns]"
      ]
     },
     "execution_count": 15,
     "metadata": {},
     "output_type": "execute_result"
    }
   ],
   "source": [
    "df_filtrado.groupby(\"country\").describe()"
   ]
  },
  {
   "cell_type": "code",
   "execution_count": 16,
   "metadata": {},
   "outputs": [
    {
     "data": {
      "text/plain": [
       "Index(['country', 'date', 'Negocios_creados', 'Dias_para_empezar_negocio'], dtype='object')"
      ]
     },
     "execution_count": 16,
     "metadata": {},
     "output_type": "execute_result"
    }
   ],
   "source": [
    "df_filtrado.columns"
   ]
  },
  {
   "cell_type": "code",
   "execution_count": 17,
   "metadata": {},
   "outputs": [
    {
     "data": {
      "text/html": [
       "<div>\n",
       "<style scoped>\n",
       "    .dataframe tbody tr th:only-of-type {\n",
       "        vertical-align: middle;\n",
       "    }\n",
       "\n",
       "    .dataframe tbody tr th {\n",
       "        vertical-align: top;\n",
       "    }\n",
       "\n",
       "    .dataframe thead th {\n",
       "        text-align: right;\n",
       "    }\n",
       "</style>\n",
       "<table border=\"1\" class=\"dataframe\">\n",
       "  <thead>\n",
       "    <tr style=\"text-align: right;\">\n",
       "      <th></th>\n",
       "      <th>country</th>\n",
       "      <th>date</th>\n",
       "      <th>Negocios_creados</th>\n",
       "      <th>Dias_para_empezar_negocio</th>\n",
       "    </tr>\n",
       "  </thead>\n",
       "  <tbody>\n",
       "    <tr>\n",
       "      <th>4</th>\n",
       "      <td>Spain</td>\n",
       "      <td>2019</td>\n",
       "      <td>92010.0</td>\n",
       "      <td>12.5</td>\n",
       "    </tr>\n",
       "    <tr>\n",
       "      <th>5</th>\n",
       "      <td>Spain</td>\n",
       "      <td>2018</td>\n",
       "      <td>93560.0</td>\n",
       "      <td>12.5</td>\n",
       "    </tr>\n",
       "    <tr>\n",
       "      <th>6</th>\n",
       "      <td>Spain</td>\n",
       "      <td>2017</td>\n",
       "      <td>92613.0</td>\n",
       "      <td>13.0</td>\n",
       "    </tr>\n",
       "    <tr>\n",
       "      <th>7</th>\n",
       "      <td>Spain</td>\n",
       "      <td>2016</td>\n",
       "      <td>98824.0</td>\n",
       "      <td>13.0</td>\n",
       "    </tr>\n",
       "    <tr>\n",
       "      <th>8</th>\n",
       "      <td>Spain</td>\n",
       "      <td>2015</td>\n",
       "      <td>91750.0</td>\n",
       "      <td>14.0</td>\n",
       "    </tr>\n",
       "    <tr>\n",
       "      <th>9</th>\n",
       "      <td>Spain</td>\n",
       "      <td>2014</td>\n",
       "      <td>91544.0</td>\n",
       "      <td>14.0</td>\n",
       "    </tr>\n",
       "    <tr>\n",
       "      <th>10</th>\n",
       "      <td>Spain</td>\n",
       "      <td>2013</td>\n",
       "      <td>90373.0</td>\n",
       "      <td>24.0</td>\n",
       "    </tr>\n",
       "    <tr>\n",
       "      <th>11</th>\n",
       "      <td>Spain</td>\n",
       "      <td>2012</td>\n",
       "      <td>84399.0</td>\n",
       "      <td>30.0</td>\n",
       "    </tr>\n",
       "    <tr>\n",
       "      <th>12</th>\n",
       "      <td>Spain</td>\n",
       "      <td>2011</td>\n",
       "      <td>81027.0</td>\n",
       "      <td>29.0</td>\n",
       "    </tr>\n",
       "    <tr>\n",
       "      <th>13</th>\n",
       "      <td>Spain</td>\n",
       "      <td>2010</td>\n",
       "      <td>75885.0</td>\n",
       "      <td>52.0</td>\n",
       "    </tr>\n",
       "    <tr>\n",
       "      <th>14</th>\n",
       "      <td>Spain</td>\n",
       "      <td>2009</td>\n",
       "      <td>74333.0</td>\n",
       "      <td>61.0</td>\n",
       "    </tr>\n",
       "    <tr>\n",
       "      <th>68</th>\n",
       "      <td>Portugal</td>\n",
       "      <td>2019</td>\n",
       "      <td>46880.0</td>\n",
       "      <td>6.5</td>\n",
       "    </tr>\n",
       "    <tr>\n",
       "      <th>69</th>\n",
       "      <td>Portugal</td>\n",
       "      <td>2018</td>\n",
       "      <td>43114.0</td>\n",
       "      <td>6.5</td>\n",
       "    </tr>\n",
       "    <tr>\n",
       "      <th>70</th>\n",
       "      <td>Portugal</td>\n",
       "      <td>2017</td>\n",
       "      <td>37571.0</td>\n",
       "      <td>6.5</td>\n",
       "    </tr>\n",
       "    <tr>\n",
       "      <th>71</th>\n",
       "      <td>Portugal</td>\n",
       "      <td>2016</td>\n",
       "      <td>33651.0</td>\n",
       "      <td>6.0</td>\n",
       "    </tr>\n",
       "    <tr>\n",
       "      <th>72</th>\n",
       "      <td>Portugal</td>\n",
       "      <td>2015</td>\n",
       "      <td>34120.0</td>\n",
       "      <td>6.0</td>\n",
       "    </tr>\n",
       "    <tr>\n",
       "      <th>73</th>\n",
       "      <td>Portugal</td>\n",
       "      <td>2014</td>\n",
       "      <td>31860.0</td>\n",
       "      <td>6.0</td>\n",
       "    </tr>\n",
       "    <tr>\n",
       "      <th>74</th>\n",
       "      <td>Portugal</td>\n",
       "      <td>2013</td>\n",
       "      <td>32081.0</td>\n",
       "      <td>6.0</td>\n",
       "    </tr>\n",
       "    <tr>\n",
       "      <th>75</th>\n",
       "      <td>Portugal</td>\n",
       "      <td>2012</td>\n",
       "      <td>27803.0</td>\n",
       "      <td>7.0</td>\n",
       "    </tr>\n",
       "    <tr>\n",
       "      <th>76</th>\n",
       "      <td>Portugal</td>\n",
       "      <td>2011</td>\n",
       "      <td>31896.0</td>\n",
       "      <td>7.0</td>\n",
       "    </tr>\n",
       "    <tr>\n",
       "      <th>77</th>\n",
       "      <td>Portugal</td>\n",
       "      <td>2010</td>\n",
       "      <td>28501.0</td>\n",
       "      <td>7.0</td>\n",
       "    </tr>\n",
       "    <tr>\n",
       "      <th>78</th>\n",
       "      <td>Portugal</td>\n",
       "      <td>2009</td>\n",
       "      <td>28381.0</td>\n",
       "      <td>7.0</td>\n",
       "    </tr>\n",
       "  </tbody>\n",
       "</table>\n",
       "</div>"
      ],
      "text/plain": [
       "     country  date  Negocios_creados  Dias_para_empezar_negocio\n",
       "4      Spain  2019           92010.0                       12.5\n",
       "5      Spain  2018           93560.0                       12.5\n",
       "6      Spain  2017           92613.0                       13.0\n",
       "7      Spain  2016           98824.0                       13.0\n",
       "8      Spain  2015           91750.0                       14.0\n",
       "9      Spain  2014           91544.0                       14.0\n",
       "10     Spain  2013           90373.0                       24.0\n",
       "11     Spain  2012           84399.0                       30.0\n",
       "12     Spain  2011           81027.0                       29.0\n",
       "13     Spain  2010           75885.0                       52.0\n",
       "14     Spain  2009           74333.0                       61.0\n",
       "68  Portugal  2019           46880.0                        6.5\n",
       "69  Portugal  2018           43114.0                        6.5\n",
       "70  Portugal  2017           37571.0                        6.5\n",
       "71  Portugal  2016           33651.0                        6.0\n",
       "72  Portugal  2015           34120.0                        6.0\n",
       "73  Portugal  2014           31860.0                        6.0\n",
       "74  Portugal  2013           32081.0                        6.0\n",
       "75  Portugal  2012           27803.0                        7.0\n",
       "76  Portugal  2011           31896.0                        7.0\n",
       "77  Portugal  2010           28501.0                        7.0\n",
       "78  Portugal  2009           28381.0                        7.0"
      ]
     },
     "execution_count": 17,
     "metadata": {},
     "output_type": "execute_result"
    }
   ],
   "source": [
    "df_filtrado"
   ]
  },
  {
   "cell_type": "code",
   "execution_count": 18,
   "metadata": {},
   "outputs": [
    {
     "data": {
      "text/html": [
       "<div>\n",
       "<style scoped>\n",
       "    .dataframe tbody tr th:only-of-type {\n",
       "        vertical-align: middle;\n",
       "    }\n",
       "\n",
       "    .dataframe tbody tr th {\n",
       "        vertical-align: top;\n",
       "    }\n",
       "\n",
       "    .dataframe thead tr th {\n",
       "        text-align: left;\n",
       "    }\n",
       "\n",
       "    .dataframe thead tr:last-of-type th {\n",
       "        text-align: right;\n",
       "    }\n",
       "</style>\n",
       "<table border=\"1\" class=\"dataframe\">\n",
       "  <thead>\n",
       "    <tr>\n",
       "      <th></th>\n",
       "      <th colspan=\"8\" halign=\"left\">Negocios_creados</th>\n",
       "      <th colspan=\"8\" halign=\"left\">Dias_para_empezar_negocio</th>\n",
       "    </tr>\n",
       "    <tr>\n",
       "      <th></th>\n",
       "      <th>count</th>\n",
       "      <th>mean</th>\n",
       "      <th>std</th>\n",
       "      <th>min</th>\n",
       "      <th>25%</th>\n",
       "      <th>50%</th>\n",
       "      <th>75%</th>\n",
       "      <th>max</th>\n",
       "      <th>count</th>\n",
       "      <th>mean</th>\n",
       "      <th>std</th>\n",
       "      <th>min</th>\n",
       "      <th>25%</th>\n",
       "      <th>50%</th>\n",
       "      <th>75%</th>\n",
       "      <th>max</th>\n",
       "    </tr>\n",
       "    <tr>\n",
       "      <th>country</th>\n",
       "      <th></th>\n",
       "      <th></th>\n",
       "      <th></th>\n",
       "      <th></th>\n",
       "      <th></th>\n",
       "      <th></th>\n",
       "      <th></th>\n",
       "      <th></th>\n",
       "      <th></th>\n",
       "      <th></th>\n",
       "      <th></th>\n",
       "      <th></th>\n",
       "      <th></th>\n",
       "      <th></th>\n",
       "      <th></th>\n",
       "      <th></th>\n",
       "    </tr>\n",
       "  </thead>\n",
       "  <tbody>\n",
       "    <tr>\n",
       "      <th>Portugal</th>\n",
       "      <td>11</td>\n",
       "      <td>34169</td>\n",
       "      <td>6119</td>\n",
       "      <td>27803</td>\n",
       "      <td>30180</td>\n",
       "      <td>32081</td>\n",
       "      <td>35846</td>\n",
       "      <td>46880</td>\n",
       "      <td>11</td>\n",
       "      <td>6</td>\n",
       "      <td>0</td>\n",
       "      <td>6</td>\n",
       "      <td>6</td>\n",
       "      <td>6</td>\n",
       "      <td>7</td>\n",
       "      <td>7</td>\n",
       "    </tr>\n",
       "    <tr>\n",
       "      <th>Spain</th>\n",
       "      <td>11</td>\n",
       "      <td>87847</td>\n",
       "      <td>7827</td>\n",
       "      <td>74333</td>\n",
       "      <td>82713</td>\n",
       "      <td>91544</td>\n",
       "      <td>92312</td>\n",
       "      <td>98824</td>\n",
       "      <td>11</td>\n",
       "      <td>25</td>\n",
       "      <td>17</td>\n",
       "      <td>12</td>\n",
       "      <td>13</td>\n",
       "      <td>14</td>\n",
       "      <td>30</td>\n",
       "      <td>61</td>\n",
       "    </tr>\n",
       "  </tbody>\n",
       "</table>\n",
       "</div>"
      ],
      "text/plain": [
       "         Negocios_creados                                                  \\\n",
       "                    count   mean   std    min    25%    50%    75%    max   \n",
       "country                                                                     \n",
       "Portugal               11  34169  6119  27803  30180  32081  35846  46880   \n",
       "Spain                  11  87847  7827  74333  82713  91544  92312  98824   \n",
       "\n",
       "         Dias_para_empezar_negocio                               \n",
       "                             count mean std min 25% 50% 75% max  \n",
       "country                                                          \n",
       "Portugal                        11    6   0   6   6   6   7   7  \n",
       "Spain                           11   25  17  12  13  14  30  61  "
      ]
     },
     "execution_count": 18,
     "metadata": {},
     "output_type": "execute_result"
    }
   ],
   "source": [
    "df_estadistico=df_filtrado.groupby(\"country\").describe()\n",
    "df_correcto = df_estadistico.drop([\"date\"], axis=1)\n",
    "df_correcto.round(0).astype(int)"
   ]
  },
  {
   "cell_type": "code",
   "execution_count": 19,
   "metadata": {},
   "outputs": [
    {
     "data": {
      "text/html": [
       "<div>\n",
       "<style scoped>\n",
       "    .dataframe tbody tr th:only-of-type {\n",
       "        vertical-align: middle;\n",
       "    }\n",
       "\n",
       "    .dataframe tbody tr th {\n",
       "        vertical-align: top;\n",
       "    }\n",
       "\n",
       "    .dataframe thead th {\n",
       "        text-align: right;\n",
       "    }\n",
       "</style>\n",
       "<table border=\"1\" class=\"dataframe\">\n",
       "  <thead>\n",
       "    <tr style=\"text-align: right;\">\n",
       "      <th></th>\n",
       "      <th>country</th>\n",
       "      <th>date</th>\n",
       "      <th>Negocios_creados</th>\n",
       "      <th>Dias_para_empezar_negocio</th>\n",
       "    </tr>\n",
       "  </thead>\n",
       "  <tbody>\n",
       "    <tr>\n",
       "      <th>4</th>\n",
       "      <td>Spain</td>\n",
       "      <td>2019</td>\n",
       "      <td>92010.0</td>\n",
       "      <td>12.5</td>\n",
       "    </tr>\n",
       "    <tr>\n",
       "      <th>5</th>\n",
       "      <td>Spain</td>\n",
       "      <td>2018</td>\n",
       "      <td>93560.0</td>\n",
       "      <td>12.5</td>\n",
       "    </tr>\n",
       "    <tr>\n",
       "      <th>6</th>\n",
       "      <td>Spain</td>\n",
       "      <td>2017</td>\n",
       "      <td>92613.0</td>\n",
       "      <td>13.0</td>\n",
       "    </tr>\n",
       "    <tr>\n",
       "      <th>7</th>\n",
       "      <td>Spain</td>\n",
       "      <td>2016</td>\n",
       "      <td>98824.0</td>\n",
       "      <td>13.0</td>\n",
       "    </tr>\n",
       "    <tr>\n",
       "      <th>8</th>\n",
       "      <td>Spain</td>\n",
       "      <td>2015</td>\n",
       "      <td>91750.0</td>\n",
       "      <td>14.0</td>\n",
       "    </tr>\n",
       "    <tr>\n",
       "      <th>9</th>\n",
       "      <td>Spain</td>\n",
       "      <td>2014</td>\n",
       "      <td>91544.0</td>\n",
       "      <td>14.0</td>\n",
       "    </tr>\n",
       "    <tr>\n",
       "      <th>10</th>\n",
       "      <td>Spain</td>\n",
       "      <td>2013</td>\n",
       "      <td>90373.0</td>\n",
       "      <td>24.0</td>\n",
       "    </tr>\n",
       "    <tr>\n",
       "      <th>11</th>\n",
       "      <td>Spain</td>\n",
       "      <td>2012</td>\n",
       "      <td>84399.0</td>\n",
       "      <td>30.0</td>\n",
       "    </tr>\n",
       "    <tr>\n",
       "      <th>12</th>\n",
       "      <td>Spain</td>\n",
       "      <td>2011</td>\n",
       "      <td>81027.0</td>\n",
       "      <td>29.0</td>\n",
       "    </tr>\n",
       "    <tr>\n",
       "      <th>13</th>\n",
       "      <td>Spain</td>\n",
       "      <td>2010</td>\n",
       "      <td>75885.0</td>\n",
       "      <td>52.0</td>\n",
       "    </tr>\n",
       "    <tr>\n",
       "      <th>14</th>\n",
       "      <td>Spain</td>\n",
       "      <td>2009</td>\n",
       "      <td>74333.0</td>\n",
       "      <td>61.0</td>\n",
       "    </tr>\n",
       "    <tr>\n",
       "      <th>68</th>\n",
       "      <td>Portugal</td>\n",
       "      <td>2019</td>\n",
       "      <td>46880.0</td>\n",
       "      <td>6.5</td>\n",
       "    </tr>\n",
       "    <tr>\n",
       "      <th>69</th>\n",
       "      <td>Portugal</td>\n",
       "      <td>2018</td>\n",
       "      <td>43114.0</td>\n",
       "      <td>6.5</td>\n",
       "    </tr>\n",
       "    <tr>\n",
       "      <th>70</th>\n",
       "      <td>Portugal</td>\n",
       "      <td>2017</td>\n",
       "      <td>37571.0</td>\n",
       "      <td>6.5</td>\n",
       "    </tr>\n",
       "    <tr>\n",
       "      <th>71</th>\n",
       "      <td>Portugal</td>\n",
       "      <td>2016</td>\n",
       "      <td>33651.0</td>\n",
       "      <td>6.0</td>\n",
       "    </tr>\n",
       "    <tr>\n",
       "      <th>72</th>\n",
       "      <td>Portugal</td>\n",
       "      <td>2015</td>\n",
       "      <td>34120.0</td>\n",
       "      <td>6.0</td>\n",
       "    </tr>\n",
       "    <tr>\n",
       "      <th>73</th>\n",
       "      <td>Portugal</td>\n",
       "      <td>2014</td>\n",
       "      <td>31860.0</td>\n",
       "      <td>6.0</td>\n",
       "    </tr>\n",
       "    <tr>\n",
       "      <th>74</th>\n",
       "      <td>Portugal</td>\n",
       "      <td>2013</td>\n",
       "      <td>32081.0</td>\n",
       "      <td>6.0</td>\n",
       "    </tr>\n",
       "    <tr>\n",
       "      <th>75</th>\n",
       "      <td>Portugal</td>\n",
       "      <td>2012</td>\n",
       "      <td>27803.0</td>\n",
       "      <td>7.0</td>\n",
       "    </tr>\n",
       "    <tr>\n",
       "      <th>76</th>\n",
       "      <td>Portugal</td>\n",
       "      <td>2011</td>\n",
       "      <td>31896.0</td>\n",
       "      <td>7.0</td>\n",
       "    </tr>\n",
       "    <tr>\n",
       "      <th>77</th>\n",
       "      <td>Portugal</td>\n",
       "      <td>2010</td>\n",
       "      <td>28501.0</td>\n",
       "      <td>7.0</td>\n",
       "    </tr>\n",
       "    <tr>\n",
       "      <th>78</th>\n",
       "      <td>Portugal</td>\n",
       "      <td>2009</td>\n",
       "      <td>28381.0</td>\n",
       "      <td>7.0</td>\n",
       "    </tr>\n",
       "  </tbody>\n",
       "</table>\n",
       "</div>"
      ],
      "text/plain": [
       "     country  date  Negocios_creados  Dias_para_empezar_negocio\n",
       "4      Spain  2019           92010.0                       12.5\n",
       "5      Spain  2018           93560.0                       12.5\n",
       "6      Spain  2017           92613.0                       13.0\n",
       "7      Spain  2016           98824.0                       13.0\n",
       "8      Spain  2015           91750.0                       14.0\n",
       "9      Spain  2014           91544.0                       14.0\n",
       "10     Spain  2013           90373.0                       24.0\n",
       "11     Spain  2012           84399.0                       30.0\n",
       "12     Spain  2011           81027.0                       29.0\n",
       "13     Spain  2010           75885.0                       52.0\n",
       "14     Spain  2009           74333.0                       61.0\n",
       "68  Portugal  2019           46880.0                        6.5\n",
       "69  Portugal  2018           43114.0                        6.5\n",
       "70  Portugal  2017           37571.0                        6.5\n",
       "71  Portugal  2016           33651.0                        6.0\n",
       "72  Portugal  2015           34120.0                        6.0\n",
       "73  Portugal  2014           31860.0                        6.0\n",
       "74  Portugal  2013           32081.0                        6.0\n",
       "75  Portugal  2012           27803.0                        7.0\n",
       "76  Portugal  2011           31896.0                        7.0\n",
       "77  Portugal  2010           28501.0                        7.0\n",
       "78  Portugal  2009           28381.0                        7.0"
      ]
     },
     "execution_count": 19,
     "metadata": {},
     "output_type": "execute_result"
    }
   ],
   "source": [
    "df_filtrado"
   ]
  },
  {
   "cell_type": "markdown",
   "metadata": {},
   "source": [
    "#### Ejercicio 3 - Practicando con Matplotlib\n",
    "Armen dos gráficos distintos usando la librería Matplotlib (repasen Clase 4). Uno programandolo con el estilo *pyplot* y otro gráfico de estilo *orientada a objetos*"
   ]
  },
  {
   "cell_type": "code",
   "execution_count": 21,
   "metadata": {},
   "outputs": [
    {
     "name": "stdout",
     "output_type": "stream",
     "text": [
      "Requirement already satisfied: matplotlib in f:\\anaconda\\lib\\site-packages (3.9.2)\n",
      "Requirement already satisfied: contourpy>=1.0.1 in f:\\anaconda\\lib\\site-packages (from matplotlib) (1.2.0)\n",
      "Requirement already satisfied: cycler>=0.10 in f:\\anaconda\\lib\\site-packages (from matplotlib) (0.11.0)\n",
      "Requirement already satisfied: fonttools>=4.22.0 in f:\\anaconda\\lib\\site-packages (from matplotlib) (4.51.0)\n",
      "Requirement already satisfied: kiwisolver>=1.3.1 in f:\\anaconda\\lib\\site-packages (from matplotlib) (1.4.4)\n",
      "Requirement already satisfied: numpy>=1.23 in f:\\anaconda\\lib\\site-packages (from matplotlib) (1.26.4)\n",
      "Requirement already satisfied: packaging>=20.0 in f:\\anaconda\\lib\\site-packages (from matplotlib) (24.1)\n",
      "Requirement already satisfied: pillow>=8 in f:\\anaconda\\lib\\site-packages (from matplotlib) (10.4.0)\n",
      "Requirement already satisfied: pyparsing>=2.3.1 in f:\\anaconda\\lib\\site-packages (from matplotlib) (3.1.2)\n",
      "Requirement already satisfied: python-dateutil>=2.7 in f:\\anaconda\\lib\\site-packages (from matplotlib) (2.9.0.post0)\n",
      "Requirement already satisfied: six>=1.5 in f:\\anaconda\\lib\\site-packages (from python-dateutil>=2.7->matplotlib) (1.16.0)\n"
     ]
    }
   ],
   "source": [
    "# Resolver acá estilo pyplot\n",
    "!pip install matplotlib\n",
    "import matplotlib.pyplot as plt\n",
    "import os"
   ]
  },
  {
   "cell_type": "code",
   "execution_count": 22,
   "metadata": {},
   "outputs": [
    {
     "data": {
      "text/plain": [
       "<pandas.core.groupby.generic.DataFrameGroupBy object at 0x000001F5DF1509E0>"
      ]
     },
     "execution_count": 22,
     "metadata": {},
     "output_type": "execute_result"
    }
   ],
   "source": [
    "df_grafico = df_filtrado.groupby(by=[\"date\",\"country\"])\n",
    "df_grafico"
   ]
  },
  {
   "cell_type": "code",
   "execution_count": 23,
   "metadata": {},
   "outputs": [
    {
     "data": {
      "text/plain": [
       "(22, 4)"
      ]
     },
     "execution_count": 23,
     "metadata": {},
     "output_type": "execute_result"
    }
   ],
   "source": [
    "df_filtrado.shape"
   ]
  },
  {
   "cell_type": "code",
   "execution_count": 67,
   "metadata": {},
   "outputs": [],
   "source": [
    "españa_dias = df_filtrado[df_filtrado[\"country\"]==\"Spain\"][\"Dias_para_empezar_negocio\"]\n",
    "españa_años = df_filtrado[df_filtrado[\"country\"]==\"Spain\"][\"date\"]\n",
    "\n",
    "portugal_dias = df_filtrado[df_filtrado[\"country\"]==\"Portugal\"][\"Dias_para_empezar_negocio\"]\n",
    "portugal_años = df_filtrado[df_filtrado[\"country\"]==\"Portugal\"][\"date\"]"
   ]
  },
  {
   "cell_type": "code",
   "execution_count": 69,
   "metadata": {},
   "outputs": [
    {
     "data": {
      "image/png": "[encoded data removed]",
      "text/plain": [
       "<Figure size 640x480 with 1 Axes>"
      ]
     },
     "metadata": {},
     "output_type": "display_data"
    }
   ],
   "source": [
    "plt.plot(españa_años, españa_dias, label=\"España\")\n",
    "plt.plot(portugal_años, portugal_dias, label=\"Portugal\")\n",
    "plt.xlabel(\"Año\")\n",
    "plt.ylabel(\"Dias para empezar un negocio\")\n",
    "plt.title(\"Figura 1. Dificultades para emprender\")\n",
    "plt.ylim(5, 65)\n",
    "plt.legend()\n",
    "plt.show()"
   ]
  },
  {
   "cell_type": "code",
   "execution_count": 26,
   "metadata": {},
   "outputs": [
    {
     "data": {
      "text/plain": [
       "<pandas.core.groupby.generic.DataFrameGroupBy object at 0x000001F5E19A1D00>"
      ]
     },
     "execution_count": 26,
     "metadata": {},
     "output_type": "execute_result"
    }
   ],
   "source": [
    "df_grafico = df_filtrado.groupby(by=[\"date\",\"country\"])\n",
    "df_grafico"
   ]
  },
  {
   "cell_type": "code",
   "execution_count": 27,
   "metadata": {},
   "outputs": [
    {
     "data": {
      "text/plain": [
       "(22, 4)"
      ]
     },
     "execution_count": 27,
     "metadata": {},
     "output_type": "execute_result"
    }
   ],
   "source": [
    "df_filtrado.shape"
   ]
  },
  {
   "cell_type": "code",
   "execution_count": 28,
   "metadata": {},
   "outputs": [],
   "source": [
    "y1 = df_filtrado[df_filtrado[\"country\"]==\"Spain\"][\"Negocios_creados\"]\n",
    "x1 = df_filtrado[df_filtrado[\"country\"]==\"Spain\"][\"date\"]\n",
    "\n",
    "y2 = df_filtrado[df_filtrado[\"country\"]==\"Portugal\"][\"Negocios_creados\"]\n",
    "x2 = df_filtrado[df_filtrado[\"country\"]==\"Portugal\"][\"date\"]"
   ]
  },
  {
   "cell_type": "code",
   "execution_count": 29,
   "metadata": {},
   "outputs": [
    {
     "data": {
      "image/png": "[encoded data removed]",
      "text/plain": [
       "<Figure size 640x480 with 1 Axes>"
      ]
     },
     "metadata": {},
     "output_type": "display_data"
    }
   ],
   "source": [
    "plt.plot(x1, y1, label=\"España\")\n",
    "plt.plot(x2, y2, label=\"Portugal\")\n",
    "plt.xlabel(\"Año\")\n",
    "plt.ylabel(\"Negocios creados\")\n",
    "plt.title(\"Figura 2. Dificultades para emprender\")\n",
    "plt.ylim(20000, 100000)\n",
    "plt.legend()\n",
    "plt.show()"
   ]
  },
  {
   "cell_type": "code",
   "execution_count": 31,
   "metadata": {},
   "outputs": [],
   "source": [
    "df_graficado = df_filtrado.set_index([\"date\"])"
   ]
  },
  {
   "cell_type": "code",
   "execution_count": 41,
   "metadata": {},
   "outputs": [
    {
     "name": "stderr",
     "output_type": "stream",
     "text": [
      "C:\\Users\\Juan T\\AppData\\Local\\Temp\\ipykernel_18740\\758860548.py:8: UserWarning: FigureCanvasAgg is non-interactive, and thus cannot be shown\n",
      "  fig.show()\n"
     ]
    },
    {
     "data": {
      "image/png": "[encoded data removed]",
      "text/plain": [
       "<Figure size 1400x800 with 1 Axes>"
      ]
     },
     "metadata": {},
     "output_type": "display_data"
    }
   ],
   "source": [
    "fig, ax = plt.subplots(figsize=(14, 8))\n",
    "ax.bar(x1, y1, label='España', color=\"#AD1519\")  \n",
    "ax.bar(x2, y2, label='Portugal', color=\"#006600\")  \n",
    "ax.set_xlabel(\"\")\n",
    "ax.set_ylabel(\"\")\n",
    "ax.set_title(\"Figura 3. Negocios creados por año (2009-2019)\")\n",
    "ax.legend()\n",
    "fig.show()\n",
    "#decidimos borrar la leyenda del eje y porque suponemos que queda claro con el título principal que nos referimos a negocios creados\n",
    "#lo mismo hicimos con el eje x, creemos que queda claro que estamos hablando de los años."
   ]
  },
  {
   "cell_type": "code",
   "execution_count": 65,
   "metadata": {},
   "outputs": [
    {
     "name": "stderr",
     "output_type": "stream",
     "text": [
      "C:\\Users\\Juan T\\AppData\\Local\\Temp\\ipykernel_18740\\3977633970.py:23: UserWarning: FigureCanvasAgg is non-interactive, and thus cannot be shown\n",
      "  fig.show()\n"
     ]
    },
    {
     "data": {
      "image/png": "[encoded data removed]",
      "text/plain": [
       "<Figure size 1400x800 with 1 Axes>"
      ]
     },
     "metadata": {},
     "output_type": "display_data"
    }
   ],
   "source": [
    "#como bonus, creemos que el gráfico puede mejorar si le incluimos el número exacto sobre cada barra\n",
    "fig, ax = plt.subplots(figsize=(14, 8))\n",
    "\n",
    "bars1 = ax.bar(x1, y1, label='España', color=\"#AD1519\")\n",
    "bars2 = ax.bar(x2, y2, label='Portugal', color=\"#006600\")\n",
    "\n",
    "for bar in bars1:\n",
    "    height = bar.get_height()\n",
    "    ax.text(bar.get_x() + bar.get_width()/2., height,\n",
    "            f'{int(height)}',\n",
    "            ha='center', va='bottom')\n",
    "\n",
    "for bar in bars2:\n",
    "    height = bar.get_height()\n",
    "    ax.text(bar.get_x() + bar.get_width()/2., height,\n",
    "            f'{int(height)}',\n",
    "            ha='center', va='bottom')\n",
    "\n",
    "ax.set_xlabel(\"\")\n",
    "ax.set_ylabel(\"\")\n",
    "ax.set_title(\"Figura 3. Dificultades para emprender (2009-2019)\")\n",
    "ax.legend()\n",
    "fig.show()"
   ]
  },
  {
   "cell_type": "code",
   "execution_count": 53,
   "metadata": {},
   "outputs": [],
   "source": [
    "españa_dias = df_filtrado[df_filtrado[\"country\"]==\"Spain\"][\"Dias_para_empezar_negocio\"]\n",
    "españa_años = df_filtrado[df_filtrado[\"country\"]==\"Spain\"][\"date\"]\n",
    "\n",
    "portugal_dias = df_filtrado[df_filtrado[\"country\"]==\"Portugal\"][\"Dias_para_empezar_negocio\"]\n",
    "portugal_años = df_filtrado[df_filtrado[\"country\"]==\"Portugal\"][\"date\"]"
   ]
  },
  {
   "cell_type": "code",
   "execution_count": 73,
   "metadata": {},
   "outputs": [
    {
     "name": "stderr",
     "output_type": "stream",
     "text": [
      "C:\\Users\\Juan T\\AppData\\Local\\Temp\\ipykernel_18740\\1262780465.py:22: UserWarning: FigureCanvasAgg is non-interactive, and thus cannot be shown\n",
      "  fig.show()\n"
     ]
    },
    {
     "data": {
      "image/png": "[encoded data removed]",
      "text/plain": [
       "<Figure size 1400x800 with 1 Axes>"
      ]
     },
     "metadata": {},
     "output_type": "display_data"
    }
   ],
   "source": [
    "fig, ax = plt.subplots(figsize=(14, 8))\n",
    "\n",
    "bars1 = ax.bar(españa_años , españa_dias, label='España', color=\"#AD1519\")\n",
    "bars2 = ax.bar(portugal_años, portugal_dias , label='Portugal', color=\"#006600\")\n",
    "\n",
    "for bar in bars1:\n",
    "    height = bar.get_height()\n",
    "    ax.text(bar.get_x() + bar.get_width()/2., height,\n",
    "            f'{int(height)}',\n",
    "            ha='center', va='bottom')\n",
    "\n",
    "for bar in bars2:\n",
    "    height = bar.get_height()\n",
    "    ax.text(bar.get_x() + bar.get_width()/2., height,\n",
    "            f'{(height)}',\n",
    "            ha='center', va='bottom')\n",
    "\n",
    "ax.set_xlabel(\"\")\n",
    "ax.set_ylabel(\"\")\n",
    "ax.set_title(\"Figura 3. Días para empezar un negocio (2009-2019)\")\n",
    "ax.legend()\n",
    "fig.show()"
   ]
  },
  {
   "cell_type": "markdown",
   "metadata": {},
   "source": [
    "### Parte B"
   ]
  },
  {
   "cell_type": "markdown",
   "metadata": {},
   "source": [
    "#### Ejercicio 4\n",
    "De la página de noticias del [diario La Nación](https://www.lanacion.com.ar/) o cualquier diario que les interese, utilicen herramientas de web scraping para obtener los **links** de las noticias de la portada. Guarden los links obtenidos en un dataframe y expórtenlo a un archivo de excel.\n",
    "\n",
    "Nota 1: es posible que logren obtener los links a las noticias sin el dominio: \"https://www.lanacion.com.ar/\". De ser así, concatenen el dominio a la ruta del link obtenido, tal que se obtenga un link al que se pueda acceder. Es decir, que las cadenas de caracteres finales tendrán la forma: https://www.lanacion.com.ar/*texto_obtenido*)\n",
    "\n",
    "Nota 2: junto con su entrega, adjunten una captura de la página de noticias al momento de correr su código. Eso servirá al momento de la corrección para verificar que los links obtenidos hacen referencia a las noticias de ese día y hora."
   ]
  },
  {
   "cell_type": "code",
   "execution_count": 109,
   "metadata": {},
   "outputs": [
    {
     "name": "stdout",
     "output_type": "stream",
     "text": [
      "Requirement already satisfied: BeautifulSoup4 in f:\\anaconda\\lib\\site-packages (4.12.3)\n",
      "Requirement already satisfied: soupsieve>1.2 in f:\\anaconda\\lib\\site-packages (from BeautifulSoup4) (2.5)\n"
     ]
    }
   ],
   "source": [
    "!pip install BeautifulSoup4 "
   ]
  },
  {
   "cell_type": "code",
   "execution_count": 110,
   "metadata": {},
   "outputs": [
    {
     "name": "stdout",
     "output_type": "stream",
     "text": [
      "Requirement already satisfied: requests in f:\\anaconda\\lib\\site-packages (2.32.3)\n",
      "Requirement already satisfied: charset-normalizer<4,>=2 in f:\\anaconda\\lib\\site-packages (from requests) (3.3.2)\n",
      "Requirement already satisfied: idna<4,>=2.5 in f:\\anaconda\\lib\\site-packages (from requests) (3.7)\n",
      "Requirement already satisfied: urllib3<3,>=1.21.1 in f:\\anaconda\\lib\\site-packages (from requests) (2.2.3)\n",
      "Requirement already satisfied: certifi>=2017.4.17 in f:\\anaconda\\lib\\site-packages (from requests) (2025.1.31)\n"
     ]
    }
   ],
   "source": [
    "!pip install requests "
   ]
  },
  {
   "cell_type": "code",
   "execution_count": 111,
   "metadata": {},
   "outputs": [],
   "source": [
    "import requests \n",
    "from bs4 import BeautifulSoup \n",
    "import pandas as pd "
   ]
  },
  {
   "cell_type": "code",
   "execution_count": 112,
   "metadata": {},
   "outputs": [],
   "source": [
    "url=\"https://www.lanacion.com.ar/\""
   ]
  },
  {
   "cell_type": "code",
   "execution_count": 113,
   "metadata": {},
   "outputs": [],
   "source": [
    "r = requests.get(\"https://www.lanacion.com.ar/\")\n",
    "contenido = r.content"
   ]
  },
  {
   "cell_type": "code",
   "execution_count": 114,
   "metadata": {},
   "outputs": [],
   "source": [
    "soup = BeautifulSoup (contenido, \"html.parser\")"
   ]
  },
  {
   "cell_type": "code",
   "execution_count": null,
   "metadata": {},
   "outputs": [],
   "source": []
  },
  {
   "cell_type": "code",
   "execution_count": 127,
   "metadata": {},
   "outputs": [
    {
     "name": "stdout",
     "output_type": "stream",
     "text": [
      "\n",
      " VIVOMedidas de Javier MileiHace 5 minJavier MileiDólar hoyPobrezaFMI\n"
     ]
    }
   ],
   "source": [
    "h2_element = soup.find('section', href=())\n",
    "h2_text = h2_element.text.strip()\n",
    "print('\\n', h2_text)"
   ]
  },
  {
   "cell_type": "code",
   "execution_count": 201,
   "metadata": {},
   "outputs": [],
   "source": [
    "h2_elements = soup.find_all('section')"
   ]
  },
  {
   "cell_type": "code",
   "execution_count": 131,
   "metadata": {},
   "outputs": [
    {
     "name": "stdout",
     "output_type": "stream",
     "text": [
      "/clima/\n",
      "https://club.lanacion.com.ar/\n",
      "https://lnmas.lanacion.com.ar/\n",
      "https://foodit.lanacion.com.ar/\n",
      "https://canchallena.lanacion.com.ar/\n",
      "https://bonvivir.com/\n",
      "https://masmusica.lanacion.com.ar/\n",
      "/\n",
      "https://www.lanacion.com.ar/dolar-hoy/\n",
      "https://www.lanacion.com.ar/tema/dolar-blue-tid67294/\n",
      "https://www.lanacion.com.ar/tema/dolar-tarjeta-tid50462/\n",
      "https://www.lanacion.com.ar/tema/dolar-ccl/\n",
      "https://www.lanacion.com.ar/tema/dolar-mep/\n",
      "https://www.lanacion.com.ar/juegos/\n",
      "https://www.lanacion.com.ar/suscriptores/\n",
      "https://newsletter.lanacion.com.ar/?_ga=2.115587013.2111665650.1713785519-1414281100.1711030569\n",
      "https://www.lanacion.com.ar/\n",
      "#\n",
      "https://foodit.lanacion.com.ar/\n",
      "https://club.lanacion.com.ar/\n",
      "https://myaccount.lanacion.com.ar/mi-usuario/\n",
      "https://masmusica.lanacion.com.ar/\n",
      "https://www.lanacion.com.ar/ultimas-noticias/\n",
      "https://www.lanacion.com.ar/transito/\n",
      "https://www.lanacion.com.ar/clima/\n",
      "https://www.lanacion.com.ar/data/\n",
      "https://www.lanacion.com.ar/politica/\n",
      "https://www.lanacion.com.ar/economia/\n",
      "https://www.lanacion.com.ar/economia/IA/\n",
      "https://www.lanacion.com.ar/dolar-hoy/\n",
      "https://www.lanacion.com.ar/economia/campo/\n",
      "https://www.lanacion.com.ar/propiedades/\n",
      "https://www.lanacion.com.ar/economia/comercio-exterior/\n",
      "/autos/\n",
      "https://www.lanacion.com.ar/economia/indices\n",
      "https://www.lanacion.com.ar/el-mundo/\n",
      "https://www.lanacion.com.ar/estados-unidos/\n",
      "https://www.lanacion.com.ar/sociedad/\n",
      "https://www.lanacion.com.ar/buenos-aires/\n",
      "https://www.lanacion.com.ar/seguridad/\n",
      "https://www.lanacion.com.ar/educacion/\n",
      "https://www.lanacion.com.ar/cultura/\n",
      "https://www.lanacion.com.ar/comunidad/\n",
      "/salud/\n",
      "https://www.lanacion.com.ar/ciencia/\n",
      "https://www.lanacion.com.ar/comunidad/hablemos-de-todo/\n",
      "https://www.lanacion.com.ar/opinion/\n",
      "https://www.lanacion.com.ar/editoriales/\n",
      "https://www.lanacion.com.ar/opinion/columnistas/\n",
      "https://www.lanacion.com.ar/opinion/carta-de-suscriptores/\n",
      "https://www.lanacion.com.ar/deportes/\n",
      "https://www.lanacion.com.ar/deportes/futbol/\n",
      "https://www.lanacion.com.ar/deportes/rugby/\n",
      "https://www.lanacion.com.ar/deportes/tenis/\n",
      "https://canchallena.lanacion.com.ar/\n",
      "https://www.lanacion.com.ar/lifestyle/\n",
      "https://www.lanacion.com.ar/juegos/\n",
      "https://www.lanacion.com.ar/turismo/\n",
      "https://www.lanacion.com.ar/tecnologia/\n",
      "https://www.lanacion.com.ar/horoscopo/\n",
      "https://www.lanacion.com.ar/feriados/\n",
      "https://www.lanacion.com.ar/loterias/\n",
      "https://www.lanacion.com.ar/tema/podcasts-tid64878/\n",
      "https://www.lanacion.com.ar/moda-y-belleza/\n",
      "https://www.lanacion.com.ar/espectaculos/\n",
      "https://www.lanacion.com.ar/que-sale/\n",
      "https://www.lanacion.com.ar/cartelera-de-cine\n",
      "https://www.lanacion.com.ar/cartelera-de-teatro\n",
      "https://www.lanacion.com.ar\n",
      "https://edicionimpresa.lanacion.com.ar/la-nacion\n",
      "https://www.lanacion.com.ar/editoriales/\n",
      "https://www.lanacion.com.ar/conversaciones-de-domingo/\n",
      "https://www.lanacion.com.ar/sabado/\n",
      "https://www.lanacion.com.ar/ideas/\n",
      "https://www.lanacion.com.ar/opinion/carta-de-lectores/\n",
      "https://servicios.lanacion.com.ar/edicion-impresa/avisos-funebres\n",
      "https://servicios.lanacion.com.ar/edicion-impresa/avisos-sociales\n",
      "https://www.lanacion.com.ar/revistas/\n",
      "https://www.somosohlala.com/\n",
      "https://www.lanacion.com.ar/revista-hola/\n",
      "https://www.lanacion.com.ar/revista-lugares/\n",
      "https://www.lanacion.com.ar/revista-living/\n",
      "https://es.rollingstone.com/arg/\n",
      "https://www.lanacion.com.ar/revista-jardin/\n",
      "/juegos/\n",
      "/suscriptores/\n",
      "/mis-notas/\n",
      "https://club.lanacion.com.ar/\n",
      "https://canchallena.lanacion.com.ar/\n",
      "https://foodit.lanacion.com.ar/\n",
      "https://bonvivir.com/\n",
      "https://masmusica.lanacion.com.ar/\n",
      "https://lnmas.lanacion.com.ar/\n",
      "https://pdf.lanacion.com.ar/\n",
      "/politica/javier-milei-en-vivo-las-ultimas-medidas-del-gobierno-nid03042025/\n",
      "https://www.lanacion.com.ar/tema/javier-milei-tid67207/\n",
      "https://www.lanacion.com.ar/dolar-hoy/\n",
      "https://www.lanacion.com.ar/tema/pobreza-tid47437/\n",
      "https://www.lanacion.com.ar/tema/fmi-tid1926/\n",
      "/politica/javier-milei-en-vivo-las-ultimas-medidas-del-gobierno-nid03042025/\n",
      "/economia/milei-anunciara-esta-noche-una-negociacion-con-eeuu-para-llegar-a-un-arancel-0-en-algunos-productos-nid03042025/\n",
      "/politica/duro-cruce-de-la-casa-rosada-a-victoria-villarruel-tras-los-intentos-fallidos-por-evitar-la-sesion-nid03042025/\n",
      "/estados-unidos/el-nuevo-mapa-del-comercio-global-region-por-region-quienes-son-los-ganadores-y-perdedores-de-los-nid03042025/\n",
      "/politica/el-peronismo-logro-el-quorum-con-el-apoyo-de-senadores-de-la-ucr-pro-y-un-exlibertario-nid03042025/\n",
      "/el-mundo/giorgia-meloni-queda-muy-mal-parada-por-su-aliado-trump-tras-la-catastrofe-arancelaria-para-la-ue-nid03042025/\n",
      "/politica/por-primera-vez-axel-kicillof-admitio-que-busca-desdoblar-las-elecciones-en-la-provincia-de-buenos-nid03042025/\n",
      "/deportes/futbol/el-gol-de-enzo-fernandez-para-el-triunfo-de-chelsea-sobre-tottenham-por-la-premier-league-nid03042025/\n",
      "/estados-unidos/el-articulo-de-the-new-york-times-que-posteo-milei-como-es-que-se-convirtio-en-el-presidente-nid03042025/\n",
      "/politica/caso-libra-la-oposicion-convoco-a-una-sesion-especial-que-incomoda-a-los-libertarios-en-diputados-nid03042025/\n",
      "/el-mundo/dia-de-la-liberacion-o-dia-de-la-destruccion-trump-abre-una-nueva-era-global-plagada-de-incognitas-nid02042025/\n",
      "/el-mundo/los-aranceles-de-trump-profundizan-el-abismo-entre-eeuu-y-sus-aliados-nid03042025/\n",
      "/economia/mas-incognitas-que-certezas-en-los-sectores-que-podrian-sufrir-el-incremento-del-arancel-al-10-para-nid03042025/\n",
      "/economia/campo/aranceles-de-trump-la-soja-termino-en-rojo-en-los-estados-unidos-y-en-la-argentina-la-nueva-cosecha-nid03042025/\n",
      "/economia/aerolineas-argentinas-tuvo-ganancias-por-primera-vez-desde-la-estatizacion-nid03042025/\n",
      "/cultura/el-gobierno-no-le-renovo-el-contrato-al-fotografo-que-saco-la-foto-al-cabo-que-hirio-a-pablo-grillo-nid03042025/\n",
      "/politica/tras-su-discurso-por-el-2-de-abril-declaran-persona-no-grata-a-javier-milei-en-ushuaia-nid03042025/\n",
      "/sociedad/se-les-quebraba-el-espiritu-monty-roberts-el-vaquero-que-revoluciono-la-relacion-con-los-caballos-e-nid03042025/\n",
      "/sociedad/caos-en-palermo-por-el-show-gratuito-de-tini-stoessel-peleas-entre-fanaticas-y-quejas-de-los-vecinos-nid03042025/\n",
      "/seguridad/la-disputa-familiar-por-la-marca-maradona-exploto-en-el-juicio-por-la-muerte-del-astro-nid03042025/\n",
      "/economia/la-argentina-tuvo-una-leve-caida-de-la-desigualdad-al-final-de-2024-nid03042025/\n",
      "/economia/campo/aranceles-de-trump-la-soja-termino-en-rojo-en-los-estados-unidos-y-en-la-argentina-la-nueva-cosecha-nid03042025/\n",
      "/politica/el-gobierno-quiere-acelerar-la-privatizacion-de-corredores-viales-con-una-intervencion-que-podria-nid03042025/\n",
      "/politica/javier-milei-en-vivo-las-ultimas-medidas-del-gobierno-nid03042025/\n",
      "/propiedades/caballito-el-secreto-del-barrio-que-siempre-sorprende-y-el-despegue-de-una-microzona-trendy-nid03042025/\n",
      "/economia/dolar-el-banco-central-volvio-a-vender-reservas-pero-solo-us10-millones-nid03042025/\n",
      "/seguridad/dura-sancion-a-los-barras-de-velez-que-atacaron-a-policias-cuando-jugaban-un-partido-nid03042025/\n",
      "/espectaculos/personajes/la-historia-desconocida-de-paladium-el-otro-dueno-la-foto-que-desperto-el-interes-de-su-hijo-y-el-nid03042025/\n",
      "/politica/javier-milei-llego-a-estados-unidos-y-busca-su-foto-con-donald-trump-nid03042025/\n",
      "/economia/campo/los-aranceles-de-trump-la-mesa-de-enlace-le-transmitio-su-inquietud-al-gobierno-y-pidio-analizar-el-nid03042025/\n",
      "/politica/jorge-macri-acuso-a-manuel-adorni-de-no-conocer-a-la-ciudad-y-el-vocero-le-respondio-con-una-chicana-nid03042025/\n",
      "/politica/un-ajedrez-inesperado-en-la-lucha-por-el-poder-nid02042025/\n",
      "/cultura/santiago-caputo-es-el-monje-desde-la-tia-ines-y-la-primera-cita-con-duran-barba-un-curriculum-que-nid03042025/\n",
      "/economia/negocios/el-pais-que-casi-expulsan-de-la-union-europea-y-se-recupera-de-a-poco-nid02042025/\n",
      "/deportes/tenis/maradona-en-moscu-el-hincha-fervoroso-las-noches-agitadas-con-alcohol-y-el-top-ten-con-un-doberman-nid03042025/\n",
      "/espectaculos/personajes/juan-verdaguer-un-violin-una-escalera-y-las-invisibles-herramientas-de-un-humorista-unico-nid03042025/\n",
      "/deportes/futbol/boca-cumple-120-anos-mitos-y-verdades-de-su-fundacion-libro-especial-y-camiseta-nueva-nid03042025/\n",
      "/deportes/automovilismo/colapinto-debera-esperar-el-acuerdo-de-alpine-que-ratifica-a-jack-doohan-en-el-gp-de-miami-nid03042025/\n",
      "/deportes/automovilismo/christian-horner-acepto-que-se-tomaron-algunas-determinaciones-demasiado-apresuradas-en-red-bull-nid03042025/\n",
      "/seguridad/caso-kiczka-el-hermano-del-exdiputado-dijo-ser-el-dueno-del-material-de-abuso-infantil-y-le-pidio-nid03042025/\n",
      "/sociedad/adolescentes-el-estres-digital-la-otra-preocupacion-que-suman-las-redes-sociales-nid03042025/\n",
      "/tecnologia/para-competir-con-starlink-los-primeros-27-satelites-kuiper-de-amazon-iran-al-espacio-este-miercoles-nid03042025/\n",
      "/lifestyle/avro-691-lancastrian-un-ataque-terrorista-teorias-extraterrestres-y-un-misterio-que-duro-mas-de-nid03042025/\n",
      "/lifestyle/en-las-redes/la-nasa-informo-que-el-asteroide-2024-yr4-podria-impactar-contra-la-luna-en-2032-nid03042025/\n",
      "/revista-hola/tiene-56-anos-fue-supermodelo-en-los-90-y-hoy-se-luce-en-otra-faceta-mi-carrera-como-modelo-fue-una-nid03042025/\n",
      "/revista-hola/los-65-de-marcelo-tinelli-todas-las-fotos-y-los-invitados-de-una-super-fiesta-en-las-alturas-nid03042025/\n",
      "/espectaculos/personajes/raquel-mancini-de-su-vuelta-al-trabajo-a-por-que-se-mudo-con-su-mama-y-quien-es-su-pareja-nid03042025/\n",
      "https://masmusica.lanacion.com.ar/\n",
      "/deportes/fue-campeon-en-la-argentina-se-instalo-en-el-sur-de-la-india-y-cumple-su-sueno-me-considero-un-poco-nid03042025/\n",
      "/espectaculos/personajes/rosamund-pike-recordo-la-vergonzosa-situacion-que-vivio-mientras-filmaba-una-escena-de-sexo-con-nid03042025/\n",
      "/lifestyle/no-se-dejaba-tocar-pero-estaba-tan-enferma-que-maullo-hasta-que-ella-entendio-lo-que-necesitaba-nid03042025/\n",
      "/espectaculos/personajes/el-pedido-de-ayuda-de-peter-lanzani-y-su-novia-luego-de-sufrir-un-robo-en-neuquen-a-dos-semanas-de-nid03042025/\n",
      "/tecnologia/mapas-mentales-y-busqueda-de-fuentes-como-notebooklm-la-ia-de-google-te-ayuda-a-estudiar-mejor-nid03042025/\n",
      "/revista-living/despues-de-anos-de-alquilar-casas-de-vacaciones-en-el-delta-una-disenadora-decidio-construir-la-suya-nid03042025/\n",
      "/juegos/trivias/trivia-exclusiva-cuanto-sabes-sobre-kobe-bryant-nid03042025/\n",
      "/seguridad/batalla-campal-entre-policias-que-jugaban-un-partido-de-futbol-5-y-fueron-atacados-por-barras-bravas-nid03042025/\n",
      "/espectaculos/personajes/michelle-williams-el-osado-regreso-de-la-actriz-que-se-le-planto-a-hollywood-y-casi-abandona-su-nid03042025/\n",
      "/tecnologia/usan-ia-para-evaluar-la-edad-del-corazon-y-adelantar-la-deteccion-de-enfermedades-cardiacas-nid03042025/\n",
      "/el-mundo/una-revista-publico-fotos-de-la-princesa-leonor-en-bikini-en-uruguay-y-genero-revuelo-en-espana-nid03042025/\n",
      "https://foodit.lanacion.com.ar/\n",
      "https://foodit.lanacion.com.ar/recetas/que-cocinar-hoy/facil/\n",
      "https://foodit.lanacion.com.ar/trucos/\n",
      "https://foodit.lanacion.com.ar/masterclass/\n",
      "https://suscripciones.lanacion.com.ar/suscripcion/V/3?cv=800&fc=831\n",
      "https://foodit.lanacion.com.ar/\n",
      "https://suscripciones.lanacion.com.ar/suscripcion/V/3?cv=800&fc=831\n",
      "https://foodit.lanacion.com.ar/recetas/fajitas-de-bondiola-con-salsa-de-yogur-nid19032025/\n",
      "https://www.lanacion.com.ar/juegos/\n",
      "/juegos/nexos/\n",
      "/juegos/cruci-tematico/\n",
      "/juegos/panal-de-letras/\n",
      "/juegos/sudoku/\n",
      "https://www.lanacion.com.ar/que-sale/\n",
      "https://www.lanacion.com.ar/opinion/\n",
      "/opinion/scaloni-julio-bocca-y-la-generacion-dorada-tres-cursos-para-la-politica-nid02042025/\n",
      "/opinion/malvinas-milei-entre-el-alineamiento-con-trump-el-narcisismo-y-la-improvisacion-nid03042025/\n",
      "/opinion/deepseek-y-medicina-nid03042025/\n",
      "https://www.lanacion.com.ar/editoriales/\n",
      "/editoriales/malvinas-honrar-a-los-heroes-senalar-a-los-mentirosos-nid03042025/\n",
      "/editoriales/los-25-anos-de-cippec-nid03042025/\n",
      "/economia/la-turbulencia-no-derriba-aviones-nid02042025/\n",
      "https://www.lanacion.com.ar/economia/IA/\n",
      "https://www.lanacion.com.ar/tema/inteligencia-artificial-tid58563/\n",
      "https://www.lanacion.com.ar/tema/criptomonedas-tid63718/\n",
      "https://www.lanacion.com.ar/tema/bitcoins-tid49651/\n",
      "https://www.lanacion.com.ar/tema/robots-tid48565/\n",
      "/tecnologia/efecto-ghibli-chatgpt-genero-700-millones-de-imagenes-en-una-semana-nid03042025/\n",
      "/economia/IA/un-diario-italiano-publico-un-suplemento-realizado-exclusivamente-con-inteligencia-artificial-nid02042025/\n",
      "/tecnologia/innovacion-en-la-nube-cual-es-el-motor-clave-para-la-transformacion-empresarial-nid03042025/\n",
      "/economia/campo/medida-el-gobierno-realizo-un-fuerte-cambio-en-fertilizantes-y-sturzenegger-sorprendio-con-un-nid03042025/\n",
      "/economia/campo/dia-de-los-lamentos-muy-volatil-la-soja-baja-tras-los-aranceles-del-dia-de-la-liberacion-de-donald-nid03042025/\n",
      "/economia/campo/emplea-a-180-personas-una-empresa-del-agro-reducira-salarios-horas-de-trabajo-y-no-descarta-avanzar-nid02042025/\n",
      "/economia/campo/dia-de-la-liberacion-el-arancel-universal-de-trump-puso-en-alerta-a-decenas-de-exportadores-del-agro-nid02042025/\n",
      "https://www.lanacion.com.ar/tecnologia/\n",
      "/tecnologia/los-10-famosos-con-mas-seguidores-en-instagram-x-y-tiktok-nid03042025/\n",
      "/tecnologia/cuales-son-los-tres-signos-con-menos-suerte-en-abril-2025-segun-la-inteligencia-artificial-nid03042025/\n",
      "/tecnologia/como-activar-el-modo-chavo-del-8-en-whatsapp-nid03042025/\n",
      "/espectaculos/a-que-hora-es-el-recital-gratuito-de-tini-en-palermo-nid03042025/\n",
      "/espectaculos/es-un-clasico-aterrizo-en-netflix-en-2025-y-muchos-aseguran-que-es-la-mejor-de-la-historia-nid03042025/\n",
      "/espectaculos/el-video-de-la-pelea-campal-entre-las-fanaticas-de-tini-stoessel-en-palermo-nid03042025/\n",
      "/lifestyle/en-las-redes/los-impactantes-videos-que-muestran-como-es-viajar-en-un-taxi-aereo-en-china-nid03042025/\n",
      "/horoscopo/horoscopo-que-dice-tu-ascendente-para-hoy-y-el-fin-de-semana-del-4-de-abril-nid03042025/\n",
      "/lifestyle/en-las-redes/hallaron-un-resto-arqueologico-que-confirmaria-el-sitio-donde-sepultaron-a-jesus-nid03042025/\n",
      "/lifestyle/en-las-redes/el-motivo-por-el-que-no-se-recomienda-tener-fotos-familiares-en-la-habitacion-nid03042025/\n",
      "/el-mundo/una-revista-publico-fotos-de-la-princesa-leonor-en-bikini-en-uruguay-y-genero-revuelo-en-espana-nid03042025/\n",
      "/politica/un-ajedrez-inesperado-en-la-lucha-por-el-poder-nid02042025/\n",
      "/sociedad/un-joven-de-la-plata-se-accidento-en-andorra-y-esta-en-grave-estado-nid03042025/\n",
      "/seguridad/detuvieron-a-un-joven-de-20-anos-en-paraguay-por-el-asesinato-de-magali-levy-en-recoleta-nid03042025/\n",
      "/sociedad/la-mugre-se-volvio-parte-del-paisaje-el-impensado-barrio-porteno-que-concentra-las-quejas-por-nid03042025/\n",
      "/lifestyle/festejo-a-lo-grande-asi-se-celebraron-los-70-anos-de-fabrica-santa-isabel-de-renault-la-primera-nid03042025/\n",
      "https://www.lanacion.com.ar/deportes/\n",
      "/deportes/tenis/el-expreparador-fisico-de-sinner-demonizado-por-haber-comprado-la-sustancia-prohibida-le-apunto-al-nid03042025/\n",
      "https://www.lanacion.com.ar/economia/\n",
      "https://www.lanacion.com.ar/dolar-hoy/\n",
      "https://www.lanacion.com.ar/economia/indices/\n",
      "/economia/campo/\n",
      "/economia/negocios/\n",
      "https://www.lanacion.com.ar/tema/emprendedores-tid53673/\n",
      "/propiedades/\n",
      "/economia/milei-se-reunio-con-el-presidente-del-banco-mundial-quien-destaco-que-trabaja-en-un-paquete-de-apoyo-nid02042025/\n",
      "/economia/foro-llao-llao-sin-candidatos-ni-funcionarios-comenzo-la-decima-edicion-del-encuentro-que-reune-a-nid02042025/\n",
      "/economia/negocios/cadenas-de-oro-las-acciones-y-el-dilema-de-los-ejecutivos-nid29032025/\n",
      "/economia/negocios/el-cafe-argentino-que-se-destaca-en-un-famoso-barrio-madrileno-nid27032025/\n",
      "https://www.lanacion.com.ar/espectaculos/\n",
      "/espectaculos/personajes/postrado-en-una-cama-y-casi-sin-voz-asi-vivio-val-kilmer-sus-ultimos-anos-de-vida-nid03042025/\n",
      "/espectaculos/personajes/macaulay-culkin-y-una-fuerte-reflexion-sobre-las-historias-de-estrellas-infantiles-nadie-quiere-nid03042025/\n",
      "/espectaculos/personajes/en-fotos-marcelo-tinelli-festejo-su-cumpleanos-con-su-familia-y-amigos-nid03042025/\n",
      "https://www.lanacion.com.ar/que-sale/\n",
      "https://www.lanacion.com.ar/tema/estrenos-de-cine-tid55959/\n",
      "https://www.lanacion.com.ar/tema/estrenos-de-teatro-tid65022/\n",
      "https://www.lanacion.com.ar/tema/vinos-tid28732/\n",
      "https://www.lanacion.com.ar/tema/restaurantes-tid57295/\n",
      "/que-sale/de-narda-lepes-a-betular-quienes-son-los-mas-de-40-reconocidos-chefs-que-cocinaran-por-bahia-blanca-nid02042025/\n",
      "/que-sale/tapeando-2025-el-mapa-con-los-restaurantes-que-ofrecen-tapas-a-precios-especiales-nid19032025/\n",
      "/sabado/el-bodegon-que-le-devolvio-su-identidad-al-bajo-de-san-isidro-nid28032025/\n",
      "/que-sale/el-eternauta-en-netflix-cuando-se-estrena-la-serie-con-ricardo-darin-nid03042025/\n",
      "https://www.lanacion.com.ar/salud/\n",
      "/salud/vida_sana/\n",
      "/salud/nutricion/\n",
      "/salud/fitness/\n",
      "/salud/mente/\n",
      "/salud/descanso/\n",
      "/turismo/viajes/\n",
      "/salud/nutricion/ni-manzana-ni-cereza-la-joya-roja-que-estimula-el-colageno-naturalmente-y-ya-se-cultiva-en-el-pais-nid03042025/\n",
      "/salud/las-mejores-piscinas-naturales-del-nordeste-de-brasil-para-nadar-entre-peces-de-colores-nid02042025/\n",
      "/salud/mente/ni-casados-ni-solteros-agamia-el-fenomeno-que-gana-terreno-entre-los-jovenes-nid31032025/\n",
      "/salud/nutricion/un-especialista-explica-que-ocurre-cuando-se-consume-vitamina-d-y-magnesio-al-mismo-tiempo-nid03042025/\n",
      "https://www.lanacion.com.ar/autos/\n",
      "/autos/tendencias/\n",
      "/autos/test-drive/\n",
      "/autos/electricos/\n",
      "/autos/manejaba-a-16kmh-lo-multaron-por-exceso-de-velocidad-y-cambio-el-destino-de-su-empresa-para-siempre-nid02042025/\n",
      "/autos/vtv-estos-son-los-cuatro-errores-mas-comunes-de-quienes-no-pasan-la-revision-nid01042025/\n",
      "/autos/las-fabricas-de-autos-del-futuro-y-el-desafio-chino-como-se-preparan-las-automotrices-para-la-nueva-nid01042025/\n",
      "/autos/una-pickup-volvio-a-ser-la-mas-vendida-y-los-patentamientos-de-autos-cerraron-el-mejor-primer-nid31032025/\n",
      "https://www.lanacion.com.ar/propiedades/\n",
      "/propiedades/casas-y-departamentos/\n",
      "/propiedades/construccion-y-diseno/\n",
      "/propiedades/inmuebles-comerciales/\n",
      "/propiedades/inversiones/\n",
      "/propiedades/casas-y-departamentos/creditos-hipotecarios-cuanto-hay-que-ganar-para-comprar-un-departamento-nid01042025/\n",
      "/propiedades/construccion-y-diseno/el-invento-que-promete-revolucionar-la-construccion-levantar-paredes-sin-cemento-y-con-piezas-que-nid01042025/\n",
      "/propiedades/el-edificio-que-costo-us1100-millones-y-gano-el-premio-a-mejor-rascacielos-del-mundo-nid31032025/\n",
      "/propiedades/casas-y-departamentos/alquileres-estos-son-los-impuestos-que-deben-pagar-los-propietarios-nid31032025/\n",
      "https://www.lanacion.com.ar/economia/campo/\n",
      "https://lncampo.lanacion.com.ar/remates\n",
      "/economia/campo/agricultura/\n",
      "/economia/campo/ganaderia/\n",
      "/economia/campo/tecnologias/\n",
      "/economia/campo/regionales/\n",
      "/economia/campo/oportunidad-estrategica-facturo-us1242-millones-una-joya-del-mercado-que-no-para-de-crecer-nid02042025/\n",
      "/economia/campo/escenario-excelente-tras-las-politicas-populistas-lo-que-viene-para-la-ganaderia-son-inversiones-y-nid02042025/\n",
      "/economia/campo/emprendedor-condujo-a-40-soldados-en-malvinas-y-en-la-guerra-vio-un-animal-con-el-cual-hoy-vive-un-nid02042024/\n",
      "/economia/campo/chicos-jugando-a-ser-soldados-fue-a-combatir-a-malvinas-se-salvo-de-milagro-y-hoy-en-un-lugar-unico-nid02042025/\n",
      "https://www.lanacion.com.ar/lifestyle/\n",
      "/lifestyle/llego-negada-a-eeuu-logro-cosas-increibles-y-cuenta-el-lado-a-y-b-de-nueva-york-dejar-la-queja-nid02042025/\n",
      "/lifestyle/esgrima-de-cuchillo-entre-el-facon-gauchesco-las-referencias-borgeanas-y-la-supervivencia-barrial-nid02042025/\n",
      "/lifestyle/tapeando-para-los-amantes-de-las-tapas-un-recorrido-posible-para-celebrar-la-tradicion-espanola-a-nid03042025/\n",
      "/revista-living/una-casa-de-pueblo-que-hoy-es-un-icono-nid02042025/\n",
      "/revista-living/llega-experiencia-living-la-muestra-de-diseno-del-ano-que-no-te-podes-perder-nid31032025/\n",
      "/loterias/ganaron-mas-de-840-millones-en-el-quini-6-cuales-fueron-los-numeros-de-la-suerte-del-sorteo-del-nid03042025/\n",
      "/politica/calendario-de-elecciones-2025-provincia-por-provincia-cuando-se-vota-nid03042025/\n",
      "/espectaculos/como-ver-el-quilmes-rock-2025-en-vivo-nid03042025/\n",
      "/feriados/2025/cuando-es-el-proximo-feriado-de-abril-2025-nid02042025/\n",
      "https://www.lanacion.com.ar/\n",
      "https://www.lanacion.com.ar/ultimas-noticias/\n",
      "https://www.lanacion.com.ar/politica/\n",
      "https://www.lanacion.com.ar/economia/\n",
      "https://www.lanacion.com.ar/el-mundo/\n",
      "https://www.lanacion.com.ar/sociedad/\n",
      "https://www.lanacion.com.ar/opinion/\n",
      "https://www.lanacion.com.ar/deportes/\n",
      "https://www.lanacion.com.ar/lifestyle/\n",
      "https://www.lanacion.com.ar/espectaculos/\n",
      "https://edicionimpresa.lanacion.com.ar/la-nacion?_ga=2.226421138.948268382.1669638459-1845108145.1619557251/\n",
      "https://lnmas.lanacion.com.ar/\n",
      "https://club.lanacion.com.ar/\n",
      "https://www.somosohlala.com/\n",
      "https://www.lanacion.com.ar/revista-hola/\n",
      "https://www.lanacion.com.ar/revista-living/\n",
      "https://www.lanacion.com.ar/revista-jardin/\n",
      "https://www.lanacion.com.ar/revista-lugares/\n",
      "https://es.rollingstone.com/arg/\n",
      "https://bonvivir.com/\n",
      "https://colecciones.lanacion.com.ar\n",
      "https://www.utdt.edu/ver_contenido.php?id_contenido=1111&id_item_menu=2327\n",
      "https://fundacionlanacion.org.ar/\n",
      "https://www.lanacion.com.ar/mapa-del-sitio/\n",
      "https://www.contacto.lanacion.com.ar/ayuda?_ga=2.125953413.948268382.1669638459-1845108145.1619557251\n",
      "https://club.lanacion.com.ar/ayuda/\n",
      "https://www.contacto.lanacion.com.ar/tyc?_ga=2.125953413.948268382.1669638459-1845108145.1619557251/\n",
      "https://www.lanacion.in/\n",
      "https://suscripciones.lanacion.com.ar/suscribirme?_ga=2.159335858.948268382.1669638459-1845108145.1619557251/\n",
      "https://www.facebook.com/lanacion\n",
      "https://x.com/LANACION/\n",
      "https://www.instagram.com/lanacioncom/\n",
      "https://www.lanacion.com.ar/arc/outboundfeeds/rss/?outputType=xml\n",
      "https://play.google.com/store/apps/details?id=app.lanacion.activity&hl=es_419&pli=1\n",
      "https://apps.apple.com/ar/app/la-nacion/id410689702\n",
      "https://policies.google.com/terms?hl=es-419\n",
      "https://policies.google.com/privacy?hl=es-419\n",
      "https://www.gda.com/\n",
      "http://qr.afip.gob.ar/?qr=HJMakbCpenWNdXYfqXtEDQ,,\n"
     ]
    }
   ],
   "source": [
    "links = soup.find_all('a')\n",
    "for link in links:\n",
    "    href = link.get('href')\n",
    "    if href:  # Verifica que haya un enlace\n",
    "        print(href)"
   ]
  },
  {
   "cell_type": "code",
   "execution_count": 199,
   "metadata": {},
   "outputs": [
    {
     "ename": "ValueError",
     "evalue": "setting an array element with a sequence. The requested array has an inhomogeneous shape after 1 dimensions. The detected shape was (322,) + inhomogeneous part.",
     "output_type": "error",
     "traceback": [
      "\u001b[1;31m---------------------------------------------------------------------------\u001b[0m",
      "\u001b[1;31mValueError\u001b[0m                                Traceback (most recent call last)",
      "Cell \u001b[1;32mIn[199], line 1\u001b[0m\n\u001b[1;32m----> 1\u001b[0m df \u001b[38;5;241m=\u001b[39m pd\u001b[38;5;241m.\u001b[39mDataFrame(links, columns\u001b[38;5;241m=\u001b[39m[\u001b[38;5;124m\"\u001b[39m\u001b[38;5;124mLinks\u001b[39m\u001b[38;5;124m\"\u001b[39m])\n",
      "File \u001b[1;32mF:\\Anaconda\\Lib\\site-packages\\pandas\\core\\frame.py:867\u001b[0m, in \u001b[0;36mDataFrame.__init__\u001b[1;34m(self, data, index, columns, dtype, copy)\u001b[0m\n\u001b[0;32m    859\u001b[0m         mgr \u001b[38;5;241m=\u001b[39m arrays_to_mgr(\n\u001b[0;32m    860\u001b[0m             arrays,\n\u001b[0;32m    861\u001b[0m             columns,\n\u001b[1;32m   (...)\u001b[0m\n\u001b[0;32m    864\u001b[0m             typ\u001b[38;5;241m=\u001b[39mmanager,\n\u001b[0;32m    865\u001b[0m         )\n\u001b[0;32m    866\u001b[0m     \u001b[38;5;28;01melse\u001b[39;00m:\n\u001b[1;32m--> 867\u001b[0m         mgr \u001b[38;5;241m=\u001b[39m ndarray_to_mgr(\n\u001b[0;32m    868\u001b[0m             data,\n\u001b[0;32m    869\u001b[0m             index,\n\u001b[0;32m    870\u001b[0m             columns,\n\u001b[0;32m    871\u001b[0m             dtype\u001b[38;5;241m=\u001b[39mdtype,\n\u001b[0;32m    872\u001b[0m             copy\u001b[38;5;241m=\u001b[39mcopy,\n\u001b[0;32m    873\u001b[0m             typ\u001b[38;5;241m=\u001b[39mmanager,\n\u001b[0;32m    874\u001b[0m         )\n\u001b[0;32m    875\u001b[0m \u001b[38;5;28;01melse\u001b[39;00m:\n\u001b[0;32m    876\u001b[0m     mgr \u001b[38;5;241m=\u001b[39m dict_to_mgr(\n\u001b[0;32m    877\u001b[0m         {},\n\u001b[0;32m    878\u001b[0m         index,\n\u001b[1;32m   (...)\u001b[0m\n\u001b[0;32m    881\u001b[0m         typ\u001b[38;5;241m=\u001b[39mmanager,\n\u001b[0;32m    882\u001b[0m     )\n",
      "File \u001b[1;32mF:\\Anaconda\\Lib\\site-packages\\pandas\\core\\internals\\construction.py:319\u001b[0m, in \u001b[0;36mndarray_to_mgr\u001b[1;34m(values, index, columns, dtype, copy, typ)\u001b[0m\n\u001b[0;32m    314\u001b[0m     values \u001b[38;5;241m=\u001b[39m _ensure_2d(values)\n\u001b[0;32m    316\u001b[0m \u001b[38;5;28;01melse\u001b[39;00m:\n\u001b[0;32m    317\u001b[0m     \u001b[38;5;66;03m# by definition an array here\u001b[39;00m\n\u001b[0;32m    318\u001b[0m     \u001b[38;5;66;03m# the dtypes will be coerced to a single dtype\u001b[39;00m\n\u001b[1;32m--> 319\u001b[0m     values \u001b[38;5;241m=\u001b[39m _prep_ndarraylike(values, copy\u001b[38;5;241m=\u001b[39mcopy_on_sanitize)\n\u001b[0;32m    321\u001b[0m \u001b[38;5;28;01mif\u001b[39;00m dtype \u001b[38;5;129;01mis\u001b[39;00m \u001b[38;5;129;01mnot\u001b[39;00m \u001b[38;5;28;01mNone\u001b[39;00m \u001b[38;5;129;01mand\u001b[39;00m values\u001b[38;5;241m.\u001b[39mdtype \u001b[38;5;241m!=\u001b[39m dtype:\n\u001b[0;32m    322\u001b[0m     \u001b[38;5;66;03m# GH#40110 see similar check inside sanitize_array\u001b[39;00m\n\u001b[0;32m    323\u001b[0m     values \u001b[38;5;241m=\u001b[39m sanitize_array(\n\u001b[0;32m    324\u001b[0m         values,\n\u001b[0;32m    325\u001b[0m         \u001b[38;5;28;01mNone\u001b[39;00m,\n\u001b[1;32m   (...)\u001b[0m\n\u001b[0;32m    328\u001b[0m         allow_2d\u001b[38;5;241m=\u001b[39m\u001b[38;5;28;01mTrue\u001b[39;00m,\n\u001b[0;32m    329\u001b[0m     )\n",
      "File \u001b[1;32mF:\\Anaconda\\Lib\\site-packages\\pandas\\core\\internals\\construction.py:575\u001b[0m, in \u001b[0;36m_prep_ndarraylike\u001b[1;34m(values, copy)\u001b[0m\n\u001b[0;32m    569\u001b[0m \u001b[38;5;66;03m# we could have a 1-dim or 2-dim list here\u001b[39;00m\n\u001b[0;32m    570\u001b[0m \u001b[38;5;66;03m# this is equiv of np.asarray, but does object conversion\u001b[39;00m\n\u001b[0;32m    571\u001b[0m \u001b[38;5;66;03m# and platform dtype preservation\u001b[39;00m\n\u001b[0;32m    572\u001b[0m \u001b[38;5;66;03m# does not convert e.g. [1, \"a\", True] to [\"1\", \"a\", \"True\"] like\u001b[39;00m\n\u001b[0;32m    573\u001b[0m \u001b[38;5;66;03m#  np.asarray would\u001b[39;00m\n\u001b[0;32m    574\u001b[0m \u001b[38;5;28;01mif\u001b[39;00m is_list_like(values[\u001b[38;5;241m0\u001b[39m]):\n\u001b[1;32m--> 575\u001b[0m     values \u001b[38;5;241m=\u001b[39m np\u001b[38;5;241m.\u001b[39marray([convert(v) \u001b[38;5;28;01mfor\u001b[39;00m v \u001b[38;5;129;01min\u001b[39;00m values])\n\u001b[0;32m    576\u001b[0m \u001b[38;5;28;01melif\u001b[39;00m \u001b[38;5;28misinstance\u001b[39m(values[\u001b[38;5;241m0\u001b[39m], np\u001b[38;5;241m.\u001b[39mndarray) \u001b[38;5;129;01mand\u001b[39;00m values[\u001b[38;5;241m0\u001b[39m]\u001b[38;5;241m.\u001b[39mndim \u001b[38;5;241m==\u001b[39m \u001b[38;5;241m0\u001b[39m:\n\u001b[0;32m    577\u001b[0m     \u001b[38;5;66;03m# GH#21861 see test_constructor_list_of_lists\u001b[39;00m\n\u001b[0;32m    578\u001b[0m     values \u001b[38;5;241m=\u001b[39m np\u001b[38;5;241m.\u001b[39marray([convert(v) \u001b[38;5;28;01mfor\u001b[39;00m v \u001b[38;5;129;01min\u001b[39;00m values])\n",
      "\u001b[1;31mValueError\u001b[0m: setting an array element with a sequence. The requested array has an inhomogeneous shape after 1 dimensions. The detected shape was (322,) + inhomogeneous part."
     ]
    }
   ],
   "source": [
    "df = pd.DataFrame(links, columns=[\"Links\"])"
   ]
  },
  {
   "cell_type": "code",
   "execution_count": 195,
   "metadata": {},
   "outputs": [
    {
     "ename": "ValueError",
     "evalue": "setting an array element with a sequence. The requested array has an inhomogeneous shape after 1 dimensions. The detected shape was (322,) + inhomogeneous part.",
     "output_type": "error",
     "traceback": [
      "\u001b[1;31m---------------------------------------------------------------------------\u001b[0m",
      "\u001b[1;31mValueError\u001b[0m                                Traceback (most recent call last)",
      "Cell \u001b[1;32mIn[195], line 1\u001b[0m\n\u001b[1;32m----> 1\u001b[0m df \u001b[38;5;241m=\u001b[39m pd\u001b[38;5;241m.\u001b[39mDataFrame(links, columns\u001b[38;5;241m=\u001b[39m[\u001b[38;5;124m\"\u001b[39m\u001b[38;5;124mlinks\u001b[39m\u001b[38;5;124m\"\u001b[39m])\n",
      "File \u001b[1;32mF:\\Anaconda\\Lib\\site-packages\\pandas\\core\\frame.py:867\u001b[0m, in \u001b[0;36mDataFrame.__init__\u001b[1;34m(self, data, index, columns, dtype, copy)\u001b[0m\n\u001b[0;32m    859\u001b[0m         mgr \u001b[38;5;241m=\u001b[39m arrays_to_mgr(\n\u001b[0;32m    860\u001b[0m             arrays,\n\u001b[0;32m    861\u001b[0m             columns,\n\u001b[1;32m   (...)\u001b[0m\n\u001b[0;32m    864\u001b[0m             typ\u001b[38;5;241m=\u001b[39mmanager,\n\u001b[0;32m    865\u001b[0m         )\n\u001b[0;32m    866\u001b[0m     \u001b[38;5;28;01melse\u001b[39;00m:\n\u001b[1;32m--> 867\u001b[0m         mgr \u001b[38;5;241m=\u001b[39m ndarray_to_mgr(\n\u001b[0;32m    868\u001b[0m             data,\n\u001b[0;32m    869\u001b[0m             index,\n\u001b[0;32m    870\u001b[0m             columns,\n\u001b[0;32m    871\u001b[0m             dtype\u001b[38;5;241m=\u001b[39mdtype,\n\u001b[0;32m    872\u001b[0m             copy\u001b[38;5;241m=\u001b[39mcopy,\n\u001b[0;32m    873\u001b[0m             typ\u001b[38;5;241m=\u001b[39mmanager,\n\u001b[0;32m    874\u001b[0m         )\n\u001b[0;32m    875\u001b[0m \u001b[38;5;28;01melse\u001b[39;00m:\n\u001b[0;32m    876\u001b[0m     mgr \u001b[38;5;241m=\u001b[39m dict_to_mgr(\n\u001b[0;32m    877\u001b[0m         {},\n\u001b[0;32m    878\u001b[0m         index,\n\u001b[1;32m   (...)\u001b[0m\n\u001b[0;32m    881\u001b[0m         typ\u001b[38;5;241m=\u001b[39mmanager,\n\u001b[0;32m    882\u001b[0m     )\n",
      "File \u001b[1;32mF:\\Anaconda\\Lib\\site-packages\\pandas\\core\\internals\\construction.py:319\u001b[0m, in \u001b[0;36mndarray_to_mgr\u001b[1;34m(values, index, columns, dtype, copy, typ)\u001b[0m\n\u001b[0;32m    314\u001b[0m     values \u001b[38;5;241m=\u001b[39m _ensure_2d(values)\n\u001b[0;32m    316\u001b[0m \u001b[38;5;28;01melse\u001b[39;00m:\n\u001b[0;32m    317\u001b[0m     \u001b[38;5;66;03m# by definition an array here\u001b[39;00m\n\u001b[0;32m    318\u001b[0m     \u001b[38;5;66;03m# the dtypes will be coerced to a single dtype\u001b[39;00m\n\u001b[1;32m--> 319\u001b[0m     values \u001b[38;5;241m=\u001b[39m _prep_ndarraylike(values, copy\u001b[38;5;241m=\u001b[39mcopy_on_sanitize)\n\u001b[0;32m    321\u001b[0m \u001b[38;5;28;01mif\u001b[39;00m dtype \u001b[38;5;129;01mis\u001b[39;00m \u001b[38;5;129;01mnot\u001b[39;00m \u001b[38;5;28;01mNone\u001b[39;00m \u001b[38;5;129;01mand\u001b[39;00m values\u001b[38;5;241m.\u001b[39mdtype \u001b[38;5;241m!=\u001b[39m dtype:\n\u001b[0;32m    322\u001b[0m     \u001b[38;5;66;03m# GH#40110 see similar check inside sanitize_array\u001b[39;00m\n\u001b[0;32m    323\u001b[0m     values \u001b[38;5;241m=\u001b[39m sanitize_array(\n\u001b[0;32m    324\u001b[0m         values,\n\u001b[0;32m    325\u001b[0m         \u001b[38;5;28;01mNone\u001b[39;00m,\n\u001b[1;32m   (...)\u001b[0m\n\u001b[0;32m    328\u001b[0m         allow_2d\u001b[38;5;241m=\u001b[39m\u001b[38;5;28;01mTrue\u001b[39;00m,\n\u001b[0;32m    329\u001b[0m     )\n",
      "File \u001b[1;32mF:\\Anaconda\\Lib\\site-packages\\pandas\\core\\internals\\construction.py:575\u001b[0m, in \u001b[0;36m_prep_ndarraylike\u001b[1;34m(values, copy)\u001b[0m\n\u001b[0;32m    569\u001b[0m \u001b[38;5;66;03m# we could have a 1-dim or 2-dim list here\u001b[39;00m\n\u001b[0;32m    570\u001b[0m \u001b[38;5;66;03m# this is equiv of np.asarray, but does object conversion\u001b[39;00m\n\u001b[0;32m    571\u001b[0m \u001b[38;5;66;03m# and platform dtype preservation\u001b[39;00m\n\u001b[0;32m    572\u001b[0m \u001b[38;5;66;03m# does not convert e.g. [1, \"a\", True] to [\"1\", \"a\", \"True\"] like\u001b[39;00m\n\u001b[0;32m    573\u001b[0m \u001b[38;5;66;03m#  np.asarray would\u001b[39;00m\n\u001b[0;32m    574\u001b[0m \u001b[38;5;28;01mif\u001b[39;00m is_list_like(values[\u001b[38;5;241m0\u001b[39m]):\n\u001b[1;32m--> 575\u001b[0m     values \u001b[38;5;241m=\u001b[39m np\u001b[38;5;241m.\u001b[39marray([convert(v) \u001b[38;5;28;01mfor\u001b[39;00m v \u001b[38;5;129;01min\u001b[39;00m values])\n\u001b[0;32m    576\u001b[0m \u001b[38;5;28;01melif\u001b[39;00m \u001b[38;5;28misinstance\u001b[39m(values[\u001b[38;5;241m0\u001b[39m], np\u001b[38;5;241m.\u001b[39mndarray) \u001b[38;5;129;01mand\u001b[39;00m values[\u001b[38;5;241m0\u001b[39m]\u001b[38;5;241m.\u001b[39mndim \u001b[38;5;241m==\u001b[39m \u001b[38;5;241m0\u001b[39m:\n\u001b[0;32m    577\u001b[0m     \u001b[38;5;66;03m# GH#21861 see test_constructor_list_of_lists\u001b[39;00m\n\u001b[0;32m    578\u001b[0m     values \u001b[38;5;241m=\u001b[39m np\u001b[38;5;241m.\u001b[39marray([convert(v) \u001b[38;5;28;01mfor\u001b[39;00m v \u001b[38;5;129;01min\u001b[39;00m values])\n",
      "\u001b[1;31mValueError\u001b[0m: setting an array element with a sequence. The requested array has an inhomogeneous shape after 1 dimensions. The detected shape was (322,) + inhomogeneous part."
     ]
    }
   ],
   "source": [
    "df = pd.DataFrame(links, columns=[\"links\"])"
   ]
  },
  {
   "cell_type": "code",
   "execution_count": 185,
   "metadata": {},
   "outputs": [],
   "source": [
    "titulares = titulos_df.iloc[99:105]"
   ]
  },
  {
   "cell_type": "code",
   "execution_count": 187,
   "metadata": {},
   "outputs": [
    {
     "name": "stdout",
     "output_type": "stream",
     "text": [
      "Requirement already satisfied: pandas in f:\\anaconda\\lib\\site-packages (2.2.3)\n",
      "Requirement already satisfied: openpyxl in f:\\anaconda\\lib\\site-packages (3.1.5)\n",
      "Requirement already satisfied: numpy>=1.26.0 in f:\\anaconda\\lib\\site-packages (from pandas) (2.2.4)\n",
      "Requirement already satisfied: python-dateutil>=2.8.2 in f:\\anaconda\\lib\\site-packages (from pandas) (2.9.0.post0)\n",
      "Requirement already satisfied: pytz>=2020.1 in f:\\anaconda\\lib\\site-packages (from pandas) (2025.2)\n",
      "Requirement already satisfied: tzdata>=2022.7 in f:\\anaconda\\lib\\site-packages (from pandas) (2023.3)\n",
      "Requirement already satisfied: et-xmlfile in f:\\anaconda\\lib\\site-packages (from openpyxl) (1.1.0)\n",
      "Requirement already satisfied: six>=1.5 in f:\\anaconda\\lib\\site-packages (from python-dateutil>=2.8.2->pandas) (1.16.0)\n",
      "Note: you may need to restart the kernel to use updated packages.\n"
     ]
    }
   ],
   "source": [
    "pip install pandas openpyxl"
   ]
  },
  {
   "cell_type": "code",
   "execution_count": 189,
   "metadata": {},
   "outputs": [
    {
     "name": "stdout",
     "output_type": "stream",
     "text": [
      "Archivo Excel guardado como 'datos.xlsx'\n"
     ]
    }
   ],
   "source": [
    "titulares.to_excel(\"datos.xlsx\", index=False, engine=\"openpyxl\")\n",
    "\n",
    "print(\"Archivo Excel guardado como 'datos.xlsx'\")"
   ]
  },
  {
   "cell_type": "code",
   "execution_count": null,
   "metadata": {},
   "outputs": [],
   "source": []
  }
 ],
 "metadata": {
  "anaconda-cloud": {},
  "colab": {
   "name": "TP1 - Parte 1.ipynb",
   "provenance": []
  },
  "kernelspec": {
   "display_name": "Python [conda env:base] *",
   "language": "python",
   "name": "conda-base-py"
  },
  "language_info": {
   "codemirror_mode": {
    "name": "ipython",
    "version": 3
   },
   "file_extension": ".py",
   "mimetype": "text/x-python",
   "name": "python",
   "nbconvert_exporter": "python",
   "pygments_lexer": "ipython3",
   "version": "3.12.7"
  }
 },
 "nbformat": 4,
 "nbformat_minor": 4
}
