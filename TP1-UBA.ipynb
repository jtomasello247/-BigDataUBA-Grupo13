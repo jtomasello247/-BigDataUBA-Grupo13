{
 "cells": [
  {
   "cell_type": "markdown",
   "metadata": {
    "collapsed": true,
    "id": "Dh8MkXaG-c9Y",
    "jupyter": {
     "outputs_hidden": true
    }
   },
   "source": [
    "# Big Data y Machine Learning (UBA) -  2025\n",
    "\n",
    "## Trabajo Práctico 1: Jugando con APIs y WebScraping "
   ]
  },
  {
   "cell_type": "markdown",
   "metadata": {
    "id": "RhBlm6mZ-c9e"
   },
   "source": [
    "### Reglas de formato y presentación\n",
    "- El trabajo debe estar debidamente documentado comentado (utilizando #) para que tanto los docentes como sus compañeros puedan comprender el código fácilmente.\n",
    "\n",
    "- El mismo debe ser completado en este Jupyter Notebook y entregado como tal, es decir en un archivo .ipynb\n"
   ]
  },
  {
   "cell_type": "markdown",
   "metadata": {
    "id": "ZEjGaa4U-c9g"
   },
   "source": [
    "### Fecha de entrega:\n",
    "Viernes 4 de Abril a las 13:00 hs"
   ]
  },
  {
   "cell_type": "markdown",
   "metadata": {
    "id": "N9TU2y7E-c9h"
   },
   "source": [
    "### Modalidad de entrega\n",
    "- Al finalizar el trabajo práctico deben hacer un último <i>commit</i> en su repositorio de GitHub llamado “Entrega final del tp”. \n",
    "- Asegurense de haber creado una carpeta llamada TP1. Este Jupyter Notebook y el correspondiente al TP1 deben estar dentro de esa carpeta.\n",
    "- También deben enviar el link de su repositorio -para que pueda ser clonado y corregido- a mi correo 25RO35480961@campus.economicas.uba.ar. Usar de asunto de email <i>\"Big Data - TP 1 - Grupo #\"</i> y nombrar el archivo <i>\"TP1_Grupo #\"</i> donde # es el número de grupo que le fue asignado.\n",
    "- La última versión en el repositorio es la que será evaluada. Por lo que es importante que: \n",
    "    - No envien el correo hasta no haber terminado y estar seguros de que han hecho el <i>commit y push</i> a la versión final que quieren entregar. \n",
    "    - No hagan nuevos <i>push</i> despues de haber entregado su versión final. Esto generaría confusión acerca de que versión es la que quieren que se les corrija.\n",
    "- En resumen, la carpeta del repositorio debe incluir:\n",
    "    - El codigo\n",
    "    - Un documento Word (Parte A) donde esten las figuras y una breve descripción de las mismas.\n",
    "    - El excel con los links webscrappeados (Parte B)"
   ]
  },
  {
   "cell_type": "markdown",
   "metadata": {},
   "source": [
    "### Parte A"
   ]
  },
  {
   "cell_type": "markdown",
   "metadata": {
    "id": "ZXbrPraa-c9i"
   },
   "source": [
    "#### Ejercicio 1 - Jugando con APIs\n",
    "Usando la API del Banco Mundial [link](https://wbdata.readthedocs.io/en/stable/) , obtener dos series de indicadores para dos paises a elección en una consulta de búsqueda. Pueden buscar serie de indicadores de su interés."
   ]
  },
  {
   "cell_type": "code",
   "execution_count": 7,
   "metadata": {},
   "outputs": [
    {
     "name": "stdout",
     "output_type": "stream",
     "text": [
      "Requirement already satisfied: wbdata in f:\\anaconda\\lib\\site-packages (1.0.0)\n",
      "Requirement already satisfied: appdirs<2.0,>=1.4 in f:\\anaconda\\lib\\site-packages (from wbdata) (1.4.4)\n",
      "Requirement already satisfied: backoff<3.0.0,>=2.2.1 in f:\\anaconda\\lib\\site-packages (from wbdata) (2.2.1)\n",
      "Requirement already satisfied: cachetools<6.0.0,>=5.3.2 in f:\\anaconda\\lib\\site-packages (from wbdata) (5.3.3)\n",
      "Requirement already satisfied: dateparser<2.0.0,>=1.2.0 in f:\\anaconda\\lib\\site-packages (from wbdata) (1.2.1)\n",
      "Requirement already satisfied: decorator<6.0.0,>=5.1.1 in f:\\anaconda\\lib\\site-packages (from wbdata) (5.1.1)\n",
      "Requirement already satisfied: requests<3.0,>=2.0 in f:\\anaconda\\lib\\site-packages (from wbdata) (2.32.3)\n",
      "Requirement already satisfied: shelved-cache<0.4.0,>=0.3.1 in f:\\anaconda\\lib\\site-packages (from wbdata) (0.3.1)\n",
      "Requirement already satisfied: tabulate<0.9.0,>=0.8.5 in f:\\anaconda\\lib\\site-packages (from wbdata) (0.8.10)\n",
      "Requirement already satisfied: python-dateutil>=2.7.0 in f:\\anaconda\\lib\\site-packages (from dateparser<2.0.0,>=1.2.0->wbdata) (2.9.0.post0)\n",
      "Requirement already satisfied: pytz>=2024.2 in f:\\anaconda\\lib\\site-packages (from dateparser<2.0.0,>=1.2.0->wbdata) (2025.2)\n",
      "Requirement already satisfied: regex!=2019.02.19,!=2021.8.27,>=2015.06.24 in f:\\anaconda\\lib\\site-packages (from dateparser<2.0.0,>=1.2.0->wbdata) (2024.9.11)\n",
      "Requirement already satisfied: tzlocal>=0.2 in f:\\anaconda\\lib\\site-packages (from dateparser<2.0.0,>=1.2.0->wbdata) (5.3.1)\n",
      "Requirement already satisfied: charset-normalizer<4,>=2 in f:\\anaconda\\lib\\site-packages (from requests<3.0,>=2.0->wbdata) (3.3.2)\n",
      "Requirement already satisfied: idna<4,>=2.5 in f:\\anaconda\\lib\\site-packages (from requests<3.0,>=2.0->wbdata) (3.7)\n",
      "Requirement already satisfied: urllib3<3,>=1.21.1 in f:\\anaconda\\lib\\site-packages (from requests<3.0,>=2.0->wbdata) (2.2.3)\n",
      "Requirement already satisfied: certifi>=2017.4.17 in f:\\anaconda\\lib\\site-packages (from requests<3.0,>=2.0->wbdata) (2025.1.31)\n",
      "Requirement already satisfied: six>=1.5 in f:\\anaconda\\lib\\site-packages (from python-dateutil>=2.7.0->dateparser<2.0.0,>=1.2.0->wbdata) (1.16.0)\n",
      "Requirement already satisfied: tzdata in f:\\anaconda\\lib\\site-packages (from tzlocal>=0.2->dateparser<2.0.0,>=1.2.0->wbdata) (2023.3)\n"
     ]
    }
   ],
   "source": [
    "# Resolver acá\n",
    "import sys\n",
    "!{sys.executable} -m pip install wbdata"
   ]
  },
  {
   "cell_type": "code",
   "execution_count": 8,
   "metadata": {},
   "outputs": [
    {
     "name": "stdout",
     "output_type": "stream",
     "text": [
      "Requirement already satisfied: wbdata in f:\\anaconda\\lib\\site-packages (1.0.0)\n",
      "Requirement already satisfied: appdirs<2.0,>=1.4 in f:\\anaconda\\lib\\site-packages (from wbdata) (1.4.4)\n",
      "Requirement already satisfied: backoff<3.0.0,>=2.2.1 in f:\\anaconda\\lib\\site-packages (from wbdata) (2.2.1)\n",
      "Requirement already satisfied: cachetools<6.0.0,>=5.3.2 in f:\\anaconda\\lib\\site-packages (from wbdata) (5.3.3)\n",
      "Requirement already satisfied: dateparser<2.0.0,>=1.2.0 in f:\\anaconda\\lib\\site-packages (from wbdata) (1.2.1)\n",
      "Requirement already satisfied: decorator<6.0.0,>=5.1.1 in f:\\anaconda\\lib\\site-packages (from wbdata) (5.1.1)\n",
      "Requirement already satisfied: requests<3.0,>=2.0 in f:\\anaconda\\lib\\site-packages (from wbdata) (2.32.3)\n",
      "Requirement already satisfied: shelved-cache<0.4.0,>=0.3.1 in f:\\anaconda\\lib\\site-packages (from wbdata) (0.3.1)\n",
      "Requirement already satisfied: tabulate<0.9.0,>=0.8.5 in f:\\anaconda\\lib\\site-packages (from wbdata) (0.8.10)\n",
      "Requirement already satisfied: python-dateutil>=2.7.0 in f:\\anaconda\\lib\\site-packages (from dateparser<2.0.0,>=1.2.0->wbdata) (2.9.0.post0)\n",
      "Requirement already satisfied: pytz>=2024.2 in f:\\anaconda\\lib\\site-packages (from dateparser<2.0.0,>=1.2.0->wbdata) (2025.2)\n",
      "Requirement already satisfied: regex!=2019.02.19,!=2021.8.27,>=2015.06.24 in f:\\anaconda\\lib\\site-packages (from dateparser<2.0.0,>=1.2.0->wbdata) (2024.9.11)\n",
      "Requirement already satisfied: tzlocal>=0.2 in f:\\anaconda\\lib\\site-packages (from dateparser<2.0.0,>=1.2.0->wbdata) (5.3.1)\n",
      "Requirement already satisfied: charset-normalizer<4,>=2 in f:\\anaconda\\lib\\site-packages (from requests<3.0,>=2.0->wbdata) (3.3.2)\n",
      "Requirement already satisfied: idna<4,>=2.5 in f:\\anaconda\\lib\\site-packages (from requests<3.0,>=2.0->wbdata) (3.7)\n",
      "Requirement already satisfied: urllib3<3,>=1.21.1 in f:\\anaconda\\lib\\site-packages (from requests<3.0,>=2.0->wbdata) (2.2.3)\n",
      "Requirement already satisfied: certifi>=2017.4.17 in f:\\anaconda\\lib\\site-packages (from requests<3.0,>=2.0->wbdata) (2025.1.31)\n",
      "Requirement already satisfied: six>=1.5 in f:\\anaconda\\lib\\site-packages (from python-dateutil>=2.7.0->dateparser<2.0.0,>=1.2.0->wbdata) (1.16.0)\n",
      "Requirement already satisfied: tzdata in f:\\anaconda\\lib\\site-packages (from tzlocal>=0.2->dateparser<2.0.0,>=1.2.0->wbdata) (2023.3)\n"
     ]
    }
   ],
   "source": [
    "!pip install wbdata\n",
    "import wbdata\n",
    "import pandas as pd"
   ]
  },
  {
   "cell_type": "code",
   "execution_count": 9,
   "metadata": {},
   "outputs": [],
   "source": [
    "jobs = wbdata.get_indicators(source=25)"
   ]
  },
  {
   "cell_type": "code",
   "execution_count": 10,
   "metadata": {},
   "outputs": [],
   "source": [
    "paises = wbdata.get_countries()"
   ]
  },
  {
   "cell_type": "code",
   "execution_count": 11,
   "metadata": {},
   "outputs": [
    {
     "data": {
      "text/plain": [
       "[{'indicator': {'id': 'IC.BUS.NREG',\n",
       "   'value': 'New businesses registered (number)'},\n",
       "  'country': {'id': 'ES', 'value': 'Spain'},\n",
       "  'countryiso3code': 'ESP',\n",
       "  'date': '2018',\n",
       "  'value': 93560,\n",
       "  'unit': '',\n",
       "  'obs_status': '',\n",
       "  'decimal': 0},\n",
       " {'indicator': {'id': 'IC.BUS.NREG',\n",
       "   'value': 'New businesses registered (number)'},\n",
       "  'country': {'id': 'ES', 'value': 'Spain'},\n",
       "  'countryiso3code': 'ESP',\n",
       "  'date': '2017',\n",
       "  'value': 92613,\n",
       "  'unit': '',\n",
       "  'obs_status': '',\n",
       "  'decimal': 0},\n",
       " {'indicator': {'id': 'IC.BUS.NREG',\n",
       "   'value': 'New businesses registered (number)'},\n",
       "  'country': {'id': 'ES', 'value': 'Spain'},\n",
       "  'countryiso3code': 'ESP',\n",
       "  'date': '2016',\n",
       "  'value': 98824,\n",
       "  'unit': '',\n",
       "  'obs_status': '',\n",
       "  'decimal': 0},\n",
       " {'indicator': {'id': 'IC.BUS.NREG',\n",
       "   'value': 'New businesses registered (number)'},\n",
       "  'country': {'id': 'PT', 'value': 'Portugal'},\n",
       "  'countryiso3code': 'PRT',\n",
       "  'date': '2018',\n",
       "  'value': 43114,\n",
       "  'unit': '',\n",
       "  'obs_status': '',\n",
       "  'decimal': 0},\n",
       " {'indicator': {'id': 'IC.BUS.NREG',\n",
       "   'value': 'New businesses registered (number)'},\n",
       "  'country': {'id': 'PT', 'value': 'Portugal'},\n",
       "  'countryiso3code': 'PRT',\n",
       "  'date': '2017',\n",
       "  'value': 37571,\n",
       "  'unit': '',\n",
       "  'obs_status': '',\n",
       "  'decimal': 0},\n",
       " {'indicator': {'id': 'IC.BUS.NREG',\n",
       "   'value': 'New businesses registered (number)'},\n",
       "  'country': {'id': 'PT', 'value': 'Portugal'},\n",
       "  'countryiso3code': 'PRT',\n",
       "  'date': '2016',\n",
       "  'value': 33651,\n",
       "  'unit': '',\n",
       "  'obs_status': '',\n",
       "  'decimal': 0}]"
      ]
     },
     "execution_count": 11,
     "metadata": {},
     "output_type": "execute_result"
    }
   ],
   "source": [
    "wbdata.get_data(\"IC.BUS.NREG\", country=[\"ESP\", \"PRT\"], date=(\"2016\", \"2018\"))"
   ]
  },
  {
   "cell_type": "code",
   "execution_count": 12,
   "metadata": {},
   "outputs": [
    {
     "data": {
      "text/html": [
       "<div>\n",
       "<style scoped>\n",
       "    .dataframe tbody tr th:only-of-type {\n",
       "        vertical-align: middle;\n",
       "    }\n",
       "\n",
       "    .dataframe tbody tr th {\n",
       "        vertical-align: top;\n",
       "    }\n",
       "\n",
       "    .dataframe thead th {\n",
       "        text-align: right;\n",
       "    }\n",
       "</style>\n",
       "<table border=\"1\" class=\"dataframe\">\n",
       "  <thead>\n",
       "    <tr style=\"text-align: right;\">\n",
       "      <th></th>\n",
       "      <th>country</th>\n",
       "      <th>date</th>\n",
       "      <th>Negocios_creados</th>\n",
       "      <th>Dias_para_empezar_negocio</th>\n",
       "    </tr>\n",
       "  </thead>\n",
       "  <tbody>\n",
       "    <tr>\n",
       "      <th>0</th>\n",
       "      <td>Spain</td>\n",
       "      <td>2023</td>\n",
       "      <td>NaN</td>\n",
       "      <td>NaN</td>\n",
       "    </tr>\n",
       "    <tr>\n",
       "      <th>1</th>\n",
       "      <td>Spain</td>\n",
       "      <td>2022</td>\n",
       "      <td>96655.0</td>\n",
       "      <td>NaN</td>\n",
       "    </tr>\n",
       "    <tr>\n",
       "      <th>2</th>\n",
       "      <td>Spain</td>\n",
       "      <td>2021</td>\n",
       "      <td>99159.0</td>\n",
       "      <td>NaN</td>\n",
       "    </tr>\n",
       "    <tr>\n",
       "      <th>3</th>\n",
       "      <td>Spain</td>\n",
       "      <td>2020</td>\n",
       "      <td>77541.0</td>\n",
       "      <td>NaN</td>\n",
       "    </tr>\n",
       "    <tr>\n",
       "      <th>4</th>\n",
       "      <td>Spain</td>\n",
       "      <td>2019</td>\n",
       "      <td>92010.0</td>\n",
       "      <td>12.5</td>\n",
       "    </tr>\n",
       "    <tr>\n",
       "      <th>...</th>\n",
       "      <td>...</td>\n",
       "      <td>...</td>\n",
       "      <td>...</td>\n",
       "      <td>...</td>\n",
       "    </tr>\n",
       "    <tr>\n",
       "      <th>123</th>\n",
       "      <td>Portugal</td>\n",
       "      <td>1964</td>\n",
       "      <td>NaN</td>\n",
       "      <td>NaN</td>\n",
       "    </tr>\n",
       "    <tr>\n",
       "      <th>124</th>\n",
       "      <td>Portugal</td>\n",
       "      <td>1963</td>\n",
       "      <td>NaN</td>\n",
       "      <td>NaN</td>\n",
       "    </tr>\n",
       "    <tr>\n",
       "      <th>125</th>\n",
       "      <td>Portugal</td>\n",
       "      <td>1962</td>\n",
       "      <td>NaN</td>\n",
       "      <td>NaN</td>\n",
       "    </tr>\n",
       "    <tr>\n",
       "      <th>126</th>\n",
       "      <td>Portugal</td>\n",
       "      <td>1961</td>\n",
       "      <td>NaN</td>\n",
       "      <td>NaN</td>\n",
       "    </tr>\n",
       "    <tr>\n",
       "      <th>127</th>\n",
       "      <td>Portugal</td>\n",
       "      <td>1960</td>\n",
       "      <td>NaN</td>\n",
       "      <td>NaN</td>\n",
       "    </tr>\n",
       "  </tbody>\n",
       "</table>\n",
       "<p>128 rows × 4 columns</p>\n",
       "</div>"
      ],
      "text/plain": [
       "      country  date  Negocios_creados  Dias_para_empezar_negocio\n",
       "0       Spain  2023               NaN                        NaN\n",
       "1       Spain  2022           96655.0                        NaN\n",
       "2       Spain  2021           99159.0                        NaN\n",
       "3       Spain  2020           77541.0                        NaN\n",
       "4       Spain  2019           92010.0                       12.5\n",
       "..        ...   ...               ...                        ...\n",
       "123  Portugal  1964               NaN                        NaN\n",
       "124  Portugal  1963               NaN                        NaN\n",
       "125  Portugal  1962               NaN                        NaN\n",
       "126  Portugal  1961               NaN                        NaN\n",
       "127  Portugal  1960               NaN                        NaN\n",
       "\n",
       "[128 rows x 4 columns]"
      ]
     },
     "execution_count": 12,
     "metadata": {},
     "output_type": "execute_result"
    }
   ],
   "source": [
    "indicadores = {'IC.BUS.NREG':'Negocios_creados','IC.REG.DURS':'Dias_para_empezar_negocio'}\n",
    "data = wbdata.get_dataframe(indicadores, country=['ESP','PRT'])\n",
    "\n",
    "df = pd.DataFrame(data=data)\n",
    "df.reset_index(inplace=True)\n",
    "df\n"
   ]
  },
  {
   "cell_type": "code",
   "execution_count": 13,
   "metadata": {},
   "outputs": [
    {
     "name": "stdout",
     "output_type": "stream",
     "text": [
      "     country  date  Negocios_creados  Dias_para_empezar_negocio\n",
      "4      Spain  2019           92010.0                       12.5\n",
      "5      Spain  2018           93560.0                       12.5\n",
      "6      Spain  2017           92613.0                       13.0\n",
      "7      Spain  2016           98824.0                       13.0\n",
      "8      Spain  2015           91750.0                       14.0\n",
      "9      Spain  2014           91544.0                       14.0\n",
      "10     Spain  2013           90373.0                       24.0\n",
      "11     Spain  2012           84399.0                       30.0\n",
      "12     Spain  2011           81027.0                       29.0\n",
      "13     Spain  2010           75885.0                       52.0\n",
      "14     Spain  2009           74333.0                       61.0\n",
      "68  Portugal  2019           46880.0                        6.5\n",
      "69  Portugal  2018           43114.0                        6.5\n",
      "70  Portugal  2017           37571.0                        6.5\n",
      "71  Portugal  2016           33651.0                        6.0\n",
      "72  Portugal  2015           34120.0                        6.0\n",
      "73  Portugal  2014           31860.0                        6.0\n",
      "74  Portugal  2013           32081.0                        6.0\n",
      "75  Portugal  2012           27803.0                        7.0\n",
      "76  Portugal  2011           31896.0                        7.0\n",
      "77  Portugal  2010           28501.0                        7.0\n",
      "78  Portugal  2009           28381.0                        7.0\n"
     ]
    }
   ],
   "source": [
    "df['date'] = pd.to_numeric(df['date'], errors='coerce') #aca convertimos en números los strings\n",
    "df_filtrado = df[(df['country'].isin(['Spain', 'Portugal'])) & (df['date'].between(2009, 2019))] #seleccionamos años donde sabiamos que había datos\n",
    "print(df_filtrado)\n"
   ]
  },
  {
   "cell_type": "markdown",
   "metadata": {},
   "source": [
    "#### Ejercicio 2 - Repaso de Pandas\n",
    "Realicen una estadistica descriptiva de ambas series de indicadores comparando los dos países."
   ]
  },
  {
   "cell_type": "code",
   "execution_count": 15,
   "metadata": {},
   "outputs": [
    {
     "data": {
      "text/html": [
       "<div>\n",
       "<style scoped>\n",
       "    .dataframe tbody tr th:only-of-type {\n",
       "        vertical-align: middle;\n",
       "    }\n",
       "\n",
       "    .dataframe tbody tr th {\n",
       "        vertical-align: top;\n",
       "    }\n",
       "\n",
       "    .dataframe thead tr th {\n",
       "        text-align: left;\n",
       "    }\n",
       "\n",
       "    .dataframe thead tr:last-of-type th {\n",
       "        text-align: right;\n",
       "    }\n",
       "</style>\n",
       "<table border=\"1\" class=\"dataframe\">\n",
       "  <thead>\n",
       "    <tr>\n",
       "      <th></th>\n",
       "      <th colspan=\"8\" halign=\"left\">date</th>\n",
       "      <th colspan=\"5\" halign=\"left\">Negocios_creados</th>\n",
       "      <th colspan=\"8\" halign=\"left\">Dias_para_empezar_negocio</th>\n",
       "    </tr>\n",
       "    <tr>\n",
       "      <th></th>\n",
       "      <th>count</th>\n",
       "      <th>mean</th>\n",
       "      <th>std</th>\n",
       "      <th>min</th>\n",
       "      <th>25%</th>\n",
       "      <th>50%</th>\n",
       "      <th>75%</th>\n",
       "      <th>max</th>\n",
       "      <th>count</th>\n",
       "      <th>mean</th>\n",
       "      <th>...</th>\n",
       "      <th>75%</th>\n",
       "      <th>max</th>\n",
       "      <th>count</th>\n",
       "      <th>mean</th>\n",
       "      <th>std</th>\n",
       "      <th>min</th>\n",
       "      <th>25%</th>\n",
       "      <th>50%</th>\n",
       "      <th>75%</th>\n",
       "      <th>max</th>\n",
       "    </tr>\n",
       "    <tr>\n",
       "      <th>country</th>\n",
       "      <th></th>\n",
       "      <th></th>\n",
       "      <th></th>\n",
       "      <th></th>\n",
       "      <th></th>\n",
       "      <th></th>\n",
       "      <th></th>\n",
       "      <th></th>\n",
       "      <th></th>\n",
       "      <th></th>\n",
       "      <th></th>\n",
       "      <th></th>\n",
       "      <th></th>\n",
       "      <th></th>\n",
       "      <th></th>\n",
       "      <th></th>\n",
       "      <th></th>\n",
       "      <th></th>\n",
       "      <th></th>\n",
       "      <th></th>\n",
       "      <th></th>\n",
       "    </tr>\n",
       "  </thead>\n",
       "  <tbody>\n",
       "    <tr>\n",
       "      <th>Portugal</th>\n",
       "      <td>11.0</td>\n",
       "      <td>2014.0</td>\n",
       "      <td>3.316625</td>\n",
       "      <td>2009.0</td>\n",
       "      <td>2011.5</td>\n",
       "      <td>2014.0</td>\n",
       "      <td>2016.5</td>\n",
       "      <td>2019.0</td>\n",
       "      <td>11.0</td>\n",
       "      <td>34168.909091</td>\n",
       "      <td>...</td>\n",
       "      <td>35845.5</td>\n",
       "      <td>46880.0</td>\n",
       "      <td>11.0</td>\n",
       "      <td>6.5</td>\n",
       "      <td>0.447214</td>\n",
       "      <td>6.0</td>\n",
       "      <td>6.0</td>\n",
       "      <td>6.5</td>\n",
       "      <td>7.0</td>\n",
       "      <td>7.0</td>\n",
       "    </tr>\n",
       "    <tr>\n",
       "      <th>Spain</th>\n",
       "      <td>11.0</td>\n",
       "      <td>2014.0</td>\n",
       "      <td>3.316625</td>\n",
       "      <td>2009.0</td>\n",
       "      <td>2011.5</td>\n",
       "      <td>2014.0</td>\n",
       "      <td>2016.5</td>\n",
       "      <td>2019.0</td>\n",
       "      <td>11.0</td>\n",
       "      <td>87847.090909</td>\n",
       "      <td>...</td>\n",
       "      <td>92311.5</td>\n",
       "      <td>98824.0</td>\n",
       "      <td>11.0</td>\n",
       "      <td>25.0</td>\n",
       "      <td>17.057257</td>\n",
       "      <td>12.5</td>\n",
       "      <td>13.0</td>\n",
       "      <td>14.0</td>\n",
       "      <td>29.5</td>\n",
       "      <td>61.0</td>\n",
       "    </tr>\n",
       "  </tbody>\n",
       "</table>\n",
       "<p>2 rows × 24 columns</p>\n",
       "</div>"
      ],
      "text/plain": [
       "          date                                                            \\\n",
       "         count    mean       std     min     25%     50%     75%     max   \n",
       "country                                                                    \n",
       "Portugal  11.0  2014.0  3.316625  2009.0  2011.5  2014.0  2016.5  2019.0   \n",
       "Spain     11.0  2014.0  3.316625  2009.0  2011.5  2014.0  2016.5  2019.0   \n",
       "\n",
       "         Negocios_creados                ...                    \\\n",
       "                    count          mean  ...      75%      max   \n",
       "country                                  ...                     \n",
       "Portugal             11.0  34168.909091  ...  35845.5  46880.0   \n",
       "Spain                11.0  87847.090909  ...  92311.5  98824.0   \n",
       "\n",
       "         Dias_para_empezar_negocio                                           \\\n",
       "                             count  mean        std   min   25%   50%   75%   \n",
       "country                                                                       \n",
       "Portugal                      11.0   6.5   0.447214   6.0   6.0   6.5   7.0   \n",
       "Spain                         11.0  25.0  17.057257  12.5  13.0  14.0  29.5   \n",
       "\n",
       "                \n",
       "           max  \n",
       "country         \n",
       "Portugal   7.0  \n",
       "Spain     61.0  \n",
       "\n",
       "[2 rows x 24 columns]"
      ]
     },
     "execution_count": 15,
     "metadata": {},
     "output_type": "execute_result"
    }
   ],
   "source": [
    "df_filtrado.groupby(\"country\").describe() #este código lo sacamos de la página del banco mundial"
   ]
  },
  {
   "cell_type": "code",
   "execution_count": 16,
   "metadata": {},
   "outputs": [
    {
     "data": {
      "text/plain": [
       "Index(['country', 'date', 'Negocios_creados', 'Dias_para_empezar_negocio'], dtype='object')"
      ]
     },
     "execution_count": 16,
     "metadata": {},
     "output_type": "execute_result"
    }
   ],
   "source": [
    "df_filtrado.columns"
   ]
  },
  {
   "cell_type": "code",
   "execution_count": 17,
   "metadata": {},
   "outputs": [
    {
     "data": {
      "text/html": [
       "<div>\n",
       "<style scoped>\n",
       "    .dataframe tbody tr th:only-of-type {\n",
       "        vertical-align: middle;\n",
       "    }\n",
       "\n",
       "    .dataframe tbody tr th {\n",
       "        vertical-align: top;\n",
       "    }\n",
       "\n",
       "    .dataframe thead th {\n",
       "        text-align: right;\n",
       "    }\n",
       "</style>\n",
       "<table border=\"1\" class=\"dataframe\">\n",
       "  <thead>\n",
       "    <tr style=\"text-align: right;\">\n",
       "      <th></th>\n",
       "      <th>country</th>\n",
       "      <th>date</th>\n",
       "      <th>Negocios_creados</th>\n",
       "      <th>Dias_para_empezar_negocio</th>\n",
       "    </tr>\n",
       "  </thead>\n",
       "  <tbody>\n",
       "    <tr>\n",
       "      <th>4</th>\n",
       "      <td>Spain</td>\n",
       "      <td>2019</td>\n",
       "      <td>92010.0</td>\n",
       "      <td>12.5</td>\n",
       "    </tr>\n",
       "    <tr>\n",
       "      <th>5</th>\n",
       "      <td>Spain</td>\n",
       "      <td>2018</td>\n",
       "      <td>93560.0</td>\n",
       "      <td>12.5</td>\n",
       "    </tr>\n",
       "    <tr>\n",
       "      <th>6</th>\n",
       "      <td>Spain</td>\n",
       "      <td>2017</td>\n",
       "      <td>92613.0</td>\n",
       "      <td>13.0</td>\n",
       "    </tr>\n",
       "    <tr>\n",
       "      <th>7</th>\n",
       "      <td>Spain</td>\n",
       "      <td>2016</td>\n",
       "      <td>98824.0</td>\n",
       "      <td>13.0</td>\n",
       "    </tr>\n",
       "    <tr>\n",
       "      <th>8</th>\n",
       "      <td>Spain</td>\n",
       "      <td>2015</td>\n",
       "      <td>91750.0</td>\n",
       "      <td>14.0</td>\n",
       "    </tr>\n",
       "    <tr>\n",
       "      <th>9</th>\n",
       "      <td>Spain</td>\n",
       "      <td>2014</td>\n",
       "      <td>91544.0</td>\n",
       "      <td>14.0</td>\n",
       "    </tr>\n",
       "    <tr>\n",
       "      <th>10</th>\n",
       "      <td>Spain</td>\n",
       "      <td>2013</td>\n",
       "      <td>90373.0</td>\n",
       "      <td>24.0</td>\n",
       "    </tr>\n",
       "    <tr>\n",
       "      <th>11</th>\n",
       "      <td>Spain</td>\n",
       "      <td>2012</td>\n",
       "      <td>84399.0</td>\n",
       "      <td>30.0</td>\n",
       "    </tr>\n",
       "    <tr>\n",
       "      <th>12</th>\n",
       "      <td>Spain</td>\n",
       "      <td>2011</td>\n",
       "      <td>81027.0</td>\n",
       "      <td>29.0</td>\n",
       "    </tr>\n",
       "    <tr>\n",
       "      <th>13</th>\n",
       "      <td>Spain</td>\n",
       "      <td>2010</td>\n",
       "      <td>75885.0</td>\n",
       "      <td>52.0</td>\n",
       "    </tr>\n",
       "    <tr>\n",
       "      <th>14</th>\n",
       "      <td>Spain</td>\n",
       "      <td>2009</td>\n",
       "      <td>74333.0</td>\n",
       "      <td>61.0</td>\n",
       "    </tr>\n",
       "    <tr>\n",
       "      <th>68</th>\n",
       "      <td>Portugal</td>\n",
       "      <td>2019</td>\n",
       "      <td>46880.0</td>\n",
       "      <td>6.5</td>\n",
       "    </tr>\n",
       "    <tr>\n",
       "      <th>69</th>\n",
       "      <td>Portugal</td>\n",
       "      <td>2018</td>\n",
       "      <td>43114.0</td>\n",
       "      <td>6.5</td>\n",
       "    </tr>\n",
       "    <tr>\n",
       "      <th>70</th>\n",
       "      <td>Portugal</td>\n",
       "      <td>2017</td>\n",
       "      <td>37571.0</td>\n",
       "      <td>6.5</td>\n",
       "    </tr>\n",
       "    <tr>\n",
       "      <th>71</th>\n",
       "      <td>Portugal</td>\n",
       "      <td>2016</td>\n",
       "      <td>33651.0</td>\n",
       "      <td>6.0</td>\n",
       "    </tr>\n",
       "    <tr>\n",
       "      <th>72</th>\n",
       "      <td>Portugal</td>\n",
       "      <td>2015</td>\n",
       "      <td>34120.0</td>\n",
       "      <td>6.0</td>\n",
       "    </tr>\n",
       "    <tr>\n",
       "      <th>73</th>\n",
       "      <td>Portugal</td>\n",
       "      <td>2014</td>\n",
       "      <td>31860.0</td>\n",
       "      <td>6.0</td>\n",
       "    </tr>\n",
       "    <tr>\n",
       "      <th>74</th>\n",
       "      <td>Portugal</td>\n",
       "      <td>2013</td>\n",
       "      <td>32081.0</td>\n",
       "      <td>6.0</td>\n",
       "    </tr>\n",
       "    <tr>\n",
       "      <th>75</th>\n",
       "      <td>Portugal</td>\n",
       "      <td>2012</td>\n",
       "      <td>27803.0</td>\n",
       "      <td>7.0</td>\n",
       "    </tr>\n",
       "    <tr>\n",
       "      <th>76</th>\n",
       "      <td>Portugal</td>\n",
       "      <td>2011</td>\n",
       "      <td>31896.0</td>\n",
       "      <td>7.0</td>\n",
       "    </tr>\n",
       "    <tr>\n",
       "      <th>77</th>\n",
       "      <td>Portugal</td>\n",
       "      <td>2010</td>\n",
       "      <td>28501.0</td>\n",
       "      <td>7.0</td>\n",
       "    </tr>\n",
       "    <tr>\n",
       "      <th>78</th>\n",
       "      <td>Portugal</td>\n",
       "      <td>2009</td>\n",
       "      <td>28381.0</td>\n",
       "      <td>7.0</td>\n",
       "    </tr>\n",
       "  </tbody>\n",
       "</table>\n",
       "</div>"
      ],
      "text/plain": [
       "     country  date  Negocios_creados  Dias_para_empezar_negocio\n",
       "4      Spain  2019           92010.0                       12.5\n",
       "5      Spain  2018           93560.0                       12.5\n",
       "6      Spain  2017           92613.0                       13.0\n",
       "7      Spain  2016           98824.0                       13.0\n",
       "8      Spain  2015           91750.0                       14.0\n",
       "9      Spain  2014           91544.0                       14.0\n",
       "10     Spain  2013           90373.0                       24.0\n",
       "11     Spain  2012           84399.0                       30.0\n",
       "12     Spain  2011           81027.0                       29.0\n",
       "13     Spain  2010           75885.0                       52.0\n",
       "14     Spain  2009           74333.0                       61.0\n",
       "68  Portugal  2019           46880.0                        6.5\n",
       "69  Portugal  2018           43114.0                        6.5\n",
       "70  Portugal  2017           37571.0                        6.5\n",
       "71  Portugal  2016           33651.0                        6.0\n",
       "72  Portugal  2015           34120.0                        6.0\n",
       "73  Portugal  2014           31860.0                        6.0\n",
       "74  Portugal  2013           32081.0                        6.0\n",
       "75  Portugal  2012           27803.0                        7.0\n",
       "76  Portugal  2011           31896.0                        7.0\n",
       "77  Portugal  2010           28501.0                        7.0\n",
       "78  Portugal  2009           28381.0                        7.0"
      ]
     },
     "execution_count": 17,
     "metadata": {},
     "output_type": "execute_result"
    }
   ],
   "source": [
    "df_filtrado"
   ]
  },
  {
   "cell_type": "code",
   "execution_count": 18,
   "metadata": {},
   "outputs": [
    {
     "data": {
      "text/html": [
       "<div>\n",
       "<style scoped>\n",
       "    .dataframe tbody tr th:only-of-type {\n",
       "        vertical-align: middle;\n",
       "    }\n",
       "\n",
       "    .dataframe tbody tr th {\n",
       "        vertical-align: top;\n",
       "    }\n",
       "\n",
       "    .dataframe thead tr th {\n",
       "        text-align: left;\n",
       "    }\n",
       "\n",
       "    .dataframe thead tr:last-of-type th {\n",
       "        text-align: right;\n",
       "    }\n",
       "</style>\n",
       "<table border=\"1\" class=\"dataframe\">\n",
       "  <thead>\n",
       "    <tr>\n",
       "      <th></th>\n",
       "      <th colspan=\"8\" halign=\"left\">Negocios_creados</th>\n",
       "      <th colspan=\"8\" halign=\"left\">Dias_para_empezar_negocio</th>\n",
       "    </tr>\n",
       "    <tr>\n",
       "      <th></th>\n",
       "      <th>count</th>\n",
       "      <th>mean</th>\n",
       "      <th>std</th>\n",
       "      <th>min</th>\n",
       "      <th>25%</th>\n",
       "      <th>50%</th>\n",
       "      <th>75%</th>\n",
       "      <th>max</th>\n",
       "      <th>count</th>\n",
       "      <th>mean</th>\n",
       "      <th>std</th>\n",
       "      <th>min</th>\n",
       "      <th>25%</th>\n",
       "      <th>50%</th>\n",
       "      <th>75%</th>\n",
       "      <th>max</th>\n",
       "    </tr>\n",
       "    <tr>\n",
       "      <th>country</th>\n",
       "      <th></th>\n",
       "      <th></th>\n",
       "      <th></th>\n",
       "      <th></th>\n",
       "      <th></th>\n",
       "      <th></th>\n",
       "      <th></th>\n",
       "      <th></th>\n",
       "      <th></th>\n",
       "      <th></th>\n",
       "      <th></th>\n",
       "      <th></th>\n",
       "      <th></th>\n",
       "      <th></th>\n",
       "      <th></th>\n",
       "      <th></th>\n",
       "    </tr>\n",
       "  </thead>\n",
       "  <tbody>\n",
       "    <tr>\n",
       "      <th>Portugal</th>\n",
       "      <td>11</td>\n",
       "      <td>34169</td>\n",
       "      <td>6119</td>\n",
       "      <td>27803</td>\n",
       "      <td>30180</td>\n",
       "      <td>32081</td>\n",
       "      <td>35846</td>\n",
       "      <td>46880</td>\n",
       "      <td>11</td>\n",
       "      <td>6</td>\n",
       "      <td>0</td>\n",
       "      <td>6</td>\n",
       "      <td>6</td>\n",
       "      <td>6</td>\n",
       "      <td>7</td>\n",
       "      <td>7</td>\n",
       "    </tr>\n",
       "    <tr>\n",
       "      <th>Spain</th>\n",
       "      <td>11</td>\n",
       "      <td>87847</td>\n",
       "      <td>7827</td>\n",
       "      <td>74333</td>\n",
       "      <td>82713</td>\n",
       "      <td>91544</td>\n",
       "      <td>92312</td>\n",
       "      <td>98824</td>\n",
       "      <td>11</td>\n",
       "      <td>25</td>\n",
       "      <td>17</td>\n",
       "      <td>12</td>\n",
       "      <td>13</td>\n",
       "      <td>14</td>\n",
       "      <td>30</td>\n",
       "      <td>61</td>\n",
       "    </tr>\n",
       "  </tbody>\n",
       "</table>\n",
       "</div>"
      ],
      "text/plain": [
       "         Negocios_creados                                                  \\\n",
       "                    count   mean   std    min    25%    50%    75%    max   \n",
       "country                                                                     \n",
       "Portugal               11  34169  6119  27803  30180  32081  35846  46880   \n",
       "Spain                  11  87847  7827  74333  82713  91544  92312  98824   \n",
       "\n",
       "         Dias_para_empezar_negocio                               \n",
       "                             count mean std min 25% 50% 75% max  \n",
       "country                                                          \n",
       "Portugal                        11    6   0   6   6   6   7   7  \n",
       "Spain                           11   25  17  12  13  14  30  61  "
      ]
     },
     "execution_count": 18,
     "metadata": {},
     "output_type": "execute_result"
    }
   ],
   "source": [
    "df_estadistico=df_filtrado.groupby(\"country\").describe()\n",
    "df_correcto = df_estadistico.drop([\"date\"], axis=1) #borramos estos datos estadísticos de los años que carecen de importancia.\n",
    "df_correcto.round(0).astype(int) \n",
    "#Se crean en promedio 34169 negocios al año en Portugal y 87847 en España. \n",
    "#El promedio de días para empezar un negocio en España es de 25 y 6 en Portugal.\n",
    "#El desvío de los días para empezar un negocio en España es de 17 y el de Portugal de 0, por lo que es más rápido y más seguro en el tiempo empezarlo en Portugal\n",
    "#El máximo de negocios creados en españa fue de 98824 mientras que el máximo de Portugal fue de 46880\n",
    "#El máximo de días para empezar un negocio en España fue de 61 días, mientras que en Portugal de 7."
   ]
  },
  {
   "cell_type": "code",
   "execution_count": 19,
   "metadata": {},
   "outputs": [
    {
     "data": {
      "text/html": [
       "<div>\n",
       "<style scoped>\n",
       "    .dataframe tbody tr th:only-of-type {\n",
       "        vertical-align: middle;\n",
       "    }\n",
       "\n",
       "    .dataframe tbody tr th {\n",
       "        vertical-align: top;\n",
       "    }\n",
       "\n",
       "    .dataframe thead th {\n",
       "        text-align: right;\n",
       "    }\n",
       "</style>\n",
       "<table border=\"1\" class=\"dataframe\">\n",
       "  <thead>\n",
       "    <tr style=\"text-align: right;\">\n",
       "      <th></th>\n",
       "      <th>country</th>\n",
       "      <th>date</th>\n",
       "      <th>Negocios_creados</th>\n",
       "      <th>Dias_para_empezar_negocio</th>\n",
       "    </tr>\n",
       "  </thead>\n",
       "  <tbody>\n",
       "    <tr>\n",
       "      <th>4</th>\n",
       "      <td>Spain</td>\n",
       "      <td>2019</td>\n",
       "      <td>92010.0</td>\n",
       "      <td>12.5</td>\n",
       "    </tr>\n",
       "    <tr>\n",
       "      <th>5</th>\n",
       "      <td>Spain</td>\n",
       "      <td>2018</td>\n",
       "      <td>93560.0</td>\n",
       "      <td>12.5</td>\n",
       "    </tr>\n",
       "    <tr>\n",
       "      <th>6</th>\n",
       "      <td>Spain</td>\n",
       "      <td>2017</td>\n",
       "      <td>92613.0</td>\n",
       "      <td>13.0</td>\n",
       "    </tr>\n",
       "    <tr>\n",
       "      <th>7</th>\n",
       "      <td>Spain</td>\n",
       "      <td>2016</td>\n",
       "      <td>98824.0</td>\n",
       "      <td>13.0</td>\n",
       "    </tr>\n",
       "    <tr>\n",
       "      <th>8</th>\n",
       "      <td>Spain</td>\n",
       "      <td>2015</td>\n",
       "      <td>91750.0</td>\n",
       "      <td>14.0</td>\n",
       "    </tr>\n",
       "    <tr>\n",
       "      <th>9</th>\n",
       "      <td>Spain</td>\n",
       "      <td>2014</td>\n",
       "      <td>91544.0</td>\n",
       "      <td>14.0</td>\n",
       "    </tr>\n",
       "    <tr>\n",
       "      <th>10</th>\n",
       "      <td>Spain</td>\n",
       "      <td>2013</td>\n",
       "      <td>90373.0</td>\n",
       "      <td>24.0</td>\n",
       "    </tr>\n",
       "    <tr>\n",
       "      <th>11</th>\n",
       "      <td>Spain</td>\n",
       "      <td>2012</td>\n",
       "      <td>84399.0</td>\n",
       "      <td>30.0</td>\n",
       "    </tr>\n",
       "    <tr>\n",
       "      <th>12</th>\n",
       "      <td>Spain</td>\n",
       "      <td>2011</td>\n",
       "      <td>81027.0</td>\n",
       "      <td>29.0</td>\n",
       "    </tr>\n",
       "    <tr>\n",
       "      <th>13</th>\n",
       "      <td>Spain</td>\n",
       "      <td>2010</td>\n",
       "      <td>75885.0</td>\n",
       "      <td>52.0</td>\n",
       "    </tr>\n",
       "    <tr>\n",
       "      <th>14</th>\n",
       "      <td>Spain</td>\n",
       "      <td>2009</td>\n",
       "      <td>74333.0</td>\n",
       "      <td>61.0</td>\n",
       "    </tr>\n",
       "    <tr>\n",
       "      <th>68</th>\n",
       "      <td>Portugal</td>\n",
       "      <td>2019</td>\n",
       "      <td>46880.0</td>\n",
       "      <td>6.5</td>\n",
       "    </tr>\n",
       "    <tr>\n",
       "      <th>69</th>\n",
       "      <td>Portugal</td>\n",
       "      <td>2018</td>\n",
       "      <td>43114.0</td>\n",
       "      <td>6.5</td>\n",
       "    </tr>\n",
       "    <tr>\n",
       "      <th>70</th>\n",
       "      <td>Portugal</td>\n",
       "      <td>2017</td>\n",
       "      <td>37571.0</td>\n",
       "      <td>6.5</td>\n",
       "    </tr>\n",
       "    <tr>\n",
       "      <th>71</th>\n",
       "      <td>Portugal</td>\n",
       "      <td>2016</td>\n",
       "      <td>33651.0</td>\n",
       "      <td>6.0</td>\n",
       "    </tr>\n",
       "    <tr>\n",
       "      <th>72</th>\n",
       "      <td>Portugal</td>\n",
       "      <td>2015</td>\n",
       "      <td>34120.0</td>\n",
       "      <td>6.0</td>\n",
       "    </tr>\n",
       "    <tr>\n",
       "      <th>73</th>\n",
       "      <td>Portugal</td>\n",
       "      <td>2014</td>\n",
       "      <td>31860.0</td>\n",
       "      <td>6.0</td>\n",
       "    </tr>\n",
       "    <tr>\n",
       "      <th>74</th>\n",
       "      <td>Portugal</td>\n",
       "      <td>2013</td>\n",
       "      <td>32081.0</td>\n",
       "      <td>6.0</td>\n",
       "    </tr>\n",
       "    <tr>\n",
       "      <th>75</th>\n",
       "      <td>Portugal</td>\n",
       "      <td>2012</td>\n",
       "      <td>27803.0</td>\n",
       "      <td>7.0</td>\n",
       "    </tr>\n",
       "    <tr>\n",
       "      <th>76</th>\n",
       "      <td>Portugal</td>\n",
       "      <td>2011</td>\n",
       "      <td>31896.0</td>\n",
       "      <td>7.0</td>\n",
       "    </tr>\n",
       "    <tr>\n",
       "      <th>77</th>\n",
       "      <td>Portugal</td>\n",
       "      <td>2010</td>\n",
       "      <td>28501.0</td>\n",
       "      <td>7.0</td>\n",
       "    </tr>\n",
       "    <tr>\n",
       "      <th>78</th>\n",
       "      <td>Portugal</td>\n",
       "      <td>2009</td>\n",
       "      <td>28381.0</td>\n",
       "      <td>7.0</td>\n",
       "    </tr>\n",
       "  </tbody>\n",
       "</table>\n",
       "</div>"
      ],
      "text/plain": [
       "     country  date  Negocios_creados  Dias_para_empezar_negocio\n",
       "4      Spain  2019           92010.0                       12.5\n",
       "5      Spain  2018           93560.0                       12.5\n",
       "6      Spain  2017           92613.0                       13.0\n",
       "7      Spain  2016           98824.0                       13.0\n",
       "8      Spain  2015           91750.0                       14.0\n",
       "9      Spain  2014           91544.0                       14.0\n",
       "10     Spain  2013           90373.0                       24.0\n",
       "11     Spain  2012           84399.0                       30.0\n",
       "12     Spain  2011           81027.0                       29.0\n",
       "13     Spain  2010           75885.0                       52.0\n",
       "14     Spain  2009           74333.0                       61.0\n",
       "68  Portugal  2019           46880.0                        6.5\n",
       "69  Portugal  2018           43114.0                        6.5\n",
       "70  Portugal  2017           37571.0                        6.5\n",
       "71  Portugal  2016           33651.0                        6.0\n",
       "72  Portugal  2015           34120.0                        6.0\n",
       "73  Portugal  2014           31860.0                        6.0\n",
       "74  Portugal  2013           32081.0                        6.0\n",
       "75  Portugal  2012           27803.0                        7.0\n",
       "76  Portugal  2011           31896.0                        7.0\n",
       "77  Portugal  2010           28501.0                        7.0\n",
       "78  Portugal  2009           28381.0                        7.0"
      ]
     },
     "execution_count": 19,
     "metadata": {},
     "output_type": "execute_result"
    }
   ],
   "source": [
    "df_filtrado #le quisimos sacar el ,0 a los valores de negocios creados, pero todo los códigos nos daban un error más grande después, así que preferimos dejarlo así"
   ]
  },
  {
   "cell_type": "markdown",
   "metadata": {},
   "source": [
    "#### Ejercicio 3 - Practicando con Matplotlib\n",
    "Armen dos gráficos distintos usando la librería Matplotlib (repasen Clase 4). Uno programandolo con el estilo *pyplot* y otro gráfico de estilo *orientada a objetos*"
   ]
  },
  {
   "cell_type": "code",
   "execution_count": 21,
   "metadata": {},
   "outputs": [
    {
     "name": "stdout",
     "output_type": "stream",
     "text": [
      "Requirement already satisfied: matplotlib in f:\\anaconda\\lib\\site-packages (3.9.2)\n",
      "Requirement already satisfied: contourpy>=1.0.1 in f:\\anaconda\\lib\\site-packages (from matplotlib) (1.2.0)\n",
      "Requirement already satisfied: cycler>=0.10 in f:\\anaconda\\lib\\site-packages (from matplotlib) (0.11.0)\n",
      "Requirement already satisfied: fonttools>=4.22.0 in f:\\anaconda\\lib\\site-packages (from matplotlib) (4.51.0)\n",
      "Requirement already satisfied: kiwisolver>=1.3.1 in f:\\anaconda\\lib\\site-packages (from matplotlib) (1.4.4)\n",
      "Requirement already satisfied: numpy>=1.23 in f:\\anaconda\\lib\\site-packages (from matplotlib) (1.26.4)\n",
      "Requirement already satisfied: packaging>=20.0 in f:\\anaconda\\lib\\site-packages (from matplotlib) (24.1)\n",
      "Requirement already satisfied: pillow>=8 in f:\\anaconda\\lib\\site-packages (from matplotlib) (10.4.0)\n",
      "Requirement already satisfied: pyparsing>=2.3.1 in f:\\anaconda\\lib\\site-packages (from matplotlib) (3.1.2)\n",
      "Requirement already satisfied: python-dateutil>=2.7 in f:\\anaconda\\lib\\site-packages (from matplotlib) (2.9.0.post0)\n",
      "Requirement already satisfied: six>=1.5 in f:\\anaconda\\lib\\site-packages (from python-dateutil>=2.7->matplotlib) (1.16.0)\n"
     ]
    }
   ],
   "source": [
    "# Resolver acá estilo pyplot\n",
    "!pip install matplotlib\n",
    "import matplotlib.pyplot as plt\n",
    "import os"
   ]
  },
  {
   "cell_type": "code",
   "execution_count": 22,
   "metadata": {},
   "outputs": [
    {
     "data": {
      "text/plain": [
       "<pandas.core.groupby.generic.DataFrameGroupBy object at 0x000001B135F0F8F0>"
      ]
     },
     "execution_count": 22,
     "metadata": {},
     "output_type": "execute_result"
    }
   ],
   "source": [
    "df_grafico = df_filtrado.groupby(by=[\"date\",\"country\"])\n",
    "df_grafico"
   ]
  },
  {
   "cell_type": "code",
   "execution_count": 23,
   "metadata": {},
   "outputs": [
    {
     "data": {
      "text/plain": [
       "(22, 4)"
      ]
     },
     "execution_count": 23,
     "metadata": {},
     "output_type": "execute_result"
    }
   ],
   "source": [
    "df_filtrado.shape"
   ]
  },
  {
   "cell_type": "code",
   "execution_count": 24,
   "metadata": {},
   "outputs": [],
   "source": [
    "españa_dias = df_filtrado[df_filtrado[\"country\"]==\"Spain\"][\"Dias_para_empezar_negocio\"]\n",
    "españa_años = df_filtrado[df_filtrado[\"country\"]==\"Spain\"][\"date\"]\n",
    "\n",
    "portugal_dias = df_filtrado[df_filtrado[\"country\"]==\"Portugal\"][\"Dias_para_empezar_negocio\"]\n",
    "portugal_años = df_filtrado[df_filtrado[\"country\"]==\"Portugal\"][\"date\"]"
   ]
  },
  {
   "cell_type": "code",
   "execution_count": 25,
   "metadata": {},
   "outputs": [
    {
     "data": {
      "image/png": "[encoded data removed]",
      "text/plain": [
       "<Figure size 640x480 with 1 Axes>"
      ]
     },
     "metadata": {},
     "output_type": "display_data"
    }
   ],
   "source": [
    "plt.plot(españa_años, españa_dias, label=\"España\")\n",
    "plt.plot(portugal_años, portugal_dias, label=\"Portugal\")\n",
    "plt.xlabel(\"Año\")\n",
    "plt.ylabel(\"Dias para empezar un negocio\")\n",
    "plt.title(\"Figura 1. Dificultades para emprender (2009-2019)\")\n",
    "plt.ylim(5, 65)\n",
    "plt.legend()\n",
    "plt.show()"
   ]
  },
  {
   "cell_type": "code",
   "execution_count": 26,
   "metadata": {},
   "outputs": [
    {
     "data": {
      "text/plain": [
       "<pandas.core.groupby.generic.DataFrameGroupBy object at 0x000001B135E9EC90>"
      ]
     },
     "execution_count": 26,
     "metadata": {},
     "output_type": "execute_result"
    }
   ],
   "source": [
    "df_grafico = df_filtrado.groupby(by=[\"date\",\"country\"])\n",
    "df_grafico"
   ]
  },
  {
   "cell_type": "code",
   "execution_count": 27,
   "metadata": {},
   "outputs": [
    {
     "data": {
      "text/plain": [
       "(22, 4)"
      ]
     },
     "execution_count": 27,
     "metadata": {},
     "output_type": "execute_result"
    }
   ],
   "source": [
    "df_filtrado.shape"
   ]
  },
  {
   "cell_type": "code",
   "execution_count": 28,
   "metadata": {},
   "outputs": [],
   "source": [
    "y1 = df_filtrado[df_filtrado[\"country\"]==\"Spain\"][\"Negocios_creados\"]\n",
    "x1 = df_filtrado[df_filtrado[\"country\"]==\"Spain\"][\"date\"]\n",
    "\n",
    "y2 = df_filtrado[df_filtrado[\"country\"]==\"Portugal\"][\"Negocios_creados\"]\n",
    "x2 = df_filtrado[df_filtrado[\"country\"]==\"Portugal\"][\"date\"]"
   ]
  },
  {
   "cell_type": "code",
   "execution_count": 29,
   "metadata": {},
   "outputs": [
    {
     "data": {
      "image/png": "[encoded data removed]",
      "text/plain": [
       "<Figure size 640x480 with 1 Axes>"
      ]
     },
     "metadata": {},
     "output_type": "display_data"
    }
   ],
   "source": [
    "plt.plot(x1, y1, label=\"España\")\n",
    "plt.plot(x2, y2, label=\"Portugal\")\n",
    "plt.xlabel(\"Año\")\n",
    "plt.ylabel(\"Negocios creados\")\n",
    "plt.title(\"Figura 2. Negocios Creados al año (2009-2019)\")\n",
    "plt.ylim(20000, 100000)\n",
    "plt.legend()\n",
    "plt.show()"
   ]
  },
  {
   "cell_type": "code",
   "execution_count": 30,
   "metadata": {},
   "outputs": [],
   "source": [
    "df_graficado = df_filtrado.set_index([\"date\"])"
   ]
  },
  {
   "cell_type": "code",
   "execution_count": 31,
   "metadata": {},
   "outputs": [
    {
     "name": "stderr",
     "output_type": "stream",
     "text": [
      "C:\\Users\\Juan T\\AppData\\Local\\Temp\\ipykernel_7452\\758860548.py:8: UserWarning: FigureCanvasAgg is non-interactive, and thus cannot be shown\n",
      "  fig.show()\n"
     ]
    },
    {
     "data": {
      "image/png": "[encoded data removed]",
      "text/plain": [
       "<Figure size 1400x800 with 1 Axes>"
      ]
     },
     "metadata": {},
     "output_type": "display_data"
    }
   ],
   "source": [
    "fig, ax = plt.subplots(figsize=(14, 8))\n",
    "ax.bar(x1, y1, label='España', color=\"#AD1519\")  \n",
    "ax.bar(x2, y2, label='Portugal', color=\"#006600\")  \n",
    "ax.set_xlabel(\"\")\n",
    "ax.set_ylabel(\"\")\n",
    "ax.set_title(\"Figura 3. Negocios creados por año (2009-2019)\")\n",
    "ax.legend()\n",
    "fig.show()\n",
    "#decidimos borrar la leyenda del eje y porque suponemos que queda claro con el título principal que nos referimos a negocios creados\n",
    "#lo mismo hicimos con el eje x, creemos que queda claro que estamos hablando de los años."
   ]
  },
  {
   "cell_type": "code",
   "execution_count": 32,
   "metadata": {},
   "outputs": [
    {
     "name": "stderr",
     "output_type": "stream",
     "text": [
      "C:\\Users\\Juan T\\AppData\\Local\\Temp\\ipykernel_7452\\4080929431.py:23: UserWarning: FigureCanvasAgg is non-interactive, and thus cannot be shown\n",
      "  fig.show()\n"
     ]
    },
    {
     "data": {
      "image/png": "[encoded data removed]",
      "text/plain": [
       "<Figure size 1400x800 with 1 Axes>"
      ]
     },
     "metadata": {},
     "output_type": "display_data"
    }
   ],
   "source": [
    "#como bonus, creemos que el gráfico puede mejorar si le incluimos el número exacto sobre cada barra\n",
    "fig, ax = plt.subplots(figsize=(14, 8))\n",
    "\n",
    "bars1 = ax.bar(x1, y1, label='España', color=\"#AD1519\")\n",
    "bars2 = ax.bar(x2, y2, label='Portugal', color=\"#006600\")\n",
    "\n",
    "for bar in bars1:\n",
    "    height = bar.get_height()\n",
    "    ax.text(bar.get_x() + bar.get_width()/2., height,\n",
    "            f'{int(height)}',\n",
    "            ha='center', va='bottom')\n",
    "\n",
    "for bar in bars2:\n",
    "    height = bar.get_height()\n",
    "    ax.text(bar.get_x() + bar.get_width()/2., height,\n",
    "            f'{int(height)}',\n",
    "            ha='center', va='bottom')\n",
    "\n",
    "ax.set_xlabel(\"\")\n",
    "ax.set_ylabel(\"\")\n",
    "ax.set_title(\"Figura 4. Negocios creados por año (2009-2019)\")\n",
    "ax.legend()\n",
    "fig.show()"
   ]
  },
  {
   "cell_type": "code",
   "execution_count": 33,
   "metadata": {},
   "outputs": [],
   "source": [
    "españa_dias = df_filtrado[df_filtrado[\"country\"]==\"Spain\"][\"Dias_para_empezar_negocio\"]\n",
    "españa_años = df_filtrado[df_filtrado[\"country\"]==\"Spain\"][\"date\"]\n",
    "\n",
    "portugal_dias = df_filtrado[df_filtrado[\"country\"]==\"Portugal\"][\"Dias_para_empezar_negocio\"]\n",
    "portugal_años = df_filtrado[df_filtrado[\"country\"]==\"Portugal\"][\"date\"]"
   ]
  },
  {
   "cell_type": "code",
   "execution_count": 34,
   "metadata": {},
   "outputs": [
    {
     "name": "stderr",
     "output_type": "stream",
     "text": [
      "C:\\Users\\Juan T\\AppData\\Local\\Temp\\ipykernel_7452\\3795833304.py:23: UserWarning: FigureCanvasAgg is non-interactive, and thus cannot be shown\n",
      "  fig.show()\n"
     ]
    },
    {
     "data": {
      "image/png": "[encoded data removed]",
      "text/plain": [
       "<Figure size 1400x800 with 1 Axes>"
      ]
     },
     "metadata": {},
     "output_type": "display_data"
    }
   ],
   "source": [
    "fig, ax = plt.subplots(figsize=(14, 8))\n",
    "\n",
    "bars1 = ax.bar(españa_años , españa_dias, label='España', color=\"#AD1519\")\n",
    "bars2 = ax.bar(portugal_años, portugal_dias , label='Portugal', color=\"#006600\")\n",
    "\n",
    "for bar in bars1:\n",
    "    height = bar.get_height()\n",
    "    ax.text(bar.get_x() + bar.get_width()/2., height,\n",
    "            f'{int(height)}',\n",
    "            ha='center', va='bottom')\n",
    "\n",
    "for bar in bars2:\n",
    "    height = bar.get_height()\n",
    "    ax.text(bar.get_x() + bar.get_width()/2., height,\n",
    "            f'{(height)}',\n",
    "            ha='center', va='bottom')\n",
    "\n",
    "ax.set_xlabel(\"\")\n",
    "ax.set_ylabel(\"\")\n",
    "ax.set_title(\"Figura 5. Días para empezar un negocio (2009-2019)\")\n",
    "ax.yaxis.set_visible(False) #le sacamos los valores del eje y porque creemos que se ve mejor a la vista\n",
    "ax.legend()\n",
    "fig.show()"
   ]
  },
  {
   "cell_type": "markdown",
   "metadata": {},
   "source": [
    "### Parte B"
   ]
  },
  {
   "cell_type": "markdown",
   "metadata": {},
   "source": [
    "#### Ejercicio 4\n",
    "De la página de noticias del [diario La Nación](https://www.lanacion.com.ar/) o cualquier diario que les interese, utilicen herramientas de web scraping para obtener los **links** de las noticias de la portada. Guarden los links obtenidos en un dataframe y expórtenlo a un archivo de excel.\n",
    "\n",
    "Nota 1: es posible que logren obtener los links a las noticias sin el dominio: \"https://www.lanacion.com.ar/\". De ser así, concatenen el dominio a la ruta del link obtenido, tal que se obtenga un link al que se pueda acceder. Es decir, que las cadenas de caracteres finales tendrán la forma: https://www.lanacion.com.ar/*texto_obtenido*)\n",
    "\n",
    "Nota 2: junto con su entrega, adjunten una captura de la página de noticias al momento de correr su código. Eso servirá al momento de la corrección para verificar que los links obtenidos hacen referencia a las noticias de ese día y hora."
   ]
  },
  {
   "cell_type": "code",
   "execution_count": 37,
   "metadata": {},
   "outputs": [
    {
     "name": "stdout",
     "output_type": "stream",
     "text": [
      "Requirement already satisfied: BeautifulSoup4 in f:\\anaconda\\lib\\site-packages (4.12.3)\n",
      "Requirement already satisfied: soupsieve>1.2 in f:\\anaconda\\lib\\site-packages (from BeautifulSoup4) (2.5)\n",
      "Requirement already satisfied: openpyxl in f:\\anaconda\\lib\\site-packages (3.1.5)\n",
      "Requirement already satisfied: et-xmlfile in f:\\anaconda\\lib\\site-packages (from openpyxl) (1.1.0)\n"
     ]
    }
   ],
   "source": [
    "!pip install BeautifulSoup4 \n",
    "!pip install openpyxl"
   ]
  },
  {
   "cell_type": "code",
   "execution_count": 38,
   "metadata": {},
   "outputs": [
    {
     "name": "stdout",
     "output_type": "stream",
     "text": [
      "Requirement already satisfied: requests in f:\\anaconda\\lib\\site-packages (2.32.3)\n",
      "Requirement already satisfied: charset-normalizer<4,>=2 in f:\\anaconda\\lib\\site-packages (from requests) (3.3.2)\n",
      "Requirement already satisfied: idna<4,>=2.5 in f:\\anaconda\\lib\\site-packages (from requests) (3.7)\n",
      "Requirement already satisfied: urllib3<3,>=1.21.1 in f:\\anaconda\\lib\\site-packages (from requests) (2.2.3)\n",
      "Requirement already satisfied: certifi>=2017.4.17 in f:\\anaconda\\lib\\site-packages (from requests) (2025.1.31)\n"
     ]
    }
   ],
   "source": [
    "!pip install requests "
   ]
  },
  {
   "cell_type": "code",
   "execution_count": 39,
   "metadata": {},
   "outputs": [],
   "source": [
    "import requests \n",
    "from bs4 import BeautifulSoup \n",
    "import pandas as pd \n"
   ]
  },
  {
   "cell_type": "code",
   "execution_count": 40,
   "metadata": {},
   "outputs": [],
   "source": [
    "url=\"https://www.lanacion.com.ar/\""
   ]
  },
  {
   "cell_type": "code",
   "execution_count": 41,
   "metadata": {},
   "outputs": [],
   "source": [
    "r = requests.get(\"https://www.lanacion.com.ar/\")\n",
    "contenido = r.content"
   ]
  },
  {
   "cell_type": "code",
   "execution_count": 42,
   "metadata": {},
   "outputs": [],
   "source": [
    "soup = BeautifulSoup (contenido, \"html.parser\")"
   ]
  },
  {
   "cell_type": "code",
   "execution_count": 43,
   "metadata": {},
   "outputs": [
    {
     "name": "stdout",
     "output_type": "stream",
     "text": [
      "\n",
      " VIVOMedidas de Javier MileiHace 7 minDólar oficial y blue hoyHace 24 minJavier MileiDólar hoyCorte SupremaFútbol argentino\n"
     ]
    }
   ],
   "source": [
    "h2_element = soup.find('section', href=())\n",
    "h2_text = h2_element.text.strip()\n",
    "print('\\n', h2_text)"
   ]
  },
  {
   "cell_type": "code",
   "execution_count": 44,
   "metadata": {},
   "outputs": [],
   "source": [
    "h2_elements = soup.find_all('section')"
   ]
  },
  {
   "cell_type": "code",
   "execution_count": 45,
   "metadata": {},
   "outputs": [],
   "source": [
    "href_list=[]\n",
    "\n",
    "links = soup.find_all('a', href=True)\n",
    "for link in links:\n",
    "    href = link.get('href')\n",
    "    if href:  # Verifica que haya un enlace\n",
    "        href_list.append(href)"
   ]
  },
  {
   "cell_type": "code",
   "execution_count": 46,
   "metadata": {},
   "outputs": [],
   "source": [
    "base_url = \"https://www.lanacion.com.ar/\"\n",
    "href_list = [base_url + href for href in href_list]"
   ]
  },
  {
   "cell_type": "code",
   "execution_count": 47,
   "metadata": {},
   "outputs": [],
   "source": [
    "new_href_list = [base_url + href for href in href_list]"
   ]
  },
  {
   "cell_type": "code",
   "execution_count": 48,
   "metadata": {},
   "outputs": [],
   "source": [
    "finalmente=new_href_list[100:106]"
   ]
  },
  {
   "cell_type": "code",
   "execution_count": 49,
   "metadata": {},
   "outputs": [],
   "source": [
    "f = pd.DataFrame({\"Enlaces\": finalmente})"
   ]
  },
  {
   "cell_type": "code",
   "execution_count": 50,
   "metadata": {},
   "outputs": [],
   "source": [
    "f.to_excel(\"enlaces.xlsx\", index=False, engine=\"openpyxl\")"
   ]
  },
  {
   "cell_type": "code",
   "execution_count": null,
   "metadata": {},
   "outputs": [],
   "source": []
  }
 ],
 "metadata": {
  "anaconda-cloud": {},
  "colab": {
   "name": "TP1 - Parte 1.ipynb",
   "provenance": []
  },
  "kernelspec": {
   "display_name": "Python [conda env:base] *",
   "language": "python",
   "name": "conda-base-py"
  },
  "language_info": {
   "codemirror_mode": {
    "name": "ipython",
    "version": 3
   },
   "file_extension": ".py",
   "mimetype": "text/x-python",
   "name": "python",
   "nbconvert_exporter": "python",
   "pygments_lexer": "ipython3",
   "version": "3.12.7"
  }
 },
 "nbformat": 4,
 "nbformat_minor": 4
}
