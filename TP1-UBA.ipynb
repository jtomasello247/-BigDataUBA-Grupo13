{
 "cells": [
  {
   "cell_type": "markdown",
   "metadata": {
    "collapsed": true,
    "id": "Dh8MkXaG-c9Y",
    "jupyter": {
     "outputs_hidden": true
    }
   },
   "source": [
    "# Big Data y Machine Learning (UBA) -  2025\n",
    "\n",
    "## Trabajo Práctico 1: Jugando con APIs y WebScraping "
   ]
  },
  {
   "cell_type": "markdown",
   "metadata": {
    "id": "RhBlm6mZ-c9e"
   },
   "source": [
    "### Reglas de formato y presentación\n",
    "- El trabajo debe estar debidamente documentado comentado (utilizando #) para que tanto los docentes como sus compañeros puedan comprender el código fácilmente.\n",
    "\n",
    "- El mismo debe ser completado en este Jupyter Notebook y entregado como tal, es decir en un archivo .ipynb\n"
   ]
  },
  {
   "cell_type": "markdown",
   "metadata": {
    "id": "ZEjGaa4U-c9g"
   },
   "source": [
    "### Fecha de entrega:\n",
    "Viernes 4 de Abril a las 13:00 hs"
   ]
  },
  {
   "cell_type": "markdown",
   "metadata": {
    "id": "N9TU2y7E-c9h"
   },
   "source": [
    "### Modalidad de entrega\n",
    "- Al finalizar el trabajo práctico deben hacer un último <i>commit</i> en su repositorio de GitHub llamado “Entrega final del tp”. \n",
    "- Asegurense de haber creado una carpeta llamada TP1. Este Jupyter Notebook y el correspondiente al TP1 deben estar dentro de esa carpeta.\n",
    "- También deben enviar el link de su repositorio -para que pueda ser clonado y corregido- a mi correo 25RO35480961@campus.economicas.uba.ar. Usar de asunto de email <i>\"Big Data - TP 1 - Grupo #\"</i> y nombrar el archivo <i>\"TP1_Grupo #\"</i> donde # es el número de grupo que le fue asignado.\n",
    "- La última versión en el repositorio es la que será evaluada. Por lo que es importante que: \n",
    "    - No envien el correo hasta no haber terminado y estar seguros de que han hecho el <i>commit y push</i> a la versión final que quieren entregar. \n",
    "    - No hagan nuevos <i>push</i> despues de haber entregado su versión final. Esto generaría confusión acerca de que versión es la que quieren que se les corrija.\n",
    "- En resumen, la carpeta del repositorio debe incluir:\n",
    "    - El codigo\n",
    "    - Un documento Word (Parte A) donde esten las figuras y una breve descripción de las mismas.\n",
    "    - El excel con los links webscrappeados (Parte B)"
   ]
  },
  {
   "cell_type": "markdown",
   "metadata": {},
   "source": [
    "### Parte A"
   ]
  },
  {
   "cell_type": "markdown",
   "metadata": {
    "id": "ZXbrPraa-c9i"
   },
   "source": [
    "#### Ejercicio 1 - Jugando con APIs\n",
    "Usando la API del Banco Mundial [link](https://wbdata.readthedocs.io/en/stable/) , obtener dos series de indicadores para dos paises a elección en una consulta de búsqueda. Pueden buscar serie de indicadores de su interés."
   ]
  },
  {
   "cell_type": "code",
   "execution_count": 2,
   "metadata": {},
   "outputs": [
    {
     "name": "stdout",
     "output_type": "stream",
     "text": [
      "Collecting wbdata\n",
      "  Downloading wbdata-1.0.0-py3-none-any.whl.metadata (2.6 kB)\n",
      "Requirement already satisfied: appdirs<2.0,>=1.4 in d:\\anaconda\\lib\\site-packages (from wbdata) (1.4.4)\n",
      "Collecting backoff<3.0.0,>=2.2.1 (from wbdata)\n",
      "  Downloading backoff-2.2.1-py3-none-any.whl.metadata (14 kB)\n",
      "Requirement already satisfied: cachetools<6.0.0,>=5.3.2 in d:\\anaconda\\lib\\site-packages (from wbdata) (5.3.3)\n",
      "Collecting dateparser<2.0.0,>=1.2.0 (from wbdata)\n",
      "  Downloading dateparser-1.2.1-py3-none-any.whl.metadata (29 kB)\n",
      "Requirement already satisfied: decorator<6.0.0,>=5.1.1 in d:\\anaconda\\lib\\site-packages (from wbdata) (5.1.1)\n",
      "Requirement already satisfied: requests<3.0,>=2.0 in d:\\anaconda\\lib\\site-packages (from wbdata) (2.32.3)\n",
      "Collecting shelved-cache<0.4.0,>=0.3.1 (from wbdata)\n",
      "  Downloading shelved_cache-0.3.1-py3-none-any.whl.metadata (4.7 kB)\n",
      "Collecting tabulate<0.9.0,>=0.8.5 (from wbdata)\n",
      "  Downloading tabulate-0.8.10-py3-none-any.whl.metadata (25 kB)\n",
      "Requirement already satisfied: python-dateutil>=2.7.0 in d:\\anaconda\\lib\\site-packages (from dateparser<2.0.0,>=1.2.0->wbdata) (2.9.0.post0)\n",
      "Collecting pytz>=2024.2 (from dateparser<2.0.0,>=1.2.0->wbdata)\n",
      "  Downloading pytz-2025.2-py2.py3-none-any.whl.metadata (22 kB)\n",
      "Requirement already satisfied: regex!=2019.02.19,!=2021.8.27,>=2015.06.24 in d:\\anaconda\\lib\\site-packages (from dateparser<2.0.0,>=1.2.0->wbdata) (2024.9.11)\n",
      "Collecting tzlocal>=0.2 (from dateparser<2.0.0,>=1.2.0->wbdata)\n",
      "  Downloading tzlocal-5.3.1-py3-none-any.whl.metadata (7.6 kB)\n",
      "Requirement already satisfied: charset-normalizer<4,>=2 in d:\\anaconda\\lib\\site-packages (from requests<3.0,>=2.0->wbdata) (3.3.2)\n",
      "Requirement already satisfied: idna<4,>=2.5 in d:\\anaconda\\lib\\site-packages (from requests<3.0,>=2.0->wbdata) (3.7)\n",
      "Requirement already satisfied: urllib3<3,>=1.21.1 in d:\\anaconda\\lib\\site-packages (from requests<3.0,>=2.0->wbdata) (2.2.3)\n",
      "Requirement already satisfied: certifi>=2017.4.17 in d:\\anaconda\\lib\\site-packages (from requests<3.0,>=2.0->wbdata) (2025.1.31)\n",
      "Requirement already satisfied: six>=1.5 in d:\\anaconda\\lib\\site-packages (from python-dateutil>=2.7.0->dateparser<2.0.0,>=1.2.0->wbdata) (1.16.0)\n",
      "Requirement already satisfied: tzdata in d:\\anaconda\\lib\\site-packages (from tzlocal>=0.2->dateparser<2.0.0,>=1.2.0->wbdata) (2023.3)\n",
      "Downloading wbdata-1.0.0-py3-none-any.whl (18 kB)\n",
      "Downloading backoff-2.2.1-py3-none-any.whl (15 kB)\n",
      "Downloading dateparser-1.2.1-py3-none-any.whl (295 kB)\n",
      "Downloading shelved_cache-0.3.1-py3-none-any.whl (7.8 kB)\n",
      "Downloading tabulate-0.8.10-py3-none-any.whl (29 kB)\n",
      "Downloading pytz-2025.2-py2.py3-none-any.whl (509 kB)\n",
      "Downloading tzlocal-5.3.1-py3-none-any.whl (18 kB)\n",
      "Installing collected packages: pytz, tzlocal, tabulate, shelved-cache, backoff, dateparser, wbdata\n",
      "  Attempting uninstall: pytz\n",
      "    Found existing installation: pytz 2024.1\n",
      "    Uninstalling pytz-2024.1:\n",
      "      Successfully uninstalled pytz-2024.1\n",
      "  Attempting uninstall: tabulate\n",
      "    Found existing installation: tabulate 0.9.0\n",
      "    Uninstalling tabulate-0.9.0:\n",
      "      Successfully uninstalled tabulate-0.9.0\n",
      "Successfully installed backoff-2.2.1 dateparser-1.2.1 pytz-2025.2 shelved-cache-0.3.1 tabulate-0.8.10 tzlocal-5.3.1 wbdata-1.0.0\n"
     ]
    }
   ],
   "source": [
    "# Resolver acá\n",
    "import sys\n",
    "!{sys.executable} -m pip install wbdata"
   ]
  },
  {
   "cell_type": "code",
   "execution_count": 3,
   "metadata": {},
   "outputs": [
    {
     "name": "stdout",
     "output_type": "stream",
     "text": [
      "Requirement already satisfied: wbdata in d:\\anaconda\\lib\\site-packages (1.0.0)\n",
      "Requirement already satisfied: appdirs<2.0,>=1.4 in d:\\anaconda\\lib\\site-packages (from wbdata) (1.4.4)\n",
      "Requirement already satisfied: backoff<3.0.0,>=2.2.1 in d:\\anaconda\\lib\\site-packages (from wbdata) (2.2.1)\n",
      "Requirement already satisfied: cachetools<6.0.0,>=5.3.2 in d:\\anaconda\\lib\\site-packages (from wbdata) (5.3.3)\n",
      "Requirement already satisfied: dateparser<2.0.0,>=1.2.0 in d:\\anaconda\\lib\\site-packages (from wbdata) (1.2.1)\n",
      "Requirement already satisfied: decorator<6.0.0,>=5.1.1 in d:\\anaconda\\lib\\site-packages (from wbdata) (5.1.1)\n",
      "Requirement already satisfied: requests<3.0,>=2.0 in d:\\anaconda\\lib\\site-packages (from wbdata) (2.32.3)\n",
      "Requirement already satisfied: shelved-cache<0.4.0,>=0.3.1 in d:\\anaconda\\lib\\site-packages (from wbdata) (0.3.1)\n",
      "Requirement already satisfied: tabulate<0.9.0,>=0.8.5 in d:\\anaconda\\lib\\site-packages (from wbdata) (0.8.10)\n",
      "Requirement already satisfied: python-dateutil>=2.7.0 in d:\\anaconda\\lib\\site-packages (from dateparser<2.0.0,>=1.2.0->wbdata) (2.9.0.post0)\n",
      "Requirement already satisfied: pytz>=2024.2 in d:\\anaconda\\lib\\site-packages (from dateparser<2.0.0,>=1.2.0->wbdata) (2025.2)\n",
      "Requirement already satisfied: regex!=2019.02.19,!=2021.8.27,>=2015.06.24 in d:\\anaconda\\lib\\site-packages (from dateparser<2.0.0,>=1.2.0->wbdata) (2024.9.11)\n",
      "Requirement already satisfied: tzlocal>=0.2 in d:\\anaconda\\lib\\site-packages (from dateparser<2.0.0,>=1.2.0->wbdata) (5.3.1)\n",
      "Requirement already satisfied: charset-normalizer<4,>=2 in d:\\anaconda\\lib\\site-packages (from requests<3.0,>=2.0->wbdata) (3.3.2)\n",
      "Requirement already satisfied: idna<4,>=2.5 in d:\\anaconda\\lib\\site-packages (from requests<3.0,>=2.0->wbdata) (3.7)\n",
      "Requirement already satisfied: urllib3<3,>=1.21.1 in d:\\anaconda\\lib\\site-packages (from requests<3.0,>=2.0->wbdata) (2.2.3)\n",
      "Requirement already satisfied: certifi>=2017.4.17 in d:\\anaconda\\lib\\site-packages (from requests<3.0,>=2.0->wbdata) (2025.1.31)\n",
      "Requirement already satisfied: six>=1.5 in d:\\anaconda\\lib\\site-packages (from python-dateutil>=2.7.0->dateparser<2.0.0,>=1.2.0->wbdata) (1.16.0)\n",
      "Requirement already satisfied: tzdata in d:\\anaconda\\lib\\site-packages (from tzlocal>=0.2->dateparser<2.0.0,>=1.2.0->wbdata) (2023.3)\n"
     ]
    }
   ],
   "source": [
    "!pip install wbdata\n",
    "import wbdata\n",
    "import pandas as pd"
   ]
  },
  {
   "cell_type": "code",
   "execution_count": 12,
   "metadata": {},
   "outputs": [
    {
     "data": {
      "text/plain": [
       "id                    name\n",
       "--------------------  ----------------------------------------------------------------------------------------------------------------\n",
       "BM.KLT.DINV.WD.GD.ZS  Foreign direct investment, net outflows (% of GDP)\n",
       "BM.TRF.PWKR.CD.DT     Personal remittances, paid (current US$)\n",
       "BX.KLT.DINV.WD.GD.ZS  Foreign direct investment, net inflows (% of GDP)\n",
       "BX.TRF.PWKR.CD        Personal transfers, receipts (BoP, current US$)\n",
       "CM.MKT.LCAP.GD.ZS     Market capitalization of listed domestic companies (% of GDP)\n",
       "EG.ELC.ACCS.ZS        Access to electricity (% of population)\n",
       "EG.USE.ELEC.KH.PC     Electric power consumption (kWh per capita)\n",
       "EN.POP.DNST           Population density (people per sq. km of land area)\n",
       "FB.ATM.TOTL.P5        Automated teller machines (ATMs) (per 100,000 adults)\n",
       "FB.CBK.BRWR.P3        Borrowers from commercial banks (per 1,000 adults)\n",
       "FP.CPI.TOTL           Consumer price index (2010 = 100)\n",
       "FP.CPI.TOTL.ZG        Inflation, consumer prices (annual %)\n",
       "FS.AST.DOMS.GD.ZS     Domestic credit provided by financial sector (% of GDP)\n",
       "FS.AST.PRVT.GD.ZS     Domestic credit to private sector (% of GDP)\n",
       "GB.XPD.RSDV.GD.ZS     Research and development expenditure (% of GDP)\n",
       "GC.TAX.TOTL.GD.ZS     Tax revenue (% of GDP)\n",
       "GC.TAX.YPKG.ZS        Taxes on income, profits and capital gains (% of total taxes)\n",
       "IC.BUS.EASE.XQ        Ease of doing business rank (1=most business-friendly regulations)\n",
       "IC.BUS.NDNS.ZS        New business density (new registrations per 1,000 people ages 15-64)\n",
       "IC.BUS.NREG           New businesses registered (number)\n",
       "IC.CRD.INFO.XQ        Depth of credit information index (0=low to 8=high)\n",
       "IC.CRD.PRVT.ZS        Private credit bureau coverage (% of adults)\n",
       "IC.CRD.PUBL.ZS        Public credit registry coverage (% of adults)\n",
       "IC.FRM.CORR.ZS        Informal payments to public officials (% of firms)\n",
       "IC.FRM.DURS           Time required to obtain an operating license (days)\n",
       "IC.ISV.DURS           Time to resolve insolvency (years)\n",
       "IC.LGL.DURS           Time required to enforce a contract (days)\n",
       "IC.PRP.DURS           Time required to register property (days)\n",
       "IC.REG.DURS           Time required to start a business (days)\n",
       "IC.TAX.DURS           Time to prepare and pay taxes (hours)\n",
       "IC.TAX.METG           Number of visits or required meetings with tax officials (average for affected firms)\n",
       "IC.TAX.PAYM           Tax payments (number)\n",
       "IQ.CPA.ECON.XQ        CPIA economic management cluster average (1=low to 6=high)\n",
       "IQ.CPA.FINS.XQ        CPIA financial sector rating (1=low to 6=high)\n",
       "IQ.CPA.GNDR.XQ        CPIA gender equality rating (1=low to 6=high)\n",
       "IQ.CPA.MACR.XQ        CPIA macroeconomic management rating (1=low to 6=high)\n",
       "IQ.CPA.PROP.XQ        CPIA property rights and rule-based governance rating (1=low to 6=high)\n",
       "IQ.CPA.PROT.XQ        CPIA social protection rating (1=low to 6=high)\n",
       "IQ.CPA.SOCI.XQ        CPIA policies for social inclusion/equity cluster average (1=low to 6=high)\n",
       "IS.AIR.DPRT           Air transport, registered carrier departures worldwide\n",
       "IT.CEL.SETS.P2        Mobile cellular subscriptions (per 100 people)\n",
       "IT.MLT.MAIN.P2        Fixed telephone subscriptions (per 100 people)\n",
       "IT.NET.BBND.P2        Fixed broadband subscriptions (per 100 people)\n",
       "IT.NET.USER.ZS        Individuals using the Internet (% of population)\n",
       "NE.EXP.GNFS.KD.ZG     Exports of goods and services (annual % growth)\n",
       "NE.EXP.GNFS.ZS        Exports of goods and services (% of GDP)\n",
       "NE.GDI.FPRV.ZS        Gross fixed capital formation, private sector (% of GDP)\n",
       "NE.GDI.TOTL.KD.ZG     Gross capital formation (annual % growth)\n",
       "NE.GDI.TOTL.ZS        Gross capital formation (% of GDP)\n",
       "NE.IMP.GNFS.ZS        Imports of goods and services (% of GDP)\n",
       "NV.AGR.TOTL.KD        Agriculture, forestry, and fishing, value added (constant 2015 US$)\n",
       "NV.AGR.TOTL.KD.ZG     Agriculture, forestry, and fishing, value added (annual % growth)\n",
       "NV.AGR.TOTL.ZS        Agriculture, forestry, and fishing, value added (% of GDP)\n",
       "NV.IND.MANF.KD        Manufacturing, value added (constant 2015 US$)\n",
       "NV.IND.MANF.KD.ZG     Manufacturing, value added (annual % growth)\n",
       "NV.IND.MANF.ZS        Manufacturing, value added (% of GDP)\n",
       "NV.IND.TOTL.KD        Industry (including construction), value added (constant 2015 US$)\n",
       "NV.IND.TOTL.KD.ZG     Industry (including construction), value added (annual % growth)\n",
       "NV.IND.TOTL.ZS        Industry (including construction), value added (% of GDP)\n",
       "NY.GDP.MKTP.KD.ZG     GDP growth (annual %)\n",
       "NY.GDP.PCAP.KD        GDP per capita (constant 2015 US$)\n",
       "NY.GDP.PCAP.PP.KD     GDP per capita, PPP (constant 2021 international $)\n",
       "SE.ADT.1524.LT.FE.ZS  Literacy rate, youth female (% of females ages 15-24)\n",
       "SE.ADT.1524.LT.MA.ZS  Literacy rate, youth male (% of males ages 15-24)\n",
       "SE.ADT.1524.LT.ZS     Literacy rate, youth total (% of people ages 15-24)\n",
       "SE.ADT.LITR.FE.ZS     Literacy rate, adult female (% of females ages 15 and above)\n",
       "SE.ADT.LITR.MA.ZS     Literacy rate, adult male (% of males ages 15 and above)\n",
       "SE.ADT.LITR.ZS        Literacy rate, adult total (% of people ages 15 and above)\n",
       "SE.ENR.SECO.FM.ZS     School enrollment, secondary (gross), gender parity index (GPI)\n",
       "SE.ENR.TERT.FM.ZS     School enrollment, tertiary (gross), gender parity index (GPI)\n",
       "SE.PRM.CMPT.FE.ZS     Primary completion rate, female (% of relevant age group)\n",
       "SE.PRM.CMPT.MA.ZS     Primary completion rate, male (% of relevant age group)\n",
       "SE.PRM.CMPT.ZS        Primary completion rate, total (% of relevant age group)\n",
       "SE.PRM.ENRR           School enrollment, primary (% gross)\n",
       "SE.PRM.ENRR.FE        School enrollment, primary, female (% gross)\n",
       "SE.PRM.ENRR.MA        School enrollment, primary, male (% gross)\n",
       "SE.SEC.ENRR           School enrollment, secondary (% gross)\n",
       "SE.SEC.ENRR.FE        School enrollment, secondary, female (% gross)\n",
       "SE.SEC.ENRR.MA        School enrollment, secondary, male (% gross)\n",
       "SE.TER.ENRR           School enrollment, tertiary (% gross)\n",
       "SE.TER.ENRR.FE        School enrollment, tertiary, female (% gross)\n",
       "SE.TER.ENRR.MA        School enrollment, tertiary, male (% gross)\n",
       "SE.XPD.TOTL.GD.ZS     Government expenditure on education, total (% of GDP)\n",
       "SH.DYN.AIDS.ZS        Prevalence of HIV, total (% of population ages 15-49)\n",
       "SH.MMR.RISK.ZS        Lifetime risk of maternal death (%)\n",
       "SI.POV.DDAY           Poverty headcount ratio at $2.15 a day (2017 PPP) (% of population)\n",
       "SI.POV.GINI           Gini index\n",
       "SL.AGR.EMPL.FE.ZS     Employment in agriculture, female (% of female employment) (modeled ILO estimate)\n",
       "SL.AGR.EMPL.MA.ZS     Employment in agriculture, male (% of male employment) (modeled ILO estimate)\n",
       "SL.AGR.EMPL.ZS        Employment in agriculture (% of total employment) (modeled ILO estimate)\n",
       "SL.EMP.MPYR.FE.ZS     Employers, female (% of female employment) (modeled ILO estimate)\n",
       "SL.EMP.MPYR.MA.ZS     Employers, male (% of male employment) (modeled ILO estimate)\n",
       "SL.EMP.MPYR.ZS        Employers, total (% of total employment) (modeled ILO estimate)\n",
       "SL.EMP.OWAC.FE.ZS     Own-account workers, female (% of female employment) (modeled ILO estimate)\n",
       "SL.EMP.OWAC.MA.ZS     Own-account workers, male (% of male employment) (modeled ILO estimate)\n",
       "SL.EMP.OWAC.ZS        Own-account workers, total (% of total employment)\n",
       "SL.EMP.SELF.FE.ZS     Self-employed, female (% of female employment) (modeled ILO estimate)\n",
       "SL.EMP.SELF.MA.ZS     Self-employed, male (% of male employment) (modeled ILO estimate)\n",
       "SL.EMP.SELF.ZS        Self-employed, total (% of total employment) (modeled ILO estimate)\n",
       "SL.EMP.TOTL           Number of people employed\n",
       "SL.EMP.VULN.FE.ZS     Vulnerable employment, female (% of female employment) (modeled ILO estimate)\n",
       "SL.EMP.VULN.MA.ZS     Vulnerable employment, male (% of male employment) (modeled ILO estimate)\n",
       "SL.EMP.VULN.ZS        Vulnerable employment, total (% of total employment) (modeled ILO estimate)\n",
       "SL.EMP.WORK.FE.ZS     Wage and salaried workers, female (% of female employment) (modeled ILO estimate)\n",
       "SL.EMP.WORK.MA.ZS     Wage and salaried workers, male (% of male employment) (modeled ILO estimate)\n",
       "SL.EMP.WORK.ZS        Wage and salaried workers, total (% of total employment) (modeled ILO estimate)\n",
       "SL.FAM.WORK.FE.ZS     Contributing family workers, female (% of female employment) (modeled ILO estimate)\n",
       "SL.FAM.WORK.MA.ZS     Contributing family workers, male (% of male employment) (modeled ILO estimate)\n",
       "SL.FAM.WORK.ZS        Contributing family workers, total (% of total employment) (modeled ILO estimate)\n",
       "SL.GDP.PCAP.EM.KD     GDP per person employed (constant 2021 PPP $)\n",
       "SL.IND.EMPL.FE.ZS     Employment in industry, female (% of female employment) (modeled ILO estimate)\n",
       "SL.IND.EMPL.MA.ZS     Employment in industry, male (% of male employment) (modeled ILO estimate)\n",
       "SL.IND.EMPL.ZS        Employment in industry (% of total employment) (modeled ILO estimate)\n",
       "SL.SRV.EMPL.FE.ZS     Employment in services, female (% of female employment) (modeled ILO estimate)\n",
       "SL.SRV.EMPL.MA.ZS     Employment in services, male (% of male employment) (modeled ILO estimate)\n",
       "SL.SRV.EMPL.ZS        Employment in services (% of total employment) (modeled ILO estimate)\n",
       "SL.TLF.ADVN.FE.ZS     Labor force with advanced education, female (% of female working-age population with advanced education)\n",
       "SL.TLF.ADVN.MA.ZS     Labor force with advanced education, male (% of male working-age population with advanced education)\n",
       "SL.TLF.ADVN.ZS        Labor force with advanced education (% of total working-age population with advanced education)\n",
       "SL.TLF.BASC.FE.ZS     Labor force with basic education, female (% of female working-age population with basic education)\n",
       "SL.TLF.BASC.MA.ZS     Labor force with basic education, male (% of male working-age population with basic education)\n",
       "SL.TLF.BASC.ZS        Labor force with basic education (% of total working-age population with basic education)\n",
       "SL.TLF.CACT.FE.ZS     Labor force participation rate, female (% of female population ages 15+) (modeled ILO estimate)\n",
       "SL.TLF.CACT.MA.ZS     Labor force participation rate, male (% of male population ages 15+) (modeled ILO estimate)\n",
       "SL.TLF.CACT.ZS        Labor force participation rate, total (% of total population ages 15+) (modeled ILO estimate)\n",
       "SL.TLF.INTM.FE.ZS     Labor force with intermediate education, female (% of female working-age population with intermediate education)\n",
       "SL.TLF.INTM.MA.ZS     Labor force with intermediate education, male (% of male working-age population with intermediate education)\n",
       "SL.TLF.INTM.ZS        Labor force with intermediate education (% of total working-age population with intermediate education)\n",
       "SL.TLF.TOTL.IN        Labor force, total\n",
       "SL.UEM.1524.FE.ZS     Unemployment, youth female (% of female labor force ages 15-24) (modeled ILO estimate)\n",
       "SL.UEM.1524.MA.ZS     Unemployment, youth male (% of male labor force ages 15-24) (modeled ILO estimate)\n",
       "SL.UEM.1524.ZS        Unemployment, youth total (% of total labor force ages 15-24) (modeled ILO estimate)\n",
       "SL.UEM.ADVN.FE.ZS     Unemployment with advanced education, female (% of female labor force with advanced education)\n",
       "SL.UEM.ADVN.MA.ZS     Unemployment with advanced education, male (% of male labor force with advanced education)\n",
       "SL.UEM.ADVN.ZS        Unemployment with advanced education (% of total labor force with advanced education)\n",
       "SL.UEM.INTM.FE.ZS     Unemployment with intermediate education, female (% of female labor force with intermediate education)\n",
       "SL.UEM.INTM.MA.ZS     Unemployment with intermediate education, male (% of male labor force with intermediate education)\n",
       "SL.UEM.INTM.ZS        Unemployment with intermediate education (% of total labor force with intermediate education)\n",
       "SL.UEM.TOTL.FE.ZS     Unemployment, female (% of female labor force) (modeled ILO estimate)\n",
       "SL.UEM.TOTL.MA.ZS     Unemployment, male (% of male labor force) (modeled ILO estimate)\n",
       "SL.UEM.TOTL.ZS        Unemployment, total (% of total labor force) (modeled ILO estimate)\n",
       "SM.POP.TOTL.ZS        International migrant stock (% of population)\n",
       "SP.ADO.TFRT           Adolescent fertility rate (births per 1,000 women ages 15-19)\n",
       "SP.DYN.LE00.FE.IN     Life expectancy at birth, female (years)\n",
       "SP.DYN.LE00.MA.IN     Life expectancy at birth, male (years)\n",
       "SP.DYN.TFRT.IN        Fertility rate, total (births per woman)\n",
       "SP.POP.0014.TO        Population ages 0-14, total\n",
       "SP.POP.0014.TO.ZS     Population ages 0-14 (% of total population)\n",
       "SP.POP.1564.TO        Population ages 15-64, total\n",
       "SP.POP.1564.TO.ZS     Population ages 15-64 (% of total population)\n",
       "SP.POP.65UP.TO        Population ages 65 and above, total\n",
       "SP.POP.65UP.TO.ZS     Population ages 65 and above (% of total population)\n",
       "SP.POP.DPND           Age dependency ratio (% of working-age population)\n",
       "SP.POP.GROW           Population growth (annual %)\n",
       "SP.POP.SCIE.RD.P6     Researchers in R&D (per million people)\n",
       "SP.POP.TECH.RD.P6     Technicians in R&D (per million people)\n",
       "SP.POP.TOTL           Population, total\n",
       "SP.RUR.TOTL           Rural population\n",
       "SP.RUR.TOTL.ZS        Rural population (% of total population)\n",
       "SP.URB.TOTL           Urban population\n",
       "SP.URB.TOTL.IN.ZS     Urban population (% of total population)\n",
       "TM.VAL.ICTG.ZS.UN     ICT goods imports (% total goods imports)\n",
       "TX.QTY.MRCH.XD.WD     Export volume index (2015 = 100)\n",
       "TX.VAL.FUEL.ZS.UN     Fuel exports (% of merchandise exports)\n",
       "TX.VAL.MRCH.XD.WD     Export value index (2015 = 100)\n",
       "TX.VAL.TECH.MF.ZS     High-technology exports (% of manufactured exports)"
      ]
     },
     "execution_count": 12,
     "metadata": {},
     "output_type": "execute_result"
    }
   ],
   "source": [
    "wbdata.get_indicators(source=25)"
   ]
  },
  {
   "cell_type": "code",
   "execution_count": 25,
   "metadata": {},
   "outputs": [
    {
     "data": {
      "text/plain": [
       "[{'indicator': {'id': 'IC.BUS.NREG',\n",
       "   'value': 'New businesses registered (number)'},\n",
       "  'country': {'id': 'AR', 'value': 'Argentina'},\n",
       "  'countryiso3code': 'ARG',\n",
       "  'date': '2011',\n",
       "  'value': 5828,\n",
       "  'unit': '',\n",
       "  'obs_status': '',\n",
       "  'decimal': 0},\n",
       " {'indicator': {'id': 'IC.BUS.NREG',\n",
       "   'value': 'New businesses registered (number)'},\n",
       "  'country': {'id': 'AR', 'value': 'Argentina'},\n",
       "  'countryiso3code': 'ARG',\n",
       "  'date': '2010',\n",
       "  'value': 5400,\n",
       "  'unit': '',\n",
       "  'obs_status': '',\n",
       "  'decimal': 0},\n",
       " {'indicator': {'id': 'IC.BUS.NREG',\n",
       "   'value': 'New businesses registered (number)'},\n",
       "  'country': {'id': 'CO', 'value': 'Colombia'},\n",
       "  'countryiso3code': 'COL',\n",
       "  'date': '2011',\n",
       "  'value': None,\n",
       "  'unit': '',\n",
       "  'obs_status': '',\n",
       "  'decimal': 0},\n",
       " {'indicator': {'id': 'IC.BUS.NREG',\n",
       "   'value': 'New businesses registered (number)'},\n",
       "  'country': {'id': 'CO', 'value': 'Colombia'},\n",
       "  'countryiso3code': 'COL',\n",
       "  'date': '2010',\n",
       "  'value': None,\n",
       "  'unit': '',\n",
       "  'obs_status': '',\n",
       "  'decimal': 0}]"
      ]
     },
     "execution_count": 25,
     "metadata": {},
     "output_type": "execute_result"
    }
   ],
   "source": [
    "wbdata.get_data(\"IC.BUS.NREG\", country=[\"COL\", \"ARG\"], date=(\"2010\", \"2011\"))"
   ]
  },
  {
   "cell_type": "markdown",
   "metadata": {},
   "source": [
    "#### Ejercicio 2 - Repaso de Pandas\n",
    "Realicen una estadistica descriptiva de ambas series de indicadores comparando los dos países."
   ]
  },
  {
   "cell_type": "code",
   "execution_count": null,
   "metadata": {},
   "outputs": [],
   "source": [
    "# Resolver acá\n"
   ]
  },
  {
   "cell_type": "markdown",
   "metadata": {},
   "source": [
    "#### Ejercicio 3 - Practicando con Matplotlib\n",
    "Armen dos gráficos distintos usando la librería Matplotlib (repasen Clase 4). Uno programandolo con el estilo *pyplot* y otro gráfico de estilo *orientada a objetos*"
   ]
  },
  {
   "cell_type": "code",
   "execution_count": null,
   "metadata": {},
   "outputs": [],
   "source": [
    "# Resolver acá estilo pyplot\n"
   ]
  },
  {
   "cell_type": "code",
   "execution_count": null,
   "metadata": {},
   "outputs": [],
   "source": [
    "# Resolver acá estilo orientado-objetos \n",
    "# Tip: aprovechar este estilo de programar una figura para hacerlo más lindo \n"
   ]
  },
  {
   "cell_type": "markdown",
   "metadata": {},
   "source": [
    "### Parte B"
   ]
  },
  {
   "cell_type": "markdown",
   "metadata": {},
   "source": [
    "#### Ejercicio 4\n",
    "De la página de noticias del [diario La Nación](https://www.lanacion.com.ar/) o cualquier diario que les interese, utilicen herramientas de web scraping para obtener los **links** de las noticias de la portada. Guarden los links obtenidos en un dataframe y expórtenlo a un archivo de excel.\n",
    "\n",
    "Nota 1: es posible que logren obtener los links a las noticias sin el dominio: \"https://www.lanacion.com.ar/\". De ser así, concatenen el dominio a la ruta del link obtenido, tal que se obtenga un link al que se pueda acceder. Es decir, que las cadenas de caracteres finales tendrán la forma: https://www.lanacion.com.ar/*texto_obtenido*)\n",
    "\n",
    "Nota 2: junto con su entrega, adjunten una captura de la página de noticias al momento de correr su código. Eso servirá al momento de la corrección para verificar que los links obtenidos hacen referencia a las noticias de ese día y hora."
   ]
  },
  {
   "cell_type": "code",
   "execution_count": null,
   "metadata": {},
   "outputs": [],
   "source": [
    "# Resolver acá\n"
   ]
  }
 ],
 "metadata": {
  "anaconda-cloud": {},
  "colab": {
   "name": "TP1 - Parte 1.ipynb",
   "provenance": []
  },
  "kernelspec": {
   "display_name": "Python [conda env:base] *",
   "language": "python",
   "name": "conda-base-py"
  },
  "language_info": {
   "codemirror_mode": {
    "name": "ipython",
    "version": 3
   },
   "file_extension": ".py",
   "mimetype": "text/x-python",
   "name": "python",
   "nbconvert_exporter": "python",
   "pygments_lexer": "ipython3",
   "version": "3.12.7"
  }
 },
 "nbformat": 4,
 "nbformat_minor": 4
}
